{
 "cells": [
  {
   "cell_type": "code",
   "execution_count": 1,
   "id": "72fdcb06",
   "metadata": {},
   "outputs": [
    {
     "name": "stderr",
     "output_type": "stream",
     "text": [
      "C:\\Users\\szmid\\AppData\\Local\\Packages\\PythonSoftwareFoundation.Python.3.13_qbz5n2kfra8p0\\LocalCache\\local-packages\\Python313\\site-packages\\tqdm\\auto.py:21: TqdmWarning: IProgress not found. Please update jupyter and ipywidgets. See https://ipywidgets.readthedocs.io/en/stable/user_install.html\n",
      "  from .autonotebook import tqdm as notebook_tqdm\n"
     ]
    }
   ],
   "source": [
    "import sys, os\n",
    "import pickle\n",
    "\n",
    "import pandas as pd\n",
    "from itertools import combinations\n",
    "\n",
    "from github import Github\n",
    "\n",
    "sys.path.append(os.path.abspath('package'))\n",
    "\n",
    "from package.graph import KnowledgeGraphBuilder"
   ]
  },
  {
   "cell_type": "markdown",
   "id": "48f296ee",
   "metadata": {},
   "source": [
    "## Build knowledge graph"
   ]
  },
  {
   "cell_type": "code",
   "execution_count": 2,
   "id": "c50ba155",
   "metadata": {},
   "outputs": [],
   "source": [
    "with open ('./_/git_token.txt', 'r') as f:\n",
    "    git_token = f.read().strip()\n",
    "\n",
    "kgb = KnowledgeGraphBuilder(git_token)"
   ]
  },
  {
   "cell_type": "code",
   "execution_count": null,
   "id": "fbf28143",
   "metadata": {},
   "outputs": [],
   "source": [
    "# Only create the graph to the feature extraction repository for faster workflow and visualization\n",
    "repograph = kgb.build_knowledge_graph(\n",
    "    repo_name='scikit-learn/scikit-learn',\n",
    "    graph_type='CFG',\n",
    "    num_of_PRs=3,\n",
    "    repo_path_modifier='sklearn/manifold'\n",
    ")"
   ]
  },
  {
   "cell_type": "code",
   "execution_count": 4,
   "id": "7d218c8c",
   "metadata": {},
   "outputs": [
    {
     "data": {
      "text/plain": [
       "dict_keys(['function_nodes', 'function_edges', 'subgraph_nodes', 'subgraph_edges', 'subgraph_function_edges', 'function_subgraph_edges', 'import_nodes', 'import_function_edges', 'pr_nodes', 'pr_function_edges', 'issue_nodes', 'issue_pr_edges', 'artifacts', 'actions'])"
      ]
     },
     "execution_count": 4,
     "metadata": {},
     "output_type": "execute_result"
    }
   ],
   "source": [
    "repograph.keys()"
   ]
  },
  {
   "cell_type": "code",
   "execution_count": 13,
   "id": "e89ab53f",
   "metadata": {},
   "outputs": [
    {
     "data": {
      "text/html": [
       "<div>\n",
       "<style scoped>\n",
       "    .dataframe tbody tr th:only-of-type {\n",
       "        vertical-align: middle;\n",
       "    }\n",
       "\n",
       "    .dataframe tbody tr th {\n",
       "        vertical-align: top;\n",
       "    }\n",
       "\n",
       "    .dataframe thead th {\n",
       "        text-align: right;\n",
       "    }\n",
       "</style>\n",
       "<table border=\"1\" class=\"dataframe\">\n",
       "  <thead>\n",
       "    <tr style=\"text-align: right;\">\n",
       "      <th></th>\n",
       "      <th>name</th>\n",
       "      <th>path</th>\n",
       "      <th>triggers</th>\n",
       "      <th>platforms</th>\n",
       "      <th>actions_used</th>\n",
       "    </tr>\n",
       "  </thead>\n",
       "  <tbody>\n",
       "    <tr>\n",
       "      <th>0</th>\n",
       "      <td>Unassign</td>\n",
       "      <td>.github/workflows/unassign.yml</td>\n",
       "      <td>None</td>\n",
       "      <td>[ubuntu-latest]</td>\n",
       "      <td>[]</td>\n",
       "    </tr>\n",
       "    <tr>\n",
       "      <th>1</th>\n",
       "      <td>Wheel builder</td>\n",
       "      <td>.github/workflows/wheels.yml</td>\n",
       "      <td>None</td>\n",
       "      <td>[ubuntu-latest, ${{ matrix.os }}]</td>\n",
       "      <td>[conda-incubator/setup-miniconda@v3, actions/c...</td>\n",
       "    </tr>\n",
       "    <tr>\n",
       "      <th>2</th>\n",
       "      <td>Pull Request Labeler</td>\n",
       "      <td>.github/workflows/labeler-module.yml</td>\n",
       "      <td>None</td>\n",
       "      <td>[ubuntu-latest]</td>\n",
       "      <td>[thomasjpfan/labeler@v2.5.1]</td>\n",
       "    </tr>\n",
       "    <tr>\n",
       "      <th>3</th>\n",
       "      <td>Pull Request Regex Title Labeler</td>\n",
       "      <td>.github/workflows/labeler-title-regex.yml</td>\n",
       "      <td>None</td>\n",
       "      <td>[ubuntu-24.04]</td>\n",
       "      <td>[actions/checkout@v4, actions/setup-python@v5]</td>\n",
       "    </tr>\n",
       "    <tr>\n",
       "      <th>4</th>\n",
       "      <td>Publish to Pypi</td>\n",
       "      <td>.github/workflows/publish_pypi.yml</td>\n",
       "      <td>None</td>\n",
       "      <td>[ubuntu-latest]</td>\n",
       "      <td>[pypa/gh-action-pypi-publish@76f52bc884231f62b...</td>\n",
       "    </tr>\n",
       "    <tr>\n",
       "      <th>5</th>\n",
       "      <td>Check Changelog</td>\n",
       "      <td>.github/workflows/check-changelog.yml</td>\n",
       "      <td>None</td>\n",
       "      <td>[ubuntu-latest]</td>\n",
       "      <td>[actions/checkout@v4, scientific-python/action...</td>\n",
       "    </tr>\n",
       "    <tr>\n",
       "      <th>6</th>\n",
       "      <td>Codespell</td>\n",
       "      <td>.github/workflows/codespell.yml</td>\n",
       "      <td>None</td>\n",
       "      <td>[ubuntu-latest]</td>\n",
       "      <td>[codespell-project/actions-codespell@v2, actio...</td>\n",
       "    </tr>\n",
       "    <tr>\n",
       "      <th>7</th>\n",
       "      <td>Labels Blank issues</td>\n",
       "      <td>.github/workflows/label-blank-issue.yml</td>\n",
       "      <td>None</td>\n",
       "      <td>[ubuntu-latest]</td>\n",
       "      <td>[andymckay/labeler@1.0.4]</td>\n",
       "    </tr>\n",
       "    <tr>\n",
       "      <th>8</th>\n",
       "      <td>Update tracking issue</td>\n",
       "      <td>.github/workflows/update_tracking_issue.yml</td>\n",
       "      <td>None</td>\n",
       "      <td>[ubuntu-latest]</td>\n",
       "      <td>[actions/checkout@v4, actions/setup-python@v5]</td>\n",
       "    </tr>\n",
       "    <tr>\n",
       "      <th>9</th>\n",
       "      <td>CircleCI artifacts redirector</td>\n",
       "      <td>.github/workflows/artifact-redirector.yml</td>\n",
       "      <td>None</td>\n",
       "      <td>[ubuntu-latest]</td>\n",
       "      <td>[scientific-python/circleci-artifacts-redirect...</td>\n",
       "    </tr>\n",
       "    <tr>\n",
       "      <th>10</th>\n",
       "      <td>Linter</td>\n",
       "      <td>.github/workflows/lint.yml</td>\n",
       "      <td>None</td>\n",
       "      <td>[ubuntu-latest]</td>\n",
       "      <td>[actions/checkout@v4, actions/upload-artifact@...</td>\n",
       "    </tr>\n",
       "    <tr>\n",
       "      <th>11</th>\n",
       "      <td>Update lock files</td>\n",
       "      <td>.github/workflows/update-lock-files.yml</td>\n",
       "      <td>None</td>\n",
       "      <td>[ubuntu-latest]</td>\n",
       "      <td>[peter-evans/create-pull-request@v7, actions/c...</td>\n",
       "    </tr>\n",
       "    <tr>\n",
       "      <th>12</th>\n",
       "      <td>CodeQL</td>\n",
       "      <td>.github/workflows/codeql.yml</td>\n",
       "      <td>None</td>\n",
       "      <td>[ubuntu-latest]</td>\n",
       "      <td>[github/codeql-action/init@v3, actions/checkou...</td>\n",
       "    </tr>\n",
       "    <tr>\n",
       "      <th>13</th>\n",
       "      <td>Check sdist</td>\n",
       "      <td>.github/workflows/check-sdist.yml</td>\n",
       "      <td>None</td>\n",
       "      <td>[ubuntu-latest]</td>\n",
       "      <td>[actions/checkout@v4, actions/setup-python@v5]</td>\n",
       "    </tr>\n",
       "    <tr>\n",
       "      <th>14</th>\n",
       "      <td>Remove \"CUDA CI\" Label</td>\n",
       "      <td>.github/workflows/cuda-label-remover.yml</td>\n",
       "      <td>None</td>\n",
       "      <td>[ubuntu-24.04]</td>\n",
       "      <td>[actions-ecosystem/action-remove-labels@v1]</td>\n",
       "    </tr>\n",
       "    <tr>\n",
       "      <th>15</th>\n",
       "      <td>Test Emscripten/Pyodide build</td>\n",
       "      <td>.github/workflows/emscripten.yml</td>\n",
       "      <td>None</td>\n",
       "      <td>[ubuntu-latest]</td>\n",
       "      <td>[scientific-python/upload-nightly-action@b36e8...</td>\n",
       "    </tr>\n",
       "    <tr>\n",
       "      <th>16</th>\n",
       "      <td>Unit tests</td>\n",
       "      <td>.github/workflows/unit-tests.yml</td>\n",
       "      <td>None</td>\n",
       "      <td>[ubuntu-latest, ${{ matrix.os }}]</td>\n",
       "      <td>[actions/cache@v4, actions/checkout@v4, conda-...</td>\n",
       "    </tr>\n",
       "    <tr>\n",
       "      <th>17</th>\n",
       "      <td>Bot linter comment</td>\n",
       "      <td>.github/workflows/bot-lint-comment.yml</td>\n",
       "      <td>None</td>\n",
       "      <td>[ubuntu-latest]</td>\n",
       "      <td>[actions/download-artifact@v4, actions/checkou...</td>\n",
       "    </tr>\n",
       "  </tbody>\n",
       "</table>\n",
       "</div>"
      ],
      "text/plain": [
       "                                name  \\\n",
       "0                           Unassign   \n",
       "1                      Wheel builder   \n",
       "2               Pull Request Labeler   \n",
       "3   Pull Request Regex Title Labeler   \n",
       "4                    Publish to Pypi   \n",
       "5                    Check Changelog   \n",
       "6                          Codespell   \n",
       "7                Labels Blank issues   \n",
       "8              Update tracking issue   \n",
       "9      CircleCI artifacts redirector   \n",
       "10                            Linter   \n",
       "11                 Update lock files   \n",
       "12                            CodeQL   \n",
       "13                       Check sdist   \n",
       "14            Remove \"CUDA CI\" Label   \n",
       "15     Test Emscripten/Pyodide build   \n",
       "16                        Unit tests   \n",
       "17                Bot linter comment   \n",
       "\n",
       "                                           path triggers  \\\n",
       "0                .github/workflows/unassign.yml     None   \n",
       "1                  .github/workflows/wheels.yml     None   \n",
       "2          .github/workflows/labeler-module.yml     None   \n",
       "3     .github/workflows/labeler-title-regex.yml     None   \n",
       "4            .github/workflows/publish_pypi.yml     None   \n",
       "5         .github/workflows/check-changelog.yml     None   \n",
       "6               .github/workflows/codespell.yml     None   \n",
       "7       .github/workflows/label-blank-issue.yml     None   \n",
       "8   .github/workflows/update_tracking_issue.yml     None   \n",
       "9     .github/workflows/artifact-redirector.yml     None   \n",
       "10                   .github/workflows/lint.yml     None   \n",
       "11      .github/workflows/update-lock-files.yml     None   \n",
       "12                 .github/workflows/codeql.yml     None   \n",
       "13            .github/workflows/check-sdist.yml     None   \n",
       "14     .github/workflows/cuda-label-remover.yml     None   \n",
       "15             .github/workflows/emscripten.yml     None   \n",
       "16             .github/workflows/unit-tests.yml     None   \n",
       "17       .github/workflows/bot-lint-comment.yml     None   \n",
       "\n",
       "                            platforms  \\\n",
       "0                     [ubuntu-latest]   \n",
       "1   [ubuntu-latest, ${{ matrix.os }}]   \n",
       "2                     [ubuntu-latest]   \n",
       "3                      [ubuntu-24.04]   \n",
       "4                     [ubuntu-latest]   \n",
       "5                     [ubuntu-latest]   \n",
       "6                     [ubuntu-latest]   \n",
       "7                     [ubuntu-latest]   \n",
       "8                     [ubuntu-latest]   \n",
       "9                     [ubuntu-latest]   \n",
       "10                    [ubuntu-latest]   \n",
       "11                    [ubuntu-latest]   \n",
       "12                    [ubuntu-latest]   \n",
       "13                    [ubuntu-latest]   \n",
       "14                     [ubuntu-24.04]   \n",
       "15                    [ubuntu-latest]   \n",
       "16  [ubuntu-latest, ${{ matrix.os }}]   \n",
       "17                    [ubuntu-latest]   \n",
       "\n",
       "                                         actions_used  \n",
       "0                                                  []  \n",
       "1   [conda-incubator/setup-miniconda@v3, actions/c...  \n",
       "2                        [thomasjpfan/labeler@v2.5.1]  \n",
       "3      [actions/checkout@v4, actions/setup-python@v5]  \n",
       "4   [pypa/gh-action-pypi-publish@76f52bc884231f62b...  \n",
       "5   [actions/checkout@v4, scientific-python/action...  \n",
       "6   [codespell-project/actions-codespell@v2, actio...  \n",
       "7                           [andymckay/labeler@1.0.4]  \n",
       "8      [actions/checkout@v4, actions/setup-python@v5]  \n",
       "9   [scientific-python/circleci-artifacts-redirect...  \n",
       "10  [actions/checkout@v4, actions/upload-artifact@...  \n",
       "11  [peter-evans/create-pull-request@v7, actions/c...  \n",
       "12  [github/codeql-action/init@v3, actions/checkou...  \n",
       "13     [actions/checkout@v4, actions/setup-python@v5]  \n",
       "14        [actions-ecosystem/action-remove-labels@v1]  \n",
       "15  [scientific-python/upload-nightly-action@b36e8...  \n",
       "16  [actions/cache@v4, actions/checkout@v4, conda-...  \n",
       "17  [actions/download-artifact@v4, actions/checkou...  "
      ]
     },
     "execution_count": 13,
     "metadata": {},
     "output_type": "execute_result"
    }
   ],
   "source": [
    "repograph['actions']"
   ]
  },
  {
   "cell_type": "markdown",
   "id": "0a5b5cf3",
   "metadata": {},
   "source": [
    "## Save and load file"
   ]
  },
  {
   "cell_type": "code",
   "execution_count": null,
   "id": "b90b9578",
   "metadata": {},
   "outputs": [],
   "source": [
    "with open('./_/sklearn_new.pkl', 'wb') as f:\n",
    "    pickle.dump(repograph, f)"
   ]
  },
  {
   "cell_type": "code",
   "execution_count": 14,
   "id": "2df1cb6c",
   "metadata": {},
   "outputs": [],
   "source": [
    "with open('_/sklearn_new.pkl', 'rb') as f:\n",
    "    repograph = pickle.load(f)"
   ]
  },
  {
   "cell_type": "markdown",
   "id": "f6713aac",
   "metadata": {},
   "source": [
    "## Visualize graph"
   ]
  },
  {
   "cell_type": "code",
   "execution_count": 12,
   "id": "6b60fee9",
   "metadata": {},
   "outputs": [
    {
     "name": "stdout",
     "output_type": "stream",
     "text": [
      "Filtered sklearn graph. visualization saved to filtered_graph.html\n"
     ]
    },
    {
     "data": {
      "text/plain": [
       "<networkx.classes.graph.Graph at 0x1d5852e87d0>"
      ]
     },
     "execution_count": 12,
     "metadata": {},
     "output_type": "execute_result"
    }
   ],
   "source": [
    "kgb.visualize_graph(repograph, show_subgraph_nodes=False)"
   ]
  },
  {
   "cell_type": "markdown",
   "id": "126ddca6",
   "metadata": {},
   "source": [
    "## Save to Neo4j"
   ]
  },
  {
   "cell_type": "code",
   "execution_count": 14,
   "id": "2bc78a87",
   "metadata": {},
   "outputs": [],
   "source": [
    "kgb.store_knowledge_graph_in_neo4j(\n",
    "    \"neo4j://127.0.0.1:7687\",\n",
    "    \"neo4j\",\n",
    "    \"password\",\n",
    "    repograph\n",
    ")"
   ]
  }
 ],
 "metadata": {
  "kernelspec": {
   "display_name": "Python 3",
   "language": "python",
   "name": "python3"
  },
  "language_info": {
   "codemirror_mode": {
    "name": "ipython",
    "version": 3
   },
   "file_extension": ".py",
   "mimetype": "text/x-python",
   "name": "python",
   "nbconvert_exporter": "python",
   "pygments_lexer": "ipython3",
   "version": "3.13.7"
  }
 },
 "nbformat": 4,
 "nbformat_minor": 5
}
