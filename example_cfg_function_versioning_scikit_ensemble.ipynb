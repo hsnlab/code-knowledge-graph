{
 "cells": [
  {
   "cell_type": "markdown",
   "id": "376cf954",
   "metadata": {},
   "source": [
    "\n",
    "# CFG + FunctionVersioning — **scikit-learn / sklearn/ensemble** (minimál teszt)\n",
    "\n",
    "Ez a notebook **csak a `sklearn/ensemble`** mappára épít **CFG**-t, majd ugyanannak a repo-nak a gyökerén (`repos/scikit-learn`) futtatja a `FunctionVersioning`-et.  \n",
    "Nincs embedding, nincs HF token igény.\n"
   ]
  },
  {
   "cell_type": "code",
   "execution_count": 1,
   "id": "22a594b4",
   "metadata": {},
   "outputs": [
    {
     "name": "stderr",
     "output_type": "stream",
     "text": [
      "c:\\Szakdolgozat\\code-knowledge-graph\\venv\\Lib\\site-packages\\tqdm\\auto.py:21: TqdmWarning: IProgress not found. Please update jupyter and ipywidgets. See https://ipywidgets.readthedocs.io/en/stable/user_install.html\n",
      "  from .autonotebook import tqdm as notebook_tqdm\n"
     ]
    },
    {
     "name": "stdout",
     "output_type": "stream",
     "text": [
      "Imports rendben. PROJECT_ROOT = C:\\Szakdolgozat\\code-knowledge-graph\n"
     ]
    }
   ],
   "source": [
    "\n",
    "# -- Importok és sys.path --\n",
    "import os, sys\n",
    "from pathlib import Path\n",
    "import pandas as pd\n",
    "\n",
    "# Ha az ipynb a projekt gyökerében van (ahol a 'package/' mappa is), akkor ez elég:\n",
    "PROJECT_ROOT = Path.cwd()\n",
    "\n",
    "# Biztosítsuk, hogy a 'package' importálható\n",
    "if str(PROJECT_ROOT) not in sys.path:\n",
    "    sys.path.append(str(PROJECT_ROOT))\n",
    "\n",
    "from package import HierarchicalGraphBuilder, FunctionVersioning\n",
    "\n",
    "print(\"Imports rendben. PROJECT_ROOT =\", PROJECT_ROOT.resolve())\n"
   ]
  },
  {
   "cell_type": "code",
   "execution_count": 2,
   "id": "a0d51030",
   "metadata": {},
   "outputs": [
    {
     "name": "stdout",
     "output_type": "stream",
     "text": [
      "REPO_ROOT     = C:\\Szakdolgozat\\code-knowledge-graph\\repos\\scikit-learn\n",
      "ANALYSIS_PATH = C:\\Szakdolgozat\\code-knowledge-graph\\repos\\scikit-learn\\sklearn\\ensemble\n"
     ]
    }
   ],
   "source": [
    "\n",
    "# -- Útvonalak beállítása --\n",
    "# A klónozott scikit-learn repo:\n",
    "REPO_ROOT = PROJECT_ROOT / \"repos\" / \"scikit-learn\"\n",
    "\n",
    "# Csak az 'sklearn/ensemble' mappa elemzése CFG-hez:\n",
    "ANALYSIS_PATH = REPO_ROOT / \"sklearn\" / \"ensemble\"\n",
    "\n",
    "# Ellenőrzések\n",
    "assert REPO_ROOT.is_dir(), f\"Nem találom a repo gyökerét: {REPO_ROOT}\"\n",
    "assert ANALYSIS_PATH.is_dir(), f\"Nem találom az elemzendő mappát: {ANALYSIS_PATH}\"\n",
    "\n",
    "print(\"REPO_ROOT     =\", REPO_ROOT.resolve())\n",
    "print(\"ANALYSIS_PATH =\", ANALYSIS_PATH.resolve())\n"
   ]
  },
  {
   "cell_type": "code",
   "execution_count": 3,
   "id": "628bf222",
   "metadata": {},
   "outputs": [
    {
     "name": "stdout",
     "output_type": "stream",
     "text": [
      "Building CG...\n",
      "Creating subgraphs for each function...\n"
     ]
    },
    {
     "name": "stderr",
     "output_type": "stream",
     "text": [
      "8it [00:00, 75.14it/s]"
     ]
    },
    {
     "name": "stdout",
     "output_type": "stream",
     "text": [
      "Error creating CFG. Returning empty DataFrames.\n",
      "Error creating CFG. Returning empty DataFrames.\n",
      "Error creating CFG. Returning empty DataFrames.\n",
      "Error creating CFG. Returning empty DataFrames.\n",
      "Error creating CFG. Returning empty DataFrames.\n",
      "Error creating CFG. Returning empty DataFrames.\n",
      "Error creating CFG. Returning empty DataFrames.\n",
      "Error creating CFG. Returning empty DataFrames.\n",
      "Error creating CFG. Returning empty DataFrames.\n",
      "Error creating CFG. Returning empty DataFrames.\n",
      "Error creating CFG. Returning empty DataFrames.\n",
      "Error creating CFG. Returning empty DataFrames.\n",
      "Error creating CFG. Returning empty DataFrames.\n",
      "Error creating CFG. Returning empty DataFrames.\n",
      "Error creating CFG. Returning empty DataFrames.\n"
     ]
    },
    {
     "name": "stderr",
     "output_type": "stream",
     "text": [
      "25it [00:00, 78.84it/s]"
     ]
    },
    {
     "name": "stdout",
     "output_type": "stream",
     "text": [
      "Error creating CFG. Returning empty DataFrames.\n",
      "Error creating CFG. Returning empty DataFrames.\n",
      "Error creating CFG. Returning empty DataFrames.\n",
      "Error creating CFG. Returning empty DataFrames.\n",
      "Error creating CFG. Returning empty DataFrames.\n",
      "Error creating CFG. Returning empty DataFrames.\n",
      "WTF is this thing, build it in?? <class 'ast.Compare'>\n",
      "Error creating CFG. Returning empty DataFrames.\n",
      "Error creating CFG. Returning empty DataFrames.\n",
      "Error creating CFG. Returning empty DataFrames.\n",
      "Error creating CFG. Returning empty DataFrames.\n",
      "Error creating CFG. Returning empty DataFrames.\n",
      "Error creating CFG. Returning empty DataFrames.\n",
      "Error creating CFG. Returning empty DataFrames.\n",
      "Error creating CFG. Returning empty DataFrames.\n",
      "WTF is this thing, build it in?? <class 'ast.Compare'>\n",
      "Error creating CFG. Returning empty DataFrames.\n",
      "Error creating CFG. Returning empty DataFrames.\n",
      "Error creating CFG. Returning empty DataFrames.\n",
      "Error creating CFG. Returning empty DataFrames.\n"
     ]
    },
    {
     "name": "stderr",
     "output_type": "stream",
     "text": [
      "43it [00:00, 83.84it/s]"
     ]
    },
    {
     "name": "stdout",
     "output_type": "stream",
     "text": [
      "Error creating CFG. Returning empty DataFrames.\n",
      "Error creating CFG. Returning empty DataFrames.\n",
      "Error creating CFG. Returning empty DataFrames.\n",
      "Error creating CFG. Returning empty DataFrames.\n",
      "Error creating CFG. Returning empty DataFrames.\n",
      "Error creating CFG. Returning empty DataFrames.\n",
      "Error creating CFG. Returning empty DataFrames.\n",
      "Error creating CFG. Returning empty DataFrames.\n",
      "Error creating CFG. Returning empty DataFrames.\n",
      "Error creating CFG. Returning empty DataFrames.\n",
      "Error creating CFG. Returning empty DataFrames.\n",
      "Error creating CFG. Returning empty DataFrames.\n",
      "Error creating CFG. Returning empty DataFrames.\n",
      "Error creating CFG. Returning empty DataFrames.\n",
      "Error creating CFG. Returning empty DataFrames.\n",
      "Error creating CFG. Returning empty DataFrames.\n"
     ]
    },
    {
     "name": "stderr",
     "output_type": "stream",
     "text": [
      "59it [00:00, 53.87it/s]"
     ]
    },
    {
     "name": "stdout",
     "output_type": "stream",
     "text": [
      "Error creating CFG. Returning empty DataFrames.\n",
      "Error creating CFG. Returning empty DataFrames.\n",
      "Error creating CFG. Returning empty DataFrames.\n",
      "Error creating CFG. Returning empty DataFrames.\n",
      "Error creating CFG. Returning empty DataFrames.\n",
      "Error creating CFG. Returning empty DataFrames.\n",
      "WTF is this thing, build it in?? <class 'ast.Compare'>\n",
      "Error creating CFG. Returning empty DataFrames.\n",
      "Error creating CFG. Returning empty DataFrames.\n",
      "Error creating CFG. Returning empty DataFrames.\n",
      "Error creating CFG. Returning empty DataFrames.\n",
      "Error creating CFG. Returning empty DataFrames.\n",
      "Error creating CFG. Returning empty DataFrames.\n",
      "Error creating CFG. Returning empty DataFrames.\n",
      "Error creating CFG. Returning empty DataFrames.\n",
      "Error creating CFG. Returning empty DataFrames.\n",
      "Error creating CFG. Returning empty DataFrames.\n",
      "Error creating CFG. Returning empty DataFrames.\n"
     ]
    },
    {
     "name": "stderr",
     "output_type": "stream",
     "text": [
      "75it [00:01, 63.10it/s]"
     ]
    },
    {
     "name": "stdout",
     "output_type": "stream",
     "text": [
      "Error creating CFG. Returning empty DataFrames.\n",
      "Error creating CFG. Returning empty DataFrames.\n",
      "Error creating CFG. Returning empty DataFrames.\n",
      "Error creating CFG. Returning empty DataFrames.\n",
      "Error creating CFG. Returning empty DataFrames.\n",
      "Error creating CFG. Returning empty DataFrames.\n",
      "Error creating CFG. Returning empty DataFrames.\n",
      "Error creating CFG. Returning empty DataFrames.\n",
      "Error creating CFG. Returning empty DataFrames.\n",
      "Error creating CFG. Returning empty DataFrames.\n",
      "Error creating CFG. Returning empty DataFrames.\n",
      "Error creating CFG. Returning empty DataFrames.\n",
      "Error creating CFG. Returning empty DataFrames.\n",
      "Error creating CFG. Returning empty DataFrames.\n",
      "Error creating CFG. Returning empty DataFrames.\n",
      "Error creating CFG. Returning empty DataFrames.\n",
      "Error creating CFG. Returning empty DataFrames.\n"
     ]
    },
    {
     "name": "stderr",
     "output_type": "stream",
     "text": [
      "92it [00:01, 70.74it/s]"
     ]
    },
    {
     "name": "stdout",
     "output_type": "stream",
     "text": [
      "Error creating CFG. Returning empty DataFrames.\n",
      "Error creating CFG. Returning empty DataFrames.\n",
      "Error creating CFG. Returning empty DataFrames.\n",
      "Error creating CFG. Returning empty DataFrames.\n",
      "Error creating CFG. Returning empty DataFrames.\n",
      "Error creating CFG. Returning empty DataFrames.\n",
      "Error creating CFG. Returning empty DataFrames.\n",
      "Error creating CFG. Returning empty DataFrames.\n",
      "Error creating CFG. Returning empty DataFrames.\n",
      "Error creating CFG. Returning empty DataFrames.\n",
      "Error creating CFG. Returning empty DataFrames.\n",
      "Error creating CFG. Returning empty DataFrames.\n",
      "Error creating CFG. Returning empty DataFrames.\n",
      "Error creating CFG. Returning empty DataFrames.\n",
      "Error creating CFG. Returning empty DataFrames.\n",
      "Error creating CFG. Returning empty DataFrames.\n"
     ]
    },
    {
     "name": "stderr",
     "output_type": "stream",
     "text": [
      "109it [00:01, 72.51it/s]"
     ]
    },
    {
     "name": "stdout",
     "output_type": "stream",
     "text": [
      "Error creating CFG. Returning empty DataFrames.\n",
      "Error creating CFG. Returning empty DataFrames.\n",
      "Error creating CFG. Returning empty DataFrames.\n",
      "Error creating CFG. Returning empty DataFrames.\n",
      "Error creating CFG. Returning empty DataFrames.\n",
      "Error creating CFG. Returning empty DataFrames.\n",
      "Error creating CFG. Returning empty DataFrames.\n",
      "Error creating CFG. Returning empty DataFrames.\n",
      "Error creating CFG. Returning empty DataFrames.\n",
      "Error creating CFG. Returning empty DataFrames.\n",
      "Error creating CFG. Returning empty DataFrames.\n",
      "Error creating CFG. Returning empty DataFrames.\n",
      "Error creating CFG. Returning empty DataFrames.\n",
      "Error creating CFG. Returning empty DataFrames.\n",
      "Error creating CFG. Returning empty DataFrames.\n",
      "Error creating CFG. Returning empty DataFrames.\n"
     ]
    },
    {
     "name": "stderr",
     "output_type": "stream",
     "text": [
      "127it [00:01, 79.36it/s]"
     ]
    },
    {
     "name": "stdout",
     "output_type": "stream",
     "text": [
      "Error creating CFG. Returning empty DataFrames.\n",
      "Error creating CFG. Returning empty DataFrames.\n",
      "Error creating CFG. Returning empty DataFrames.\n",
      "Error creating CFG. Returning empty DataFrames.\n",
      "Error creating CFG. Returning empty DataFrames.\n",
      "Error creating CFG. Returning empty DataFrames.\n",
      "Error creating CFG. Returning empty DataFrames.\n",
      "Error creating CFG. Returning empty DataFrames.\n",
      "Error creating CFG. Returning empty DataFrames.\n",
      "WTF is this thing, build it in?? <class 'ast.Compare'>\n",
      "Error creating CFG. Returning empty DataFrames.\n",
      "WTF is this thing, build it in?? <class 'ast.Compare'>\n",
      "Error creating CFG. Returning empty DataFrames.\n",
      "Error creating CFG. Returning empty DataFrames.\n",
      "Error creating CFG. Returning empty DataFrames.\n",
      "Error creating CFG. Returning empty DataFrames.\n",
      "Error creating CFG. Returning empty DataFrames.\n",
      "Error creating CFG. Returning empty DataFrames.\n",
      "Error creating CFG. Returning empty DataFrames.\n",
      "Error creating CFG. Returning empty DataFrames.\n",
      "Error creating CFG. Returning empty DataFrames.\n",
      "Error creating CFG. Returning empty DataFrames.\n",
      "Error creating CFG. Returning empty DataFrames.\n"
     ]
    },
    {
     "name": "stderr",
     "output_type": "stream",
     "text": [
      "146it [00:02, 82.87it/s]"
     ]
    },
    {
     "name": "stdout",
     "output_type": "stream",
     "text": [
      "Error creating CFG. Returning empty DataFrames.\n",
      "Error creating CFG. Returning empty DataFrames.\n",
      "Error creating CFG. Returning empty DataFrames.\n",
      "Error creating CFG. Returning empty DataFrames.\n",
      "Error creating CFG. Returning empty DataFrames.\n",
      "Error creating CFG. Returning empty DataFrames.\n",
      "Error creating CFG. Returning empty DataFrames.\n",
      "Error creating CFG. Returning empty DataFrames.\n",
      "Error creating CFG. Returning empty DataFrames.\n",
      "Error creating CFG. Returning empty DataFrames.\n",
      "Error creating CFG. Returning empty DataFrames.\n",
      "Error creating CFG. Returning empty DataFrames.\n",
      "Error creating CFG. Returning empty DataFrames.\n",
      "Error creating CFG. Returning empty DataFrames.\n",
      "Error creating CFG. Returning empty DataFrames.\n",
      "Error creating CFG. Returning empty DataFrames.\n"
     ]
    },
    {
     "name": "stderr",
     "output_type": "stream",
     "text": [
      "164it [00:02, 77.98it/s]"
     ]
    },
    {
     "name": "stdout",
     "output_type": "stream",
     "text": [
      "Error creating CFG. Returning empty DataFrames.\n",
      "Error creating CFG. Returning empty DataFrames.\n",
      "Error creating CFG. Returning empty DataFrames.\n",
      "Error creating CFG. Returning empty DataFrames.\n",
      "Error creating CFG. Returning empty DataFrames.\n",
      "Error creating CFG. Returning empty DataFrames.\n",
      "Error creating CFG. Returning empty DataFrames.\n",
      "Error creating CFG. Returning empty DataFrames.\n",
      "Error creating CFG. Returning empty DataFrames.\n",
      "Error creating CFG. Returning empty DataFrames.\n",
      "Error creating CFG. Returning empty DataFrames.\n",
      "Error creating CFG. Returning empty DataFrames.\n",
      "Error creating CFG. Returning empty DataFrames.\n",
      "Error creating CFG. Returning empty DataFrames.\n",
      "Error creating CFG. Returning empty DataFrames.\n",
      "Error creating CFG. Returning empty DataFrames.\n"
     ]
    },
    {
     "name": "stderr",
     "output_type": "stream",
     "text": [
      "182it [00:02, 79.22it/s]"
     ]
    },
    {
     "name": "stdout",
     "output_type": "stream",
     "text": [
      "Error creating CFG. Returning empty DataFrames.\n",
      "Error creating CFG. Returning empty DataFrames.\n",
      "Error creating CFG. Returning empty DataFrames.\n",
      "Error creating CFG. Returning empty DataFrames.\n",
      "Error creating CFG. Returning empty DataFrames.\n",
      "Error creating CFG. Returning empty DataFrames.\n",
      "Error creating CFG. Returning empty DataFrames.\n",
      "Error creating CFG. Returning empty DataFrames.\n",
      "Error creating CFG. Returning empty DataFrames.\n",
      "Error creating CFG. Returning empty DataFrames.\n",
      "Error creating CFG. Returning empty DataFrames.\n",
      "Error creating CFG. Returning empty DataFrames.\n",
      "Error creating CFG. Returning empty DataFrames.\n",
      "Error creating CFG. Returning empty DataFrames.\n",
      "Error creating CFG. Returning empty DataFrames.\n",
      "Error creating CFG. Returning empty DataFrames.\n"
     ]
    },
    {
     "name": "stderr",
     "output_type": "stream",
     "text": [
      "199it [00:02, 79.55it/s]"
     ]
    },
    {
     "name": "stdout",
     "output_type": "stream",
     "text": [
      "Error creating CFG. Returning empty DataFrames.\n",
      "Error creating CFG. Returning empty DataFrames.\n",
      "Error creating CFG. Returning empty DataFrames.\n",
      "Error creating CFG. Returning empty DataFrames.\n",
      "Error creating CFG. Returning empty DataFrames.\n",
      "Error creating CFG. Returning empty DataFrames.\n",
      "Error creating CFG. Returning empty DataFrames.\n",
      "Error creating CFG. Returning empty DataFrames.\n",
      "Error creating CFG. Returning empty DataFrames.\n",
      "Error creating CFG. Returning empty DataFrames.\n",
      "Error creating CFG. Returning empty DataFrames.\n",
      "Error creating CFG. Returning empty DataFrames.\n",
      "Error creating CFG. Returning empty DataFrames.\n",
      "Error creating CFG. Returning empty DataFrames.\n",
      "Error creating CFG. Returning empty DataFrames.\n",
      "Error creating CFG. Returning empty DataFrames.\n",
      "Error creating CFG. Returning empty DataFrames.\n"
     ]
    },
    {
     "name": "stderr",
     "output_type": "stream",
     "text": [
      "215it [00:02, 76.54it/s]"
     ]
    },
    {
     "name": "stdout",
     "output_type": "stream",
     "text": [
      "Error creating CFG. Returning empty DataFrames.\n",
      "Error creating CFG. Returning empty DataFrames.\n",
      "Error creating CFG. Returning empty DataFrames.\n",
      "Error creating CFG. Returning empty DataFrames.\n",
      "Error creating CFG. Returning empty DataFrames.\n",
      "Error creating CFG. Returning empty DataFrames.\n",
      "Error creating CFG. Returning empty DataFrames.\n",
      "Error creating CFG. Returning empty DataFrames.\n",
      "Error creating CFG. Returning empty DataFrames.\n",
      "Error creating CFG. Returning empty DataFrames.\n",
      "Error creating CFG. Returning empty DataFrames.\n",
      "Error creating CFG. Returning empty DataFrames.\n",
      "Error creating CFG. Returning empty DataFrames.\n",
      "Error creating CFG. Returning empty DataFrames.\n",
      "Error creating CFG. Returning empty DataFrames.\n",
      "Error creating CFG. Returning empty DataFrames.\n"
     ]
    },
    {
     "name": "stderr",
     "output_type": "stream",
     "text": [
      "233it [00:03, 77.88it/s]"
     ]
    },
    {
     "name": "stdout",
     "output_type": "stream",
     "text": [
      "Error creating CFG. Returning empty DataFrames.\n",
      "Error creating CFG. Returning empty DataFrames.\n",
      "WTF is this thing, build it in?? <class 'ast.BinOp'>\n",
      "Error creating CFG. Returning empty DataFrames.\n",
      "Error creating CFG. Returning empty DataFrames.\n",
      "Error creating CFG. Returning empty DataFrames.\n",
      "Error creating CFG. Returning empty DataFrames.\n",
      "Error creating CFG. Returning empty DataFrames.\n",
      "Error creating CFG. Returning empty DataFrames.\n",
      "Error creating CFG. Returning empty DataFrames.\n",
      "Error creating CFG. Returning empty DataFrames.\n",
      "Error creating CFG. Returning empty DataFrames.\n",
      "Error creating CFG. Returning empty DataFrames.\n",
      "Error creating CFG. Returning empty DataFrames.\n",
      "Error creating CFG. Returning empty DataFrames.\n",
      "Error creating CFG. Returning empty DataFrames.\n",
      "Error creating CFG. Returning empty DataFrames.\n"
     ]
    },
    {
     "name": "stderr",
     "output_type": "stream",
     "text": [
      "241it [00:03, 76.58it/s]"
     ]
    },
    {
     "name": "stdout",
     "output_type": "stream",
     "text": [
      "Error creating CFG. Returning empty DataFrames.\n",
      "Error creating CFG. Returning empty DataFrames.\n",
      "Error creating CFG. Returning empty DataFrames.\n",
      "Error creating CFG. Returning empty DataFrames.\n",
      "Error creating CFG. Returning empty DataFrames.\n",
      "Error creating CFG. Returning empty DataFrames.\n",
      "Error creating CFG. Returning empty DataFrames.\n",
      "Error creating CFG. Returning empty DataFrames.\n",
      "Error creating CFG. Returning empty DataFrames.\n",
      "Error creating CFG. Returning empty DataFrames.\n",
      "Error creating CFG. Returning empty DataFrames.\n",
      "Error creating CFG. Returning empty DataFrames.\n",
      "Error creating CFG. Returning empty DataFrames.\n",
      "Error creating CFG. Returning empty DataFrames.\n"
     ]
    },
    {
     "name": "stderr",
     "output_type": "stream",
     "text": [
      "258it [00:03, 78.45it/s]"
     ]
    },
    {
     "name": "stdout",
     "output_type": "stream",
     "text": [
      "Error creating CFG. Returning empty DataFrames.\n",
      "Error creating CFG. Returning empty DataFrames.\n",
      "Error creating CFG. Returning empty DataFrames.\n",
      "Error creating CFG. Returning empty DataFrames.\n",
      "Error creating CFG. Returning empty DataFrames.\n",
      "Error creating CFG. Returning empty DataFrames.\n",
      "Error creating CFG. Returning empty DataFrames.\n",
      "Error creating CFG. Returning empty DataFrames.\n",
      "Error creating CFG. Returning empty DataFrames.\n",
      "Error creating CFG. Returning empty DataFrames.\n",
      "Error creating CFG. Returning empty DataFrames.\n",
      "Error creating CFG. Returning empty DataFrames.\n",
      "Error creating CFG. Returning empty DataFrames.\n",
      "Error creating CFG. Returning empty DataFrames.\n",
      "Error creating CFG. Returning empty DataFrames.\n",
      "Error creating CFG. Returning empty DataFrames.\n",
      "Error creating CFG. Returning empty DataFrames.\n",
      "Error creating CFG. Returning empty DataFrames.\n"
     ]
    },
    {
     "name": "stderr",
     "output_type": "stream",
     "text": [
      "276it [00:03, 80.12it/s]"
     ]
    },
    {
     "name": "stdout",
     "output_type": "stream",
     "text": [
      "Error creating CFG. Returning empty DataFrames.\n",
      "Error creating CFG. Returning empty DataFrames.\n",
      "Error creating CFG. Returning empty DataFrames.\n",
      "Error creating CFG. Returning empty DataFrames.\n",
      "Error creating CFG. Returning empty DataFrames.\n",
      "Error creating CFG. Returning empty DataFrames.\n",
      "Error creating CFG. Returning empty DataFrames.\n",
      "Error creating CFG. Returning empty DataFrames.\n",
      "Error creating CFG. Returning empty DataFrames.\n",
      "Error creating CFG. Returning empty DataFrames.\n",
      "Error creating CFG. Returning empty DataFrames.\n",
      "Error creating CFG. Returning empty DataFrames.\n",
      "Error creating CFG. Returning empty DataFrames.\n",
      "Error creating CFG. Returning empty DataFrames.\n",
      "Error creating CFG. Returning empty DataFrames.\n",
      "Error creating CFG. Returning empty DataFrames.\n",
      "Error creating CFG. Returning empty DataFrames.\n",
      "Error creating CFG. Returning empty DataFrames.\n",
      "Error creating CFG. Returning empty DataFrames.\n"
     ]
    },
    {
     "name": "stderr",
     "output_type": "stream",
     "text": [
      "294it [00:03, 73.51it/s]"
     ]
    },
    {
     "name": "stdout",
     "output_type": "stream",
     "text": [
      "Error creating CFG. Returning empty DataFrames.\n",
      "Error creating CFG. Returning empty DataFrames.\n",
      "Error creating CFG. Returning empty DataFrames.\n",
      "Error creating CFG. Returning empty DataFrames.\n",
      "Error creating CFG. Returning empty DataFrames.\n",
      "Error creating CFG. Returning empty DataFrames.\n",
      "Error creating CFG. Returning empty DataFrames.\n",
      "Error creating CFG. Returning empty DataFrames.\n",
      "Error creating CFG. Returning empty DataFrames.\n",
      "Error creating CFG. Returning empty DataFrames.\n",
      "Error creating CFG. Returning empty DataFrames.\n",
      "Error creating CFG. Returning empty DataFrames.\n",
      "Error creating CFG. Returning empty DataFrames.\n",
      "Error creating CFG. Returning empty DataFrames.\n"
     ]
    },
    {
     "name": "stderr",
     "output_type": "stream",
     "text": [
      "310it [00:04, 73.52it/s]"
     ]
    },
    {
     "name": "stdout",
     "output_type": "stream",
     "text": [
      "Error creating CFG. Returning empty DataFrames.\n",
      "Error creating CFG. Returning empty DataFrames.\n",
      "Error creating CFG. Returning empty DataFrames.\n",
      "Error creating CFG. Returning empty DataFrames.\n",
      "Error creating CFG. Returning empty DataFrames.\n",
      "Error creating CFG. Returning empty DataFrames.\n",
      "Error creating CFG. Returning empty DataFrames.\n",
      "Error creating CFG. Returning empty DataFrames.\n",
      "Error creating CFG. Returning empty DataFrames.\n",
      "Error creating CFG. Returning empty DataFrames.\n",
      "Error creating CFG. Returning empty DataFrames.\n",
      "Error creating CFG. Returning empty DataFrames.\n",
      "Error creating CFG. Returning empty DataFrames.\n",
      "Error creating CFG. Returning empty DataFrames.\n",
      "Error creating CFG. Returning empty DataFrames.\n"
     ]
    },
    {
     "name": "stderr",
     "output_type": "stream",
     "text": [
      "318it [00:04, 61.14it/s]"
     ]
    },
    {
     "name": "stdout",
     "output_type": "stream",
     "text": [
      "Error creating CFG. Returning empty DataFrames.\n",
      "Error creating CFG. Returning empty DataFrames.\n",
      "Error creating CFG. Returning empty DataFrames.\n",
      "Error creating CFG. Returning empty DataFrames.\n",
      "Error creating CFG. Returning empty DataFrames.\n",
      "Error creating CFG. Returning empty DataFrames.\n",
      "Error creating CFG. Returning empty DataFrames.\n",
      "Error creating CFG. Returning empty DataFrames.\n",
      "Error creating CFG. Returning empty DataFrames.\n",
      "Error creating CFG. Returning empty DataFrames.\n",
      "Error creating CFG. Returning empty DataFrames.\n"
     ]
    },
    {
     "name": "stderr",
     "output_type": "stream",
     "text": [
      "333it [00:04, 67.42it/s]"
     ]
    },
    {
     "name": "stdout",
     "output_type": "stream",
     "text": [
      "Error creating CFG. Returning empty DataFrames.\n",
      "Error creating CFG. Returning empty DataFrames.\n",
      "Error creating CFG. Returning empty DataFrames.\n",
      "Error creating CFG. Returning empty DataFrames.\n",
      "Error creating CFG. Returning empty DataFrames.\n",
      "Error creating CFG. Returning empty DataFrames.\n",
      "Error creating CFG. Returning empty DataFrames.\n",
      "Error creating CFG. Returning empty DataFrames.\n",
      "Error creating CFG. Returning empty DataFrames.\n",
      "Error creating CFG. Returning empty DataFrames.\n",
      "Error creating CFG. Returning empty DataFrames.\n",
      "Error creating CFG. Returning empty DataFrames.\n",
      "Error creating CFG. Returning empty DataFrames.\n",
      "Error creating CFG. Returning empty DataFrames.\n",
      "Error creating CFG. Returning empty DataFrames.\n",
      "Error creating CFG. Returning empty DataFrames.\n",
      "Error creating CFG. Returning empty DataFrames.\n"
     ]
    },
    {
     "name": "stderr",
     "output_type": "stream",
     "text": [
      "350it [00:04, 74.52it/s]"
     ]
    },
    {
     "name": "stdout",
     "output_type": "stream",
     "text": [
      "Error creating CFG. Returning empty DataFrames.\n",
      "Error creating CFG. Returning empty DataFrames.\n",
      "Error creating CFG. Returning empty DataFrames.\n",
      "Error creating CFG. Returning empty DataFrames.\n",
      "Error creating CFG. Returning empty DataFrames.\n",
      "Error creating CFG. Returning empty DataFrames.\n",
      "Error creating CFG. Returning empty DataFrames.\n",
      "Error creating CFG. Returning empty DataFrames.\n",
      "Error creating CFG. Returning empty DataFrames.\n",
      "Error creating CFG. Returning empty DataFrames.\n",
      "Error creating CFG. Returning empty DataFrames.\n",
      "Error creating CFG. Returning empty DataFrames.\n",
      "Error creating CFG. Returning empty DataFrames.\n",
      "Error creating CFG. Returning empty DataFrames.\n",
      "Error creating CFG. Returning empty DataFrames.\n",
      "Error creating CFG. Returning empty DataFrames.\n",
      "Error creating CFG. Returning empty DataFrames.\n"
     ]
    },
    {
     "name": "stderr",
     "output_type": "stream",
     "text": [
      "367it [00:04, 75.02it/s]"
     ]
    },
    {
     "name": "stdout",
     "output_type": "stream",
     "text": [
      "Error creating CFG. Returning empty DataFrames.\n",
      "Error creating CFG. Returning empty DataFrames.\n",
      "Error creating CFG. Returning empty DataFrames.\n",
      "Error creating CFG. Returning empty DataFrames.\n",
      "Error creating CFG. Returning empty DataFrames.\n",
      "Error creating CFG. Returning empty DataFrames.\n",
      "Error creating CFG. Returning empty DataFrames.\n",
      "Error creating CFG. Returning empty DataFrames.\n",
      "Error creating CFG. Returning empty DataFrames.\n",
      "Error creating CFG. Returning empty DataFrames.\n",
      "WTF is this thing, build it in?? <class 'ast.BinOp'>\n",
      "Error creating CFG. Returning empty DataFrames.\n",
      "Error creating CFG. Returning empty DataFrames.\n",
      "Error creating CFG. Returning empty DataFrames.\n",
      "Error creating CFG. Returning empty DataFrames.\n",
      "Error creating CFG. Returning empty DataFrames.\n",
      "Error creating CFG. Returning empty DataFrames.\n"
     ]
    },
    {
     "name": "stderr",
     "output_type": "stream",
     "text": [
      "384it [00:05, 75.44it/s]"
     ]
    },
    {
     "name": "stdout",
     "output_type": "stream",
     "text": [
      "Error creating CFG. Returning empty DataFrames.\n",
      "Error creating CFG. Returning empty DataFrames.\n",
      "Error creating CFG. Returning empty DataFrames.\n",
      "Error creating CFG. Returning empty DataFrames.\n",
      "Error creating CFG. Returning empty DataFrames.\n",
      "Error creating CFG. Returning empty DataFrames.\n",
      "Error creating CFG. Returning empty DataFrames.\n",
      "Error creating CFG. Returning empty DataFrames.\n",
      "Error creating CFG. Returning empty DataFrames.\n",
      "Error creating CFG. Returning empty DataFrames.\n",
      "Error creating CFG. Returning empty DataFrames.\n",
      "Error creating CFG. Returning empty DataFrames.\n",
      "Error creating CFG. Returning empty DataFrames.\n",
      "Error creating CFG. Returning empty DataFrames.\n",
      "Error creating CFG. Returning empty DataFrames.\n",
      "WTF is this thing, build it in?? <class 'ast.Compare'>\n",
      "Error creating CFG. Returning empty DataFrames.\n",
      "Error creating CFG. Returning empty DataFrames.\n"
     ]
    },
    {
     "name": "stderr",
     "output_type": "stream",
     "text": [
      "402it [00:05, 78.06it/s]"
     ]
    },
    {
     "name": "stdout",
     "output_type": "stream",
     "text": [
      "Error creating CFG. Returning empty DataFrames.\n",
      "Error creating CFG. Returning empty DataFrames.\n",
      "Error creating CFG. Returning empty DataFrames.\n",
      "Error creating CFG. Returning empty DataFrames.\n",
      "Error creating CFG. Returning empty DataFrames.\n",
      "Error creating CFG. Returning empty DataFrames.\n",
      "Error creating CFG. Returning empty DataFrames.\n",
      "Error creating CFG. Returning empty DataFrames.\n",
      "Error creating CFG. Returning empty DataFrames.\n",
      "Error creating CFG. Returning empty DataFrames.\n",
      "Error creating CFG. Returning empty DataFrames.\n",
      "Error creating CFG. Returning empty DataFrames.\n",
      "Error creating CFG. Returning empty DataFrames.\n",
      "Error creating CFG. Returning empty DataFrames.\n",
      "Error creating CFG. Returning empty DataFrames.\n",
      "Error creating CFG. Returning empty DataFrames.\n",
      "Error creating CFG. Returning empty DataFrames.\n"
     ]
    },
    {
     "name": "stderr",
     "output_type": "stream",
     "text": [
      "418it [00:05, 74.61it/s]"
     ]
    },
    {
     "name": "stdout",
     "output_type": "stream",
     "text": [
      "Error creating CFG. Returning empty DataFrames.\n",
      "Error creating CFG. Returning empty DataFrames.\n",
      "Error creating CFG. Returning empty DataFrames.\n",
      "Error creating CFG. Returning empty DataFrames.\n",
      "Error creating CFG. Returning empty DataFrames.\n",
      "Error creating CFG. Returning empty DataFrames.\n",
      "Error creating CFG. Returning empty DataFrames.\n",
      "Error creating CFG. Returning empty DataFrames.\n",
      "Error creating CFG. Returning empty DataFrames.\n",
      "Error creating CFG. Returning empty DataFrames.\n",
      "Error creating CFG. Returning empty DataFrames.\n",
      "Error creating CFG. Returning empty DataFrames.\n",
      "Error creating CFG. Returning empty DataFrames.\n",
      "Error creating CFG. Returning empty DataFrames.\n",
      "Error creating CFG. Returning empty DataFrames.\n",
      "Error creating CFG. Returning empty DataFrames.\n",
      "Error creating CFG. Returning empty DataFrames.\n"
     ]
    },
    {
     "name": "stderr",
     "output_type": "stream",
     "text": [
      "435it [00:05, 75.60it/s]"
     ]
    },
    {
     "name": "stdout",
     "output_type": "stream",
     "text": [
      "Error creating CFG. Returning empty DataFrames.\n",
      "Error creating CFG. Returning empty DataFrames.\n",
      "Error creating CFG. Returning empty DataFrames.\n",
      "Error creating CFG. Returning empty DataFrames.\n",
      "Error creating CFG. Returning empty DataFrames.\n",
      "Error creating CFG. Returning empty DataFrames.\n",
      "Error creating CFG. Returning empty DataFrames.\n",
      "Error creating CFG. Returning empty DataFrames.\n",
      "Error creating CFG. Returning empty DataFrames.\n",
      "Error creating CFG. Returning empty DataFrames.\n",
      "Error creating CFG. Returning empty DataFrames.\n",
      "Error creating CFG. Returning empty DataFrames.\n",
      "Error creating CFG. Returning empty DataFrames.\n",
      "Error creating CFG. Returning empty DataFrames.\n",
      "WTF is this thing, build it in?? <class 'ast.Compare'>\n",
      "Error creating CFG. Returning empty DataFrames.\n",
      "Error creating CFG. Returning empty DataFrames.\n",
      "Error creating CFG. Returning empty DataFrames.\n"
     ]
    },
    {
     "name": "stderr",
     "output_type": "stream",
     "text": [
      "451it [00:06, 74.63it/s]"
     ]
    },
    {
     "name": "stdout",
     "output_type": "stream",
     "text": [
      "Error creating CFG. Returning empty DataFrames.\n",
      "Error creating CFG. Returning empty DataFrames.\n",
      "Error creating CFG. Returning empty DataFrames.\n",
      "Error creating CFG. Returning empty DataFrames.\n",
      "Error creating CFG. Returning empty DataFrames.\n",
      "Error creating CFG. Returning empty DataFrames.\n",
      "Error creating CFG. Returning empty DataFrames.\n",
      "Error creating CFG. Returning empty DataFrames.\n",
      "Error creating CFG. Returning empty DataFrames.\n",
      "Error creating CFG. Returning empty DataFrames.\n",
      "Error creating CFG. Returning empty DataFrames.\n",
      "Error creating CFG. Returning empty DataFrames.\n",
      "Error creating CFG. Returning empty DataFrames.\n",
      "Error creating CFG. Returning empty DataFrames.\n",
      "Error creating CFG. Returning empty DataFrames.\n",
      "Error creating CFG. Returning empty DataFrames.\n"
     ]
    },
    {
     "name": "stderr",
     "output_type": "stream",
     "text": [
      "468it [00:06, 76.23it/s]"
     ]
    },
    {
     "name": "stdout",
     "output_type": "stream",
     "text": [
      "Error creating CFG. Returning empty DataFrames.\n",
      "Error creating CFG. Returning empty DataFrames.\n",
      "Error creating CFG. Returning empty DataFrames.\n",
      "Error creating CFG. Returning empty DataFrames.\n",
      "Error creating CFG. Returning empty DataFrames.\n",
      "Error creating CFG. Returning empty DataFrames.\n",
      "Error creating CFG. Returning empty DataFrames.\n",
      "Error creating CFG. Returning empty DataFrames.\n",
      "Error creating CFG. Returning empty DataFrames.\n",
      "Error creating CFG. Returning empty DataFrames.\n",
      "Error creating CFG. Returning empty DataFrames.\n",
      "Error creating CFG. Returning empty DataFrames.\n",
      "Error creating CFG. Returning empty DataFrames.\n",
      "Error creating CFG. Returning empty DataFrames.\n",
      "Error creating CFG. Returning empty DataFrames.\n",
      "Error creating CFG. Returning empty DataFrames.\n"
     ]
    },
    {
     "name": "stderr",
     "output_type": "stream",
     "text": [
      "484it [00:06, 72.70it/s]"
     ]
    },
    {
     "name": "stdout",
     "output_type": "stream",
     "text": [
      "Error creating CFG. Returning empty DataFrames.\n",
      "Error creating CFG. Returning empty DataFrames.\n",
      "Error creating CFG. Returning empty DataFrames.\n",
      "Error creating CFG. Returning empty DataFrames.\n",
      "Error creating CFG. Returning empty DataFrames.\n",
      "Error creating CFG. Returning empty DataFrames.\n",
      "Error creating CFG. Returning empty DataFrames.\n",
      "Error creating CFG. Returning empty DataFrames.\n",
      "Error creating CFG. Returning empty DataFrames.\n",
      "Error creating CFG. Returning empty DataFrames.\n",
      "Error creating CFG. Returning empty DataFrames.\n",
      "Error creating CFG. Returning empty DataFrames.\n",
      "Error creating CFG. Returning empty DataFrames.\n",
      "Error creating CFG. Returning empty DataFrames.\n",
      "Error creating CFG. Returning empty DataFrames.\n",
      "Error creating CFG. Returning empty DataFrames.\n"
     ]
    },
    {
     "name": "stderr",
     "output_type": "stream",
     "text": [
      "500it [00:06, 71.87it/s]"
     ]
    },
    {
     "name": "stdout",
     "output_type": "stream",
     "text": [
      "Error creating CFG. Returning empty DataFrames.\n",
      "Error creating CFG. Returning empty DataFrames.\n",
      "Error creating CFG. Returning empty DataFrames.\n",
      "Error creating CFG. Returning empty DataFrames.\n",
      "Error creating CFG. Returning empty DataFrames.\n",
      "Error creating CFG. Returning empty DataFrames.\n",
      "Error creating CFG. Returning empty DataFrames.\n",
      "Error creating CFG. Returning empty DataFrames.\n",
      "Error creating CFG. Returning empty DataFrames.\n",
      "Error creating CFG. Returning empty DataFrames.\n",
      "Error creating CFG. Returning empty DataFrames.\n",
      "Error creating CFG. Returning empty DataFrames.\n",
      "Error creating CFG. Returning empty DataFrames.\n",
      "Error creating CFG. Returning empty DataFrames.\n",
      "Error creating CFG. Returning empty DataFrames.\n"
     ]
    },
    {
     "name": "stderr",
     "output_type": "stream",
     "text": [
      "516it [00:07, 68.42it/s]"
     ]
    },
    {
     "name": "stdout",
     "output_type": "stream",
     "text": [
      "Error creating CFG. Returning empty DataFrames.\n",
      "Error creating CFG. Returning empty DataFrames.\n",
      "Error creating CFG. Returning empty DataFrames.\n",
      "Error creating CFG. Returning empty DataFrames.\n",
      "Error creating CFG. Returning empty DataFrames.\n",
      "Error creating CFG. Returning empty DataFrames.\n",
      "Error creating CFG. Returning empty DataFrames.\n",
      "Error creating CFG. Returning empty DataFrames.\n",
      "WTF is this thing, build it in?? <class 'ast.Compare'>\n",
      "Error creating CFG. Returning empty DataFrames.\n",
      "Error creating CFG. Returning empty DataFrames.\n",
      "Error creating CFG. Returning empty DataFrames.\n",
      "Error creating CFG. Returning empty DataFrames.\n",
      "Error creating CFG. Returning empty DataFrames.\n",
      "Error creating CFG. Returning empty DataFrames.\n"
     ]
    },
    {
     "name": "stderr",
     "output_type": "stream",
     "text": [
      "532it [00:07, 71.71it/s]"
     ]
    },
    {
     "name": "stdout",
     "output_type": "stream",
     "text": [
      "Error creating CFG. Returning empty DataFrames.\n",
      "Error creating CFG. Returning empty DataFrames.\n",
      "Error creating CFG. Returning empty DataFrames.\n",
      "Error creating CFG. Returning empty DataFrames.\n",
      "Error creating CFG. Returning empty DataFrames.\n",
      "Error creating CFG. Returning empty DataFrames.\n",
      "Error creating CFG. Returning empty DataFrames.\n",
      "Error creating CFG. Returning empty DataFrames.\n",
      "Error creating CFG. Returning empty DataFrames.\n",
      "Error creating CFG. Returning empty DataFrames.\n",
      "Error creating CFG. Returning empty DataFrames.\n",
      "Error creating CFG. Returning empty DataFrames.\n",
      "Error creating CFG. Returning empty DataFrames.\n",
      "Error creating CFG. Returning empty DataFrames.\n",
      "Error creating CFG. Returning empty DataFrames.\n"
     ]
    },
    {
     "name": "stderr",
     "output_type": "stream",
     "text": [
      "548it [00:07, 70.23it/s]"
     ]
    },
    {
     "name": "stdout",
     "output_type": "stream",
     "text": [
      "Error creating CFG. Returning empty DataFrames.\n",
      "Error creating CFG. Returning empty DataFrames.\n",
      "Error creating CFG. Returning empty DataFrames.\n",
      "Error creating CFG. Returning empty DataFrames.\n",
      "Error creating CFG. Returning empty DataFrames.\n",
      "Error creating CFG. Returning empty DataFrames.\n",
      "Error creating CFG. Returning empty DataFrames.\n",
      "Error creating CFG. Returning empty DataFrames.\n",
      "Error creating CFG. Returning empty DataFrames.\n",
      "Error creating CFG. Returning empty DataFrames.\n",
      "Error creating CFG. Returning empty DataFrames.\n",
      "Error creating CFG. Returning empty DataFrames.\n",
      "Error creating CFG. Returning empty DataFrames.\n",
      "WTF is this thing, build it in?? <class 'ast.Compare'>\n",
      "Error creating CFG. Returning empty DataFrames.\n"
     ]
    },
    {
     "name": "stderr",
     "output_type": "stream",
     "text": [
      "564it [00:07, 73.63it/s]"
     ]
    },
    {
     "name": "stdout",
     "output_type": "stream",
     "text": [
      "Error creating CFG. Returning empty DataFrames.\n",
      "Error creating CFG. Returning empty DataFrames.\n",
      "Error creating CFG. Returning empty DataFrames.\n",
      "Error creating CFG. Returning empty DataFrames.\n",
      "Error creating CFG. Returning empty DataFrames.\n",
      "Error creating CFG. Returning empty DataFrames.\n",
      "Error creating CFG. Returning empty DataFrames.\n",
      "Error creating CFG. Returning empty DataFrames.\n",
      "Error creating CFG. Returning empty DataFrames.\n",
      "Error creating CFG. Returning empty DataFrames.\n",
      "Error creating CFG. Returning empty DataFrames.\n",
      "Error creating CFG. Returning empty DataFrames.\n",
      "Error creating CFG. Returning empty DataFrames.\n",
      "Error creating CFG. Returning empty DataFrames.\n",
      "Error creating CFG. Returning empty DataFrames.\n",
      "Error creating CFG. Returning empty DataFrames.\n"
     ]
    },
    {
     "name": "stderr",
     "output_type": "stream",
     "text": [
      "573it [00:07, 77.16it/s]"
     ]
    },
    {
     "name": "stdout",
     "output_type": "stream",
     "text": [
      "Error creating CFG. Returning empty DataFrames.\n",
      "Error creating CFG. Returning empty DataFrames.\n",
      "Error creating CFG. Returning empty DataFrames.\n",
      "Error creating CFG. Returning empty DataFrames.\n",
      "Error creating CFG. Returning empty DataFrames.\n",
      "Error creating CFG. Returning empty DataFrames.\n",
      "Error creating CFG. Returning empty DataFrames.\n",
      "Error creating CFG. Returning empty DataFrames.\n",
      "Error creating CFG. Returning empty DataFrames.\n",
      "Error creating CFG. Returning empty DataFrames.\n",
      "WTF is this thing, build it in?? <class 'ast.Compare'>\n",
      "Error creating CFG. Returning empty DataFrames.\n",
      "WTF is this thing, build it in?? <class 'ast.Compare'>\n",
      "Error creating CFG. Returning empty DataFrames.\n",
      "Error creating CFG. Returning empty DataFrames.\n",
      "Error creating CFG. Returning empty DataFrames.\n",
      "Error creating CFG. Returning empty DataFrames.\n",
      "Error creating CFG. Returning empty DataFrames.\n",
      "Error creating CFG. Returning empty DataFrames.\n",
      "Error creating CFG. Returning empty DataFrames.\n",
      "Error creating CFG. Returning empty DataFrames.\n"
     ]
    },
    {
     "name": "stderr",
     "output_type": "stream",
     "text": [
      "593it [00:08, 78.52it/s]"
     ]
    },
    {
     "name": "stdout",
     "output_type": "stream",
     "text": [
      "Error creating CFG. Returning empty DataFrames.\n",
      "Error creating CFG. Returning empty DataFrames.\n",
      "Error creating CFG. Returning empty DataFrames.\n",
      "Error creating CFG. Returning empty DataFrames.\n",
      "Error creating CFG. Returning empty DataFrames.\n",
      "Error creating CFG. Returning empty DataFrames.\n",
      "Error creating CFG. Returning empty DataFrames.\n",
      "Error creating CFG. Returning empty DataFrames.\n",
      "Error creating CFG. Returning empty DataFrames.\n",
      "Error creating CFG. Returning empty DataFrames.\n",
      "Error creating CFG. Returning empty DataFrames.\n",
      "Error creating CFG. Returning empty DataFrames.\n",
      "Error creating CFG. Returning empty DataFrames.\n"
     ]
    },
    {
     "name": "stderr",
     "output_type": "stream",
     "text": [
      "608it [00:08, 44.68it/s]"
     ]
    },
    {
     "name": "stdout",
     "output_type": "stream",
     "text": [
      "Error creating CFG. Returning empty DataFrames.\n",
      "Error creating CFG. Returning empty DataFrames.\n",
      "Error creating CFG. Returning empty DataFrames.\n",
      "Error creating CFG. Returning empty DataFrames.\n",
      "Error creating CFG. Returning empty DataFrames.\n",
      "Error creating CFG. Returning empty DataFrames.\n",
      "Error creating CFG. Returning empty DataFrames.\n",
      "Error creating CFG. Returning empty DataFrames.\n",
      "Error creating CFG. Returning empty DataFrames.\n",
      "Error creating CFG. Returning empty DataFrames.\n",
      "Error creating CFG. Returning empty DataFrames.\n",
      "Error creating CFG. Returning empty DataFrames.\n",
      "Error creating CFG. Returning empty DataFrames.\n"
     ]
    },
    {
     "name": "stderr",
     "output_type": "stream",
     "text": [
      "623it [00:08, 53.81it/s]"
     ]
    },
    {
     "name": "stdout",
     "output_type": "stream",
     "text": [
      "Error creating CFG. Returning empty DataFrames.\n",
      "Error creating CFG. Returning empty DataFrames.\n",
      "Error creating CFG. Returning empty DataFrames.\n",
      "Error creating CFG. Returning empty DataFrames.\n",
      "WTF is this thing, build it in?? <class 'ast.Compare'>\n",
      "Error creating CFG. Returning empty DataFrames.\n",
      "Error creating CFG. Returning empty DataFrames.\n",
      "Error creating CFG. Returning empty DataFrames.\n",
      "Error creating CFG. Returning empty DataFrames.\n",
      "Error creating CFG. Returning empty DataFrames.\n",
      "Error creating CFG. Returning empty DataFrames.\n",
      "Error creating CFG. Returning empty DataFrames.\n",
      "Error creating CFG. Returning empty DataFrames.\n",
      "Error creating CFG. Returning empty DataFrames.\n",
      "Error creating CFG. Returning empty DataFrames.\n",
      "Error creating CFG. Returning empty DataFrames.\n",
      "Error creating CFG. Returning empty DataFrames.\n"
     ]
    },
    {
     "name": "stderr",
     "output_type": "stream",
     "text": [
      "639it [00:09, 62.16it/s]"
     ]
    },
    {
     "name": "stdout",
     "output_type": "stream",
     "text": [
      "Error creating CFG. Returning empty DataFrames.\n",
      "Error creating CFG. Returning empty DataFrames.\n",
      "Error creating CFG. Returning empty DataFrames.\n",
      "Error creating CFG. Returning empty DataFrames.\n",
      "Error creating CFG. Returning empty DataFrames.\n",
      "Error creating CFG. Returning empty DataFrames.\n",
      "Error creating CFG. Returning empty DataFrames.\n",
      "Error creating CFG. Returning empty DataFrames.\n",
      "WTF is this thing, build it in?? <class 'ast.Compare'>\n",
      "Error creating CFG. Returning empty DataFrames.\n",
      "Error creating CFG. Returning empty DataFrames.\n",
      "Error creating CFG. Returning empty DataFrames.\n",
      "Error creating CFG. Returning empty DataFrames.\n",
      "Error creating CFG. Returning empty DataFrames.\n",
      "Error creating CFG. Returning empty DataFrames.\n"
     ]
    },
    {
     "name": "stderr",
     "output_type": "stream",
     "text": [
      "655it [00:09, 67.05it/s]"
     ]
    },
    {
     "name": "stdout",
     "output_type": "stream",
     "text": [
      "Error creating CFG. Returning empty DataFrames.\n",
      "Error creating CFG. Returning empty DataFrames.\n",
      "Error creating CFG. Returning empty DataFrames.\n",
      "Error creating CFG. Returning empty DataFrames.\n",
      "Error creating CFG. Returning empty DataFrames.\n",
      "Error creating CFG. Returning empty DataFrames.\n",
      "Error creating CFG. Returning empty DataFrames.\n",
      "Error creating CFG. Returning empty DataFrames.\n",
      "Error creating CFG. Returning empty DataFrames.\n",
      "Error creating CFG. Returning empty DataFrames.\n",
      "Error creating CFG. Returning empty DataFrames.\n",
      "Error creating CFG. Returning empty DataFrames.\n",
      "Error creating CFG. Returning empty DataFrames.\n",
      "Error creating CFG. Returning empty DataFrames.\n",
      "Error creating CFG. Returning empty DataFrames.\n",
      "Error creating CFG. Returning empty DataFrames.\n",
      "Error creating CFG. Returning empty DataFrames.\n",
      "Error creating CFG. Returning empty DataFrames.\n",
      "Error creating CFG. Returning empty DataFrames.\n",
      "Error creating CFG. Returning empty DataFrames.\n",
      "Error creating CFG. Returning empty DataFrames.\n",
      "Error creating CFG. Returning empty DataFrames.\n",
      "Error creating CFG. Returning empty DataFrames.\n"
     ]
    },
    {
     "name": "stderr",
     "output_type": "stream",
     "text": [
      "671it [00:09, 54.06it/s]"
     ]
    },
    {
     "name": "stdout",
     "output_type": "stream",
     "text": [
      "Error creating CFG. Returning empty DataFrames.\n",
      "Error creating CFG. Returning empty DataFrames.\n",
      "Error creating CFG. Returning empty DataFrames.\n",
      "Error creating CFG. Returning empty DataFrames.\n",
      "Error creating CFG. Returning empty DataFrames.\n",
      "Error creating CFG. Returning empty DataFrames.\n",
      "Error creating CFG. Returning empty DataFrames.\n",
      "Error creating CFG. Returning empty DataFrames.\n",
      "Error creating CFG. Returning empty DataFrames.\n",
      "Error creating CFG. Returning empty DataFrames.\n",
      "Error creating CFG. Returning empty DataFrames.\n",
      "Error creating CFG. Returning empty DataFrames.\n",
      "Error creating CFG. Returning empty DataFrames.\n"
     ]
    },
    {
     "name": "stderr",
     "output_type": "stream",
     "text": [
      "683it [00:10, 35.36it/s]"
     ]
    },
    {
     "name": "stdout",
     "output_type": "stream",
     "text": [
      "Error creating CFG. Returning empty DataFrames.\n",
      "Error creating CFG. Returning empty DataFrames.\n",
      "Error creating CFG. Returning empty DataFrames.\n",
      "Error creating CFG. Returning empty DataFrames.\n",
      "Error creating CFG. Returning empty DataFrames.\n",
      "Error creating CFG. Returning empty DataFrames.\n",
      "Error creating CFG. Returning empty DataFrames.\n",
      "Error creating CFG. Returning empty DataFrames.\n",
      "Error creating CFG. Returning empty DataFrames.\n",
      "Error creating CFG. Returning empty DataFrames.\n"
     ]
    },
    {
     "name": "stderr",
     "output_type": "stream",
     "text": [
      "695it [00:10, 34.91it/s]"
     ]
    },
    {
     "name": "stdout",
     "output_type": "stream",
     "text": [
      "Error creating CFG. Returning empty DataFrames.\n",
      "Error creating CFG. Returning empty DataFrames.\n",
      "Error creating CFG. Returning empty DataFrames.\n",
      "Error creating CFG. Returning empty DataFrames.\n",
      "Error creating CFG. Returning empty DataFrames.\n",
      "Error creating CFG. Returning empty DataFrames.\n",
      "Error creating CFG. Returning empty DataFrames.\n",
      "Error creating CFG. Returning empty DataFrames.\n",
      "Error creating CFG. Returning empty DataFrames.\n",
      "Error creating CFG. Returning empty DataFrames.\n",
      "Error creating CFG. Returning empty DataFrames.\n",
      "Error creating CFG. Returning empty DataFrames.\n",
      "Error creating CFG. Returning empty DataFrames.\n"
     ]
    },
    {
     "name": "stderr",
     "output_type": "stream",
     "text": [
      "700it [00:10, 31.69it/s]"
     ]
    },
    {
     "name": "stdout",
     "output_type": "stream",
     "text": [
      "Error creating CFG. Returning empty DataFrames.\n",
      "Error creating CFG. Returning empty DataFrames.\n",
      "Error creating CFG. Returning empty DataFrames.\n"
     ]
    },
    {
     "name": "stderr",
     "output_type": "stream",
     "text": [
      "710it [00:11, 28.09it/s]"
     ]
    },
    {
     "name": "stdout",
     "output_type": "stream",
     "text": [
      "Error creating CFG. Returning empty DataFrames.\n",
      "Error creating CFG. Returning empty DataFrames.\n",
      "Error creating CFG. Returning empty DataFrames.\n",
      "Error creating CFG. Returning empty DataFrames.\n",
      "Error creating CFG. Returning empty DataFrames.\n",
      "Error creating CFG. Returning empty DataFrames.\n",
      "Error creating CFG. Returning empty DataFrames.\n",
      "Error creating CFG. Returning empty DataFrames.\n",
      "Error creating CFG. Returning empty DataFrames.\n",
      "WTF is this thing, build it in?? <class 'ast.BinOp'>\n",
      "Error creating CFG. Returning empty DataFrames.\n",
      "Error creating CFG. Returning empty DataFrames.\n",
      "Error creating CFG. Returning empty DataFrames.\n"
     ]
    },
    {
     "name": "stderr",
     "output_type": "stream",
     "text": [
      "723it [00:11, 39.34it/s]"
     ]
    },
    {
     "name": "stdout",
     "output_type": "stream",
     "text": [
      "Error creating CFG. Returning empty DataFrames.\n",
      "Error creating CFG. Returning empty DataFrames.\n",
      "Error creating CFG. Returning empty DataFrames.\n",
      "Error creating CFG. Returning empty DataFrames.\n",
      "Error creating CFG. Returning empty DataFrames.\n",
      "Error creating CFG. Returning empty DataFrames.\n",
      "Error creating CFG. Returning empty DataFrames.\n",
      "Error creating CFG. Returning empty DataFrames.\n",
      "Error creating CFG. Returning empty DataFrames.\n",
      "Error creating CFG. Returning empty DataFrames.\n",
      "Error creating CFG. Returning empty DataFrames.\n",
      "Error creating CFG. Returning empty DataFrames.\n"
     ]
    },
    {
     "name": "stderr",
     "output_type": "stream",
     "text": [
      "735it [00:11, 43.10it/s]"
     ]
    },
    {
     "name": "stdout",
     "output_type": "stream",
     "text": [
      "Error creating CFG. Returning empty DataFrames.\n",
      "WTF is this thing, build it in?? <class 'ast.Compare'>\n",
      "Error creating CFG. Returning empty DataFrames.\n",
      "Error creating CFG. Returning empty DataFrames.\n",
      "Error creating CFG. Returning empty DataFrames.\n",
      "Error creating CFG. Returning empty DataFrames.\n",
      "Error creating CFG. Returning empty DataFrames.\n",
      "Error creating CFG. Returning empty DataFrames.\n",
      "Error creating CFG. Returning empty DataFrames.\n",
      "Error creating CFG. Returning empty DataFrames.\n",
      "Error creating CFG. Returning empty DataFrames.\n"
     ]
    },
    {
     "name": "stderr",
     "output_type": "stream",
     "text": [
      "747it [00:11, 49.44it/s]"
     ]
    },
    {
     "name": "stdout",
     "output_type": "stream",
     "text": [
      "Error creating CFG. Returning empty DataFrames.\n",
      "Error creating CFG. Returning empty DataFrames.\n",
      "Error creating CFG. Returning empty DataFrames.\n",
      "Error creating CFG. Returning empty DataFrames.\n",
      "Error creating CFG. Returning empty DataFrames.\n",
      "Error creating CFG. Returning empty DataFrames.\n",
      "WTF is this thing, build it in?? <class 'ast.BinOp'>\n",
      "Error creating CFG. Returning empty DataFrames.\n",
      "Error creating CFG. Returning empty DataFrames.\n",
      "Error creating CFG. Returning empty DataFrames.\n",
      "Error creating CFG. Returning empty DataFrames.\n",
      "Error creating CFG. Returning empty DataFrames.\n",
      "Error creating CFG. Returning empty DataFrames.\n"
     ]
    },
    {
     "name": "stderr",
     "output_type": "stream",
     "text": [
      "752it [00:11, 62.93it/s]\n"
     ]
    },
    {
     "name": "stdout",
     "output_type": "stream",
     "text": [
      "Error creating CFG. Returning empty DataFrames.\n",
      "Error creating CFG. Returning empty DataFrames.\n",
      "Error creating CFG. Returning empty DataFrames.\n",
      "Error creating CFG. Returning empty DataFrames.\n",
      "Error creating CFG. Returning empty DataFrames.\n",
      "Subgraphs created.\n",
      "Filtering graph nodes...\n",
      "Graph nodes filtered. Creating hierarchical edges...\n",
      "Hierarchical graph building successful.\n",
      "CG nodes: 752 | CG edges: 249\n",
      "Subgraph nodes: 0 | Subgraph edges: 0\n"
     ]
    },
    {
     "data": {
      "text/html": [
       "<div>\n",
       "<style scoped>\n",
       "    .dataframe tbody tr th:only-of-type {\n",
       "        vertical-align: middle;\n",
       "    }\n",
       "\n",
       "    .dataframe tbody tr th {\n",
       "        vertical-align: top;\n",
       "    }\n",
       "\n",
       "    .dataframe thead th {\n",
       "        text-align: right;\n",
       "    }\n",
       "</style>\n",
       "<table border=\"1\" class=\"dataframe\">\n",
       "  <thead>\n",
       "    <tr style=\"text-align: right;\">\n",
       "      <th></th>\n",
       "      <th>combinedName</th>\n",
       "      <th>function_code</th>\n",
       "      <th>docstring</th>\n",
       "      <th>function_location</th>\n",
       "      <th>file_id</th>\n",
       "      <th>func_id</th>\n",
       "    </tr>\n",
       "  </thead>\n",
       "  <tbody>\n",
       "    <tr>\n",
       "      <th>0</th>\n",
       "      <td>_generate_indices</td>\n",
       "      <td>def _generate_indices(random_state, bootstrap,...</td>\n",
       "      <td>Draw randomly sampled indices.</td>\n",
       "      <td>c:\\Szakdolgozat\\code-knowledge-graph\\repos\\sci...</td>\n",
       "      <td>ac48106c-8f0c-11f0-97b4-d18fd4a2e412</td>\n",
       "      <td>0</td>\n",
       "    </tr>\n",
       "    <tr>\n",
       "      <th>1</th>\n",
       "      <td>_generate_bagging_indices</td>\n",
       "      <td>def _generate_bagging_indices(random_state, bo...</td>\n",
       "      <td>Randomly draw feature and sample indices.</td>\n",
       "      <td>c:\\Szakdolgozat\\code-knowledge-graph\\repos\\sci...</td>\n",
       "      <td>ac48106c-8f0c-11f0-97b4-d18fd4a2e412</td>\n",
       "      <td>1</td>\n",
       "    </tr>\n",
       "    <tr>\n",
       "      <th>2</th>\n",
       "      <td>_consumes_sample_weight</td>\n",
       "      <td>def _consumes_sample_weight(estimator):\\n    i...</td>\n",
       "      <td>None</td>\n",
       "      <td>c:\\Szakdolgozat\\code-knowledge-graph\\repos\\sci...</td>\n",
       "      <td>ac48106c-8f0c-11f0-97b4-d18fd4a2e412</td>\n",
       "      <td>2</td>\n",
       "    </tr>\n",
       "    <tr>\n",
       "      <th>3</th>\n",
       "      <td>_parallel_build_estimators</td>\n",
       "      <td>def _parallel_build_estimators(n_estimators, e...</td>\n",
       "      <td>Private function used to build a batch of esti...</td>\n",
       "      <td>c:\\Szakdolgozat\\code-knowledge-graph\\repos\\sci...</td>\n",
       "      <td>ac48106c-8f0c-11f0-97b4-d18fd4a2e412</td>\n",
       "      <td>3</td>\n",
       "    </tr>\n",
       "    <tr>\n",
       "      <th>4</th>\n",
       "      <td>_parallel_predict_proba</td>\n",
       "      <td>def _parallel_predict_proba(estimators, estima...</td>\n",
       "      <td>Private function used to compute (proba-)predi...</td>\n",
       "      <td>c:\\Szakdolgozat\\code-knowledge-graph\\repos\\sci...</td>\n",
       "      <td>ac48106c-8f0c-11f0-97b4-d18fd4a2e412</td>\n",
       "      <td>4</td>\n",
       "    </tr>\n",
       "  </tbody>\n",
       "</table>\n",
       "</div>"
      ],
      "text/plain": [
       "                 combinedName  \\\n",
       "0           _generate_indices   \n",
       "1   _generate_bagging_indices   \n",
       "2     _consumes_sample_weight   \n",
       "3  _parallel_build_estimators   \n",
       "4     _parallel_predict_proba   \n",
       "\n",
       "                                       function_code  \\\n",
       "0  def _generate_indices(random_state, bootstrap,...   \n",
       "1  def _generate_bagging_indices(random_state, bo...   \n",
       "2  def _consumes_sample_weight(estimator):\\n    i...   \n",
       "3  def _parallel_build_estimators(n_estimators, e...   \n",
       "4  def _parallel_predict_proba(estimators, estima...   \n",
       "\n",
       "                                           docstring  \\\n",
       "0                     Draw randomly sampled indices.   \n",
       "1          Randomly draw feature and sample indices.   \n",
       "2                                               None   \n",
       "3  Private function used to build a batch of esti...   \n",
       "4  Private function used to compute (proba-)predi...   \n",
       "\n",
       "                                   function_location  \\\n",
       "0  c:\\Szakdolgozat\\code-knowledge-graph\\repos\\sci...   \n",
       "1  c:\\Szakdolgozat\\code-knowledge-graph\\repos\\sci...   \n",
       "2  c:\\Szakdolgozat\\code-knowledge-graph\\repos\\sci...   \n",
       "3  c:\\Szakdolgozat\\code-knowledge-graph\\repos\\sci...   \n",
       "4  c:\\Szakdolgozat\\code-knowledge-graph\\repos\\sci...   \n",
       "\n",
       "                                file_id  func_id  \n",
       "0  ac48106c-8f0c-11f0-97b4-d18fd4a2e412        0  \n",
       "1  ac48106c-8f0c-11f0-97b4-d18fd4a2e412        1  \n",
       "2  ac48106c-8f0c-11f0-97b4-d18fd4a2e412        2  \n",
       "3  ac48106c-8f0c-11f0-97b4-d18fd4a2e412        3  \n",
       "4  ac48106c-8f0c-11f0-97b4-d18fd4a2e412        4  "
      ]
     },
     "metadata": {},
     "output_type": "display_data"
    }
   ],
   "source": [
    "\n",
    "# -- 1) CFG felépítése csak az 'ensemble' mappára --\n",
    "hg = HierarchicalGraphBuilder()\n",
    "\n",
    "cg_nodes, cg_edges, sub_nodes, sub_edges, hier_sub2main, hier_main2sub, imports = hg.create_hierarchical_graph(\n",
    "    path=str(ANALYSIS_PATH),\n",
    "    return_type=\"pandas\",\n",
    "    repo_functions_only=True,\n",
    "    graph_type=\"CFG\",\n",
    "    create_embedding=False,\n",
    "    remove_isolated=False,\n",
    "    remove_subgraph_missing=False,\n",
    ")\n",
    "\n",
    "print(\"CG nodes:\", len(cg_nodes), \"| CG edges:\", len(cg_edges))\n",
    "print(\"Subgraph nodes:\", len(sub_nodes), \"| Subgraph edges:\", len(sub_edges))\n",
    "display(cg_nodes.head(5))\n"
   ]
  },
  {
   "cell_type": "code",
   "execution_count": 4,
   "id": "2846fc58",
   "metadata": {},
   "outputs": [
    {
     "name": "stdout",
     "output_type": "stream",
     "text": [
      "Szükséges oszlopok rendben: func_id, combinedName, function_location\n"
     ]
    },
    {
     "data": {
      "text/html": [
       "<div>\n",
       "<style scoped>\n",
       "    .dataframe tbody tr th:only-of-type {\n",
       "        vertical-align: middle;\n",
       "    }\n",
       "\n",
       "    .dataframe tbody tr th {\n",
       "        vertical-align: top;\n",
       "    }\n",
       "\n",
       "    .dataframe thead th {\n",
       "        text-align: right;\n",
       "    }\n",
       "</style>\n",
       "<table border=\"1\" class=\"dataframe\">\n",
       "  <thead>\n",
       "    <tr style=\"text-align: right;\">\n",
       "      <th></th>\n",
       "      <th>func_id</th>\n",
       "      <th>combinedName</th>\n",
       "      <th>function_location</th>\n",
       "    </tr>\n",
       "  </thead>\n",
       "  <tbody>\n",
       "    <tr>\n",
       "      <th>0</th>\n",
       "      <td>0</td>\n",
       "      <td>_generate_indices</td>\n",
       "      <td>c:\\Szakdolgozat\\code-knowledge-graph\\repos\\sci...</td>\n",
       "    </tr>\n",
       "    <tr>\n",
       "      <th>1</th>\n",
       "      <td>1</td>\n",
       "      <td>_generate_bagging_indices</td>\n",
       "      <td>c:\\Szakdolgozat\\code-knowledge-graph\\repos\\sci...</td>\n",
       "    </tr>\n",
       "    <tr>\n",
       "      <th>2</th>\n",
       "      <td>2</td>\n",
       "      <td>_consumes_sample_weight</td>\n",
       "      <td>c:\\Szakdolgozat\\code-knowledge-graph\\repos\\sci...</td>\n",
       "    </tr>\n",
       "    <tr>\n",
       "      <th>3</th>\n",
       "      <td>3</td>\n",
       "      <td>_parallel_build_estimators</td>\n",
       "      <td>c:\\Szakdolgozat\\code-knowledge-graph\\repos\\sci...</td>\n",
       "    </tr>\n",
       "    <tr>\n",
       "      <th>4</th>\n",
       "      <td>4</td>\n",
       "      <td>_parallel_predict_proba</td>\n",
       "      <td>c:\\Szakdolgozat\\code-knowledge-graph\\repos\\sci...</td>\n",
       "    </tr>\n",
       "  </tbody>\n",
       "</table>\n",
       "</div>"
      ],
      "text/plain": [
       "   func_id                combinedName  \\\n",
       "0        0           _generate_indices   \n",
       "1        1   _generate_bagging_indices   \n",
       "2        2     _consumes_sample_weight   \n",
       "3        3  _parallel_build_estimators   \n",
       "4        4     _parallel_predict_proba   \n",
       "\n",
       "                                   function_location  \n",
       "0  c:\\Szakdolgozat\\code-knowledge-graph\\repos\\sci...  \n",
       "1  c:\\Szakdolgozat\\code-knowledge-graph\\repos\\sci...  \n",
       "2  c:\\Szakdolgozat\\code-knowledge-graph\\repos\\sci...  \n",
       "3  c:\\Szakdolgozat\\code-knowledge-graph\\repos\\sci...  \n",
       "4  c:\\Szakdolgozat\\code-knowledge-graph\\repos\\sci...  "
      ]
     },
     "metadata": {},
     "output_type": "display_data"
    }
   ],
   "source": [
    "\n",
    "# -- 2) Oszlopok igazítása a FunctionVersioning-hez --\n",
    "required_cols = {\"combinedName\", \"function_location\"}\n",
    "cols = set(cg_nodes.columns)\n",
    "\n",
    "# Id oszlop egységesítése\n",
    "if \"func_id\" not in cg_nodes.columns and \"fnc_id\" in cg_nodes.columns:\n",
    "    cg_nodes = cg_nodes.rename(columns={\"fnc_id\": \"func_id\"})\n",
    "\n",
    "missing = {\"func_id\"} - set(cg_nodes.columns)\n",
    "missing |= required_cols - cols\n",
    "if missing:\n",
    "    raise ValueError(f\"Hiányzó oszlop(ok) a cg_nodes-ban: {missing}\")\n",
    "\n",
    "print(\"Szükséges oszlopok rendben: func_id, combinedName, function_location\")\n",
    "display(cg_nodes[[\"func_id\", \"combinedName\", \"function_location\"]].head(5))\n"
   ]
  },
  {
   "cell_type": "code",
   "execution_count": 5,
   "id": "43729db6",
   "metadata": {},
   "outputs": [
    {
     "name": "stdout",
     "output_type": "stream",
     "text": [
      "FV nodes: 582 | FV edges (NEXT_VERSION): 13\n",
      "Commit nodes: 9 | Version->Function edges: 582 | Version->Commit edges: 582\n"
     ]
    },
    {
     "data": {
      "text/html": [
       "<div>\n",
       "<style scoped>\n",
       "    .dataframe tbody tr th:only-of-type {\n",
       "        vertical-align: middle;\n",
       "    }\n",
       "\n",
       "    .dataframe tbody tr th {\n",
       "        vertical-align: top;\n",
       "    }\n",
       "\n",
       "    .dataframe thead th {\n",
       "        text-align: right;\n",
       "    }\n",
       "</style>\n",
       "<table border=\"1\" class=\"dataframe\">\n",
       "  <thead>\n",
       "    <tr style=\"text-align: right;\">\n",
       "      <th></th>\n",
       "      <th>ID</th>\n",
       "      <th>function_id</th>\n",
       "      <th>symbol_id</th>\n",
       "      <th>commit_sha</th>\n",
       "      <th>authored_datetime</th>\n",
       "      <th>file_path</th>\n",
       "      <th>qualified_name</th>\n",
       "      <th>body_hash</th>\n",
       "      <th>start_line</th>\n",
       "      <th>end_line</th>\n",
       "      <th>code</th>\n",
       "    </tr>\n",
       "  </thead>\n",
       "  <tbody>\n",
       "    <tr>\n",
       "      <th>0</th>\n",
       "      <td>1</td>\n",
       "      <td>0</td>\n",
       "      <td>sklearn/ensemble/_bagging.py::_generate_indices</td>\n",
       "      <td>031d2f83b7c9d1027d1477abb2bf34652621d603</td>\n",
       "      <td>2025-06-16T14:13:11+02:00</td>\n",
       "      <td>sklearn/ensemble/_bagging.py</td>\n",
       "      <td>_generate_indices</td>\n",
       "      <td>7065b3bfb7be3c255c29833d49de1f82dad21b912b7f23...</td>\n",
       "      <td>54</td>\n",
       "      <td>64</td>\n",
       "      <td>def _generate_indices(random_state, bootstrap,...</td>\n",
       "    </tr>\n",
       "    <tr>\n",
       "      <th>1</th>\n",
       "      <td>2</td>\n",
       "      <td>1</td>\n",
       "      <td>sklearn/ensemble/_bagging.py::_generate_baggin...</td>\n",
       "      <td>031d2f83b7c9d1027d1477abb2bf34652621d603</td>\n",
       "      <td>2025-06-16T14:13:11+02:00</td>\n",
       "      <td>sklearn/ensemble/_bagging.py</td>\n",
       "      <td>_generate_bagging_indices</td>\n",
       "      <td>d025744d1242de7f1e7eee0ce91f7d3ecc15e50e466df8...</td>\n",
       "      <td>67</td>\n",
       "      <td>98</td>\n",
       "      <td>def _generate_bagging_indices(\\n    random_sta...</td>\n",
       "    </tr>\n",
       "    <tr>\n",
       "      <th>2</th>\n",
       "      <td>3</td>\n",
       "      <td>2</td>\n",
       "      <td>sklearn/ensemble/_bagging.py::_consumes_sample...</td>\n",
       "      <td>031d2f83b7c9d1027d1477abb2bf34652621d603</td>\n",
       "      <td>2025-06-16T14:13:11+02:00</td>\n",
       "      <td>sklearn/ensemble/_bagging.py</td>\n",
       "      <td>_consumes_sample_weight</td>\n",
       "      <td>59138ceee7de4a106dab80f8fac5ee86ad809763bea9f7...</td>\n",
       "      <td>101</td>\n",
       "      <td>107</td>\n",
       "      <td>def _consumes_sample_weight(estimator):\\n    i...</td>\n",
       "    </tr>\n",
       "    <tr>\n",
       "      <th>3</th>\n",
       "      <td>4</td>\n",
       "      <td>3</td>\n",
       "      <td>sklearn/ensemble/_bagging.py::_parallel_build_...</td>\n",
       "      <td>031d2f83b7c9d1027d1477abb2bf34652621d603</td>\n",
       "      <td>2025-06-16T14:13:11+02:00</td>\n",
       "      <td>sklearn/ensemble/_bagging.py</td>\n",
       "      <td>_parallel_build_estimators</td>\n",
       "      <td>9d770628874e2c7158754e7ef72cc78a1ff5f0bed3022d...</td>\n",
       "      <td>110</td>\n",
       "      <td>188</td>\n",
       "      <td>def _parallel_build_estimators(\\n    n_estimat...</td>\n",
       "    </tr>\n",
       "    <tr>\n",
       "      <th>4</th>\n",
       "      <td>5</td>\n",
       "      <td>4</td>\n",
       "      <td>sklearn/ensemble/_bagging.py::_parallel_predic...</td>\n",
       "      <td>031d2f83b7c9d1027d1477abb2bf34652621d603</td>\n",
       "      <td>2025-06-16T14:13:11+02:00</td>\n",
       "      <td>sklearn/ensemble/_bagging.py</td>\n",
       "      <td>_parallel_predict_proba</td>\n",
       "      <td>f32b843b1ef8017f584a32209d585d601b1fbf7cfd328b...</td>\n",
       "      <td>191</td>\n",
       "      <td>226</td>\n",
       "      <td>def _parallel_predict_proba(\\n    estimators,\\...</td>\n",
       "    </tr>\n",
       "  </tbody>\n",
       "</table>\n",
       "</div>"
      ],
      "text/plain": [
       "   ID  function_id                                          symbol_id  \\\n",
       "0   1            0    sklearn/ensemble/_bagging.py::_generate_indices   \n",
       "1   2            1  sklearn/ensemble/_bagging.py::_generate_baggin...   \n",
       "2   3            2  sklearn/ensemble/_bagging.py::_consumes_sample...   \n",
       "3   4            3  sklearn/ensemble/_bagging.py::_parallel_build_...   \n",
       "4   5            4  sklearn/ensemble/_bagging.py::_parallel_predic...   \n",
       "\n",
       "                                 commit_sha          authored_datetime  \\\n",
       "0  031d2f83b7c9d1027d1477abb2bf34652621d603  2025-06-16T14:13:11+02:00   \n",
       "1  031d2f83b7c9d1027d1477abb2bf34652621d603  2025-06-16T14:13:11+02:00   \n",
       "2  031d2f83b7c9d1027d1477abb2bf34652621d603  2025-06-16T14:13:11+02:00   \n",
       "3  031d2f83b7c9d1027d1477abb2bf34652621d603  2025-06-16T14:13:11+02:00   \n",
       "4  031d2f83b7c9d1027d1477abb2bf34652621d603  2025-06-16T14:13:11+02:00   \n",
       "\n",
       "                      file_path              qualified_name  \\\n",
       "0  sklearn/ensemble/_bagging.py           _generate_indices   \n",
       "1  sklearn/ensemble/_bagging.py   _generate_bagging_indices   \n",
       "2  sklearn/ensemble/_bagging.py     _consumes_sample_weight   \n",
       "3  sklearn/ensemble/_bagging.py  _parallel_build_estimators   \n",
       "4  sklearn/ensemble/_bagging.py     _parallel_predict_proba   \n",
       "\n",
       "                                           body_hash  start_line  end_line  \\\n",
       "0  7065b3bfb7be3c255c29833d49de1f82dad21b912b7f23...          54        64   \n",
       "1  d025744d1242de7f1e7eee0ce91f7d3ecc15e50e466df8...          67        98   \n",
       "2  59138ceee7de4a106dab80f8fac5ee86ad809763bea9f7...         101       107   \n",
       "3  9d770628874e2c7158754e7ef72cc78a1ff5f0bed3022d...         110       188   \n",
       "4  f32b843b1ef8017f584a32209d585d601b1fbf7cfd328b...         191       226   \n",
       "\n",
       "                                                code  \n",
       "0  def _generate_indices(random_state, bootstrap,...  \n",
       "1  def _generate_bagging_indices(\\n    random_sta...  \n",
       "2  def _consumes_sample_weight(estimator):\\n    i...  \n",
       "3  def _parallel_build_estimators(\\n    n_estimat...  \n",
       "4  def _parallel_predict_proba(\\n    estimators,\\...  "
      ]
     },
     "metadata": {},
     "output_type": "display_data"
    },
    {
     "data": {
      "text/html": [
       "<div>\n",
       "<style scoped>\n",
       "    .dataframe tbody tr th:only-of-type {\n",
       "        vertical-align: middle;\n",
       "    }\n",
       "\n",
       "    .dataframe tbody tr th {\n",
       "        vertical-align: top;\n",
       "    }\n",
       "\n",
       "    .dataframe thead th {\n",
       "        text-align: right;\n",
       "    }\n",
       "</style>\n",
       "<table border=\"1\" class=\"dataframe\">\n",
       "  <thead>\n",
       "    <tr style=\"text-align: right;\">\n",
       "      <th></th>\n",
       "      <th>ID</th>\n",
       "      <th>sha</th>\n",
       "      <th>authored_datetime</th>\n",
       "      <th>author_name</th>\n",
       "      <th>author_email</th>\n",
       "      <th>message</th>\n",
       "    </tr>\n",
       "  </thead>\n",
       "  <tbody>\n",
       "    <tr>\n",
       "      <th>0</th>\n",
       "      <td>1</td>\n",
       "      <td>031d2f83b7c9d1027d1477abb2bf34652621d603</td>\n",
       "      <td>2025-06-16T14:13:11+02:00</td>\n",
       "      <td>antoinebaker</td>\n",
       "      <td>antoinebaker@users.noreply.github.com</td>\n",
       "      <td>FIX Draw indices using sample_weight in Baggin...</td>\n",
       "    </tr>\n",
       "    <tr>\n",
       "      <th>1</th>\n",
       "      <td>2</td>\n",
       "      <td>1fe659545c70d9f805c1c4097dd2fce9a6285a12</td>\n",
       "      <td>2025-07-29T15:42:22+02:00</td>\n",
       "      <td>Loïc Estève</td>\n",
       "      <td>loic.esteve@ymail.com</td>\n",
       "      <td>MNT Switch to absolute imports enforced by `ru...</td>\n",
       "    </tr>\n",
       "    <tr>\n",
       "      <th>2</th>\n",
       "      <td>3</td>\n",
       "      <td>ae9d0887a9351ecbbdc7f71c7f017fd148d96447</td>\n",
       "      <td>2025-07-31T07:14:12-04:00</td>\n",
       "      <td>Yaroslav Halchenko</td>\n",
       "      <td>debian@onerussian.com</td>\n",
       "      <td>MNT Improve codespell support (and add CI) and...</td>\n",
       "    </tr>\n",
       "    <tr>\n",
       "      <th>3</th>\n",
       "      <td>4</td>\n",
       "      <td>1c5c8f03659d303e4df8fd08813c9fb35a0c0e35</td>\n",
       "      <td>2025-09-05T11:55:25+02:00</td>\n",
       "      <td>Adrin Jalali</td>\n",
       "      <td>adrin.jalali@gmail.com</td>\n",
       "      <td>MNT refactoring in routing _MetadataRequester ...</td>\n",
       "    </tr>\n",
       "    <tr>\n",
       "      <th>4</th>\n",
       "      <td>5</td>\n",
       "      <td>f19ff9c596faf62940b2498d8c315e2bb01e03a6</td>\n",
       "      <td>2025-08-22T19:01:50+02:00</td>\n",
       "      <td>Olivier Grisel</td>\n",
       "      <td>olivier.grisel@ensta.org</td>\n",
       "      <td>Make the test suite itself thread-safe to be a...</td>\n",
       "    </tr>\n",
       "  </tbody>\n",
       "</table>\n",
       "</div>"
      ],
      "text/plain": [
       "   ID                                       sha          authored_datetime  \\\n",
       "0   1  031d2f83b7c9d1027d1477abb2bf34652621d603  2025-06-16T14:13:11+02:00   \n",
       "1   2  1fe659545c70d9f805c1c4097dd2fce9a6285a12  2025-07-29T15:42:22+02:00   \n",
       "2   3  ae9d0887a9351ecbbdc7f71c7f017fd148d96447  2025-07-31T07:14:12-04:00   \n",
       "3   4  1c5c8f03659d303e4df8fd08813c9fb35a0c0e35  2025-09-05T11:55:25+02:00   \n",
       "4   5  f19ff9c596faf62940b2498d8c315e2bb01e03a6  2025-08-22T19:01:50+02:00   \n",
       "\n",
       "          author_name                           author_email  \\\n",
       "0        antoinebaker  antoinebaker@users.noreply.github.com   \n",
       "1         Loïc Estève                  loic.esteve@ymail.com   \n",
       "2  Yaroslav Halchenko                  debian@onerussian.com   \n",
       "3        Adrin Jalali                 adrin.jalali@gmail.com   \n",
       "4      Olivier Grisel               olivier.grisel@ensta.org   \n",
       "\n",
       "                                             message  \n",
       "0  FIX Draw indices using sample_weight in Baggin...  \n",
       "1  MNT Switch to absolute imports enforced by `ru...  \n",
       "2  MNT Improve codespell support (and add CI) and...  \n",
       "3  MNT refactoring in routing _MetadataRequester ...  \n",
       "4  Make the test suite itself thread-safe to be a...  "
      ]
     },
     "metadata": {},
     "output_type": "display_data"
    }
   ],
   "source": [
    "\n",
    "# -- 3) FunctionVersioning futtatása a REPO gyökerén --\n",
    "fv = FunctionVersioning(repo_path=str(REPO_ROOT))\n",
    "fv_out = fv.build(function_nodes_df=cg_nodes, branch_ref=\"HEAD\", only_changed_files=True,  max_commits=300)\n",
    "\n",
    "function_version_nodes = fv_out[\"function_version_nodes\"]\n",
    "function_version_edges = fv_out[\"function_version_edges\"]\n",
    "functionversion_function_edges = fv_out[\"functionversion_function_edges\"]\n",
    "commit_nodes = fv_out[\"commit_nodes\"]\n",
    "functionversion_commit_edges = fv_out[\"functionversion_commit_edges\"]\n",
    "\n",
    "print(\"FV nodes:\", len(function_version_nodes),\n",
    "      \"| FV edges (NEXT_VERSION):\", len(function_version_edges))\n",
    "print(\"Commit nodes:\", len(commit_nodes),\n",
    "      \"| Version->Function edges:\", len(functionversion_function_edges),\n",
    "      \"| Version->Commit edges:\", len(functionversion_commit_edges))\n",
    "\n",
    "display(function_version_nodes.head(5))\n",
    "display(commit_nodes.head(5))\n"
   ]
  },
  {
   "cell_type": "code",
   "execution_count": 6,
   "id": "56dbba93",
   "metadata": {},
   "outputs": [
    {
     "name": "stdout",
     "output_type": "stream",
     "text": [
      "Sanity check OK ✓\n"
     ]
    }
   ],
   "source": [
    "\n",
    "# -- 4) Gyors sanity check --\n",
    "assert \"qualified_name\" in function_version_nodes.columns, \"Hiányzik 'qualified_name' a verzió csomópontokban.\"\n",
    "assert \"body_hash\" in function_version_nodes.columns, \"Hiányzik 'body_hash' a verzió csomópontokban.\"\n",
    "assert set(functionversion_function_edges.columns) >= {\"source\",\"target\"}, \"Hiányoznak az éloszlopok.\"\n",
    "print(\"Sanity check OK ✓\")\n"
   ]
  },
  {
   "cell_type": "code",
   "execution_count": null,
   "id": "93e3936e",
   "metadata": {},
   "outputs": [],
   "source": []
  }
 ],
 "metadata": {
  "kernelspec": {
   "display_name": "venv (3.11.9)",
   "language": "python",
   "name": "python3"
  },
  "language_info": {
   "codemirror_mode": {
    "name": "ipython",
    "version": 3
   },
   "file_extension": ".py",
   "mimetype": "text/x-python",
   "name": "python",
   "nbconvert_exporter": "python",
   "pygments_lexer": "ipython3",
   "version": "3.11.9"
  }
 },
 "nbformat": 4,
 "nbformat_minor": 5
}
