{
 "cells": [
  {
   "cell_type": "code",
   "execution_count": 1,
   "id": "72fdcb06",
   "metadata": {},
   "outputs": [
    {
     "name": "stderr",
     "output_type": "stream",
     "text": [
      "C:\\Users\\szmid\\AppData\\Local\\Packages\\PythonSoftwareFoundation.Python.3.13_qbz5n2kfra8p0\\LocalCache\\local-packages\\Python313\\site-packages\\tqdm\\auto.py:21: TqdmWarning: IProgress not found. Please update jupyter and ipywidgets. See https://ipywidgets.readthedocs.io/en/stable/user_install.html\n",
      "  from .autonotebook import tqdm as notebook_tqdm\n"
     ]
    },
    {
     "name": "stdout",
     "output_type": "stream",
     "text": [
      "Note: to be able to use all crisp methods, you need to install some additional packages:  {'wurlitzer', 'graph_tool'}\n",
      "Note: to be able to use all crisp methods, you need to install some additional packages:  {'wurlitzer'}\n"
     ]
    }
   ],
   "source": [
    "import sys, os\n",
    "sys.path.append(os.path.abspath('package'))\n",
    "from package import KnowledgeGraphBuilder"
   ]
  },
  {
   "cell_type": "markdown",
   "id": "48f296ee",
   "metadata": {},
   "source": [
    "# 1. Build knowledge graph\n",
    "\n",
    "Initialize the `KnowledgeGraphBuilder` object. A github token must be given as a parameter."
   ]
  },
  {
   "cell_type": "code",
   "execution_count": 2,
   "id": "c50ba155",
   "metadata": {},
   "outputs": [],
   "source": [
    "with open ('./_/git_token.txt', 'r') as f:\n",
    "    git_token = f.read().strip()\n",
    "\n",
    "with open ('./_/hf_token.txt', 'r') as f:\n",
    "    hf_token = f.read().strip()\n",
    "\n",
    "kgb = KnowledgeGraphBuilder(git_token, hf_token)"
   ]
  },
  {
   "cell_type": "markdown",
   "id": "3b014a1f",
   "metadata": {},
   "source": [
    "Build the knowledge graph with the `KnowledgeGraphBuilder.build_knowledge_graph()` method. Parameters:\n",
    "- *repo_name*: Name of the repository. Must match the format \"owner/repo_name\", as it is used for github API calls.\n",
    "- *graph_type* (optional): Type of subgraph to build from the functions. Can be \"CFG\" (Control Flow Graph) or \"AST\" (Abstract Syntax Tree). Default is \"CFG\".\n",
    "- *num_of_PRs* (optional): Number of pull requests to retrieve in detail. Defaults to 0 (all).\n",
    "- *create_embedding* (optional): Whether to create embeddings for the nodes. Defaults to False.\n",
    "- *repo_path_modifier* (optional): Path modifier for the repository for cases when only a subfolder is meant to be parsed.\n",
    "- *URI* (optional): URI for the Neo4J data saving.\n",
    "- *user* (optional): Username for the Neo4J data saving.\n",
    "- *password* (optional): Password for the Neo4J data saving."
   ]
  },
  {
   "cell_type": "code",
   "execution_count": 3,
   "id": "fbf28143",
   "metadata": {},
   "outputs": [
    {
     "name": "stdout",
     "output_type": "stream",
     "text": [
      "Repo already exists here: ./repos\\scikit-learn\n",
      "Building CG...\n",
      "CG build completed. Embedding CG nodes...\n"
     ]
    },
    {
     "name": "stderr",
     "output_type": "stream",
     "text": [
      "Batches: 100%|██████████| 3/3 [00:00<00:00,  7.77it/s]\n"
     ]
    },
    {
     "name": "stdout",
     "output_type": "stream",
     "text": [
      "CG nodes embedded.\n",
      "Creating subgraphs for each function...\n"
     ]
    },
    {
     "name": "stderr",
     "output_type": "stream",
     "text": [
      "0it [00:00, ?it/s]\n",
      "(process:31648): Pango-WARNING **: 15:24:41.527: couldn't load font \"DejaVu Sans Mono Not-Rotated 14\", falling back to \"Sans Not-Rotated 14\", expect ugly output.\n",
      "1it [00:20, 20.73s/it]\n",
      "(process:28240): Pango-WARNING **: 15:24:42.225: couldn't load font \"DejaVu Sans Mono Not-Rotated 14\", falling back to \"Sans Not-Rotated 14\", expect ugly output.\n",
      "2it [00:21,  8.91s/it]\n",
      "(process:30684): Pango-WARNING **: 15:24:42.952: couldn't load font \"DejaVu Sans Mono Not-Rotated 14\", falling back to \"Sans Not-Rotated 14\", expect ugly output.\n",
      "3it [00:22,  5.17s/it]\n",
      "(process:24348): Pango-WARNING **: 15:24:43.753: couldn't load font \"DejaVu Sans Mono Not-Rotated 14\", falling back to \"Sans Not-Rotated 14\", expect ugly output.\n",
      "4it [00:22,  3.45s/it]\n",
      "(process:31212): Pango-WARNING **: 15:24:44.417: couldn't load font \"DejaVu Sans Mono Not-Rotated 14\", falling back to \"Sans Not-Rotated 14\", expect ugly output.\n",
      "5it [00:23,  2.44s/it]\n",
      "(process:30960): Pango-WARNING **: 15:24:45.020: couldn't load font \"DejaVu Sans Mono Not-Rotated 14\", falling back to \"Sans Not-Rotated 14\", expect ugly output.\n",
      "6it [00:24,  1.82s/it]\n",
      "(process:30848): Pango-WARNING **: 15:24:45.646: couldn't load font \"DejaVu Sans Mono Not-Rotated 14\", falling back to \"Sans Not-Rotated 14\", expect ugly output.\n",
      "7it [00:24,  1.42s/it]\n",
      "(process:7612): Pango-WARNING **: 15:24:46.366: couldn't load font \"DejaVu Sans Mono Not-Rotated 14\", falling back to \"Sans Not-Rotated 14\", expect ugly output.\n",
      "8it [00:25,  1.21s/it]\n",
      "(process:10044): Pango-WARNING **: 15:24:46.994: couldn't load font \"DejaVu Sans Mono Not-Rotated 14\", falling back to \"Sans Not-Rotated 14\", expect ugly output.\n",
      "9it [00:26,  1.02s/it]\n",
      "(process:26608): Pango-WARNING **: 15:24:47.611: couldn't load font \"DejaVu Sans Mono Not-Rotated 14\", falling back to \"Sans Not-Rotated 14\", expect ugly output.\n",
      "10it [00:26,  1.12it/s]"
     ]
    },
    {
     "name": "stdout",
     "output_type": "stream",
     "text": [
      "WTF is this thing, build it in?? <class 'ast.BinOp'>\n",
      "Error creating CFG. Returning empty DataFrames.\n"
     ]
    },
    {
     "name": "stderr",
     "output_type": "stream",
     "text": [
      "\n",
      "(process:27344): Pango-WARNING **: 15:24:48.253: couldn't load font \"DejaVu Sans Mono Not-Rotated 14\", falling back to \"Sans Not-Rotated 14\", expect ugly output.\n",
      "12it [00:27,  1.59it/s]\n",
      "(process:10476): Pango-WARNING **: 15:24:48.877: couldn't load font \"DejaVu Sans Mono Not-Rotated 14\", falling back to \"Sans Not-Rotated 14\", expect ugly output.\n",
      "13it [00:27,  1.60it/s]\n",
      "(process:30328): Pango-WARNING **: 15:24:49.498: couldn't load font \"DejaVu Sans Mono Not-Rotated 14\", falling back to \"Sans Not-Rotated 14\", expect ugly output.\n",
      "14it [00:28,  1.60it/s]\n",
      "(process:17900): Pango-WARNING **: 15:24:50.161: couldn't load font \"DejaVu Sans Mono Not-Rotated 14\", falling back to \"Sans Not-Rotated 14\", expect ugly output.\n",
      "15it [00:29,  1.56it/s]\n",
      "(process:31280): Pango-WARNING **: 15:24:50.799: couldn't load font \"DejaVu Sans Mono Not-Rotated 14\", falling back to \"Sans Not-Rotated 14\", expect ugly output.\n",
      "16it [00:29,  1.56it/s]\n",
      "(process:10420): Pango-WARNING **: 15:24:51.475: couldn't load font \"DejaVu Sans Mono Not-Rotated 14\", falling back to \"Sans Not-Rotated 14\", expect ugly output.\n",
      "17it [00:30,  1.54it/s]"
     ]
    },
    {
     "name": "stdout",
     "output_type": "stream",
     "text": [
      "WTF is this thing, build it in?? <class 'ast.BinOp'>\n",
      "Error creating CFG. Returning empty DataFrames.\n"
     ]
    },
    {
     "name": "stderr",
     "output_type": "stream",
     "text": [
      "\n",
      "(process:19912): Pango-WARNING **: 15:24:52.171: couldn't load font \"DejaVu Sans Mono Not-Rotated 14\", falling back to \"Sans Not-Rotated 14\", expect ugly output.\n",
      "19it [00:31,  1.94it/s]\n",
      "(process:6324): Pango-WARNING **: 15:24:52.820: couldn't load font \"DejaVu Sans Mono Not-Rotated 14\", falling back to \"Sans Not-Rotated 14\", expect ugly output.\n",
      "20it [00:31,  1.84it/s]\n",
      "(process:15940): Pango-WARNING **: 15:24:53.495: couldn't load font \"DejaVu Sans Mono Not-Rotated 14\", falling back to \"Sans Not-Rotated 14\", expect ugly output.\n",
      "21it [00:32,  1.73it/s]\n",
      "(process:8572): Pango-WARNING **: 15:24:54.112: couldn't load font \"DejaVu Sans Mono Not-Rotated 14\", falling back to \"Sans Not-Rotated 14\", expect ugly output.\n",
      "22it [00:33,  1.71it/s]\n",
      "(process:21076): Pango-WARNING **: 15:24:54.712: couldn't load font \"DejaVu Sans Mono Not-Rotated 14\", falling back to \"Sans Not-Rotated 14\", expect ugly output.\n",
      "23it [00:33,  1.68it/s]\n",
      "(process:10828): Pango-WARNING **: 15:24:55.334: couldn't load font \"DejaVu Sans Mono Not-Rotated 14\", falling back to \"Sans Not-Rotated 14\", expect ugly output.\n",
      "24it [00:34,  1.68it/s]\n",
      "(process:4124): Pango-WARNING **: 15:24:55.981: couldn't load font \"DejaVu Sans Mono Not-Rotated 14\", falling back to \"Sans Not-Rotated 14\", expect ugly output.\n",
      "25it [00:35,  1.63it/s]\n",
      "(process:31488): Pango-WARNING **: 15:24:56.635: couldn't load font \"DejaVu Sans Mono Not-Rotated 14\", falling back to \"Sans Not-Rotated 14\", expect ugly output.\n",
      "26it [00:35,  1.59it/s]\n",
      "(process:27112): Pango-WARNING **: 15:24:57.353: couldn't load font \"DejaVu Sans Mono Not-Rotated 14\", falling back to \"Sans Not-Rotated 14\", expect ugly output.\n",
      "27it [00:36,  1.53it/s]\n",
      "(process:31004): Pango-WARNING **: 15:24:58.031: couldn't load font \"DejaVu Sans Mono Not-Rotated 14\", falling back to \"Sans Not-Rotated 14\", expect ugly output.\n",
      "28it [00:37,  1.50it/s]\n",
      "(process:17784): Pango-WARNING **: 15:24:58.685: couldn't load font \"DejaVu Sans Mono Not-Rotated 14\", falling back to \"Sans Not-Rotated 14\", expect ugly output.\n",
      "29it [00:37,  1.53it/s]\n",
      "(process:16900): Pango-WARNING **: 15:24:59.305: couldn't load font \"DejaVu Sans Mono Not-Rotated 14\", falling back to \"Sans Not-Rotated 14\", expect ugly output.\n",
      "30it [00:38,  1.54it/s]\n",
      "(process:18868): Pango-WARNING **: 15:25:00.103: couldn't load font \"DejaVu Sans Mono Not-Rotated 14\", falling back to \"Sans Not-Rotated 14\", expect ugly output.\n",
      "31it [00:39,  1.44it/s]\n",
      "(process:25716): Pango-WARNING **: 15:25:00.797: couldn't load font \"DejaVu Sans Mono Not-Rotated 14\", falling back to \"Sans Not-Rotated 14\", expect ugly output.\n",
      "32it [00:39,  1.44it/s]\n",
      "(process:14712): Pango-WARNING **: 15:25:01.462: couldn't load font \"DejaVu Sans Mono Not-Rotated 14\", falling back to \"Sans Not-Rotated 14\", expect ugly output.\n",
      "33it [00:40,  1.46it/s]\n",
      "(process:5276): Pango-WARNING **: 15:25:02.111: couldn't load font \"DejaVu Sans Mono Not-Rotated 14\", falling back to \"Sans Not-Rotated 14\", expect ugly output.\n",
      "34it [00:41,  1.50it/s]\n",
      "(process:10264): Pango-WARNING **: 15:25:02.700: couldn't load font \"DejaVu Sans Mono Not-Rotated 14\", falling back to \"Sans Not-Rotated 14\", expect ugly output.\n",
      "35it [00:41,  1.54it/s]\n",
      "(process:28900): Pango-WARNING **: 15:25:03.313: couldn't load font \"DejaVu Sans Mono Not-Rotated 14\", falling back to \"Sans Not-Rotated 14\", expect ugly output.\n",
      "36it [00:42,  1.55it/s]\n",
      "(process:12696): Pango-WARNING **: 15:25:04.027: couldn't load font \"DejaVu Sans Mono Not-Rotated 14\", falling back to \"Sans Not-Rotated 14\", expect ugly output.\n",
      "37it [00:43,  1.52it/s]\n",
      "(process:4748): Pango-WARNING **: 15:25:04.681: couldn't load font \"DejaVu Sans Mono Not-Rotated 14\", falling back to \"Sans Not-Rotated 14\", expect ugly output.\n",
      "38it [00:43,  1.51it/s]\n",
      "(process:17240): Pango-WARNING **: 15:25:05.340: couldn't load font \"DejaVu Sans Mono Not-Rotated 14\", falling back to \"Sans Not-Rotated 14\", expect ugly output.\n",
      "39it [00:44,  1.54it/s]\n",
      "(process:16656): Pango-WARNING **: 15:25:05.944: couldn't load font \"DejaVu Sans Mono Not-Rotated 14\", falling back to \"Sans Not-Rotated 14\", expect ugly output.\n",
      "40it [00:45,  1.57it/s]\n",
      "(process:13972): Pango-WARNING **: 15:25:06.645: couldn't load font \"DejaVu Sans Mono Not-Rotated 14\", falling back to \"Sans Not-Rotated 14\", expect ugly output.\n",
      "41it [00:45,  1.52it/s]\n",
      "(process:22676): Pango-WARNING **: 15:25:07.297: couldn't load font \"DejaVu Sans Mono Not-Rotated 14\", falling back to \"Sans Not-Rotated 14\", expect ugly output.\n",
      "42it [00:46,  1.51it/s]\n",
      "(process:19544): Pango-WARNING **: 15:25:08.064: couldn't load font \"DejaVu Sans Mono Not-Rotated 14\", falling back to \"Sans Not-Rotated 14\", expect ugly output.\n",
      "43it [00:47,  1.45it/s]\n",
      "(process:16336): Pango-WARNING **: 15:25:08.697: couldn't load font \"DejaVu Sans Mono Not-Rotated 14\", falling back to \"Sans Not-Rotated 14\", expect ugly output.\n",
      "44it [00:47,  1.49it/s]\n",
      "(process:12272): Pango-WARNING **: 15:25:09.313: couldn't load font \"DejaVu Sans Mono Not-Rotated 14\", falling back to \"Sans Not-Rotated 14\", expect ugly output.\n",
      "45it [00:48,  1.51it/s]\n",
      "(process:22828): Pango-WARNING **: 15:25:09.937: couldn't load font \"DejaVu Sans Mono Not-Rotated 14\", falling back to \"Sans Not-Rotated 14\", expect ugly output.\n",
      "46it [00:49,  1.54it/s]\n",
      "(process:1636): Pango-WARNING **: 15:25:10.649: couldn't load font \"DejaVu Sans Mono Not-Rotated 14\", falling back to \"Sans Not-Rotated 14\", expect ugly output.\n",
      "47it [00:49,  1.51it/s]\n",
      "(process:14320): Pango-WARNING **: 15:25:11.348: couldn't load font \"DejaVu Sans Mono Not-Rotated 14\", falling back to \"Sans Not-Rotated 14\", expect ugly output.\n",
      "48it [00:50,  1.48it/s]\n",
      "(process:31192): Pango-WARNING **: 15:25:11.979: couldn't load font \"DejaVu Sans Mono Not-Rotated 14\", falling back to \"Sans Not-Rotated 14\", expect ugly output.\n",
      "49it [00:51,  1.50it/s]\n",
      "(process:10640): Pango-WARNING **: 15:25:12.605: couldn't load font \"DejaVu Sans Mono Not-Rotated 14\", falling back to \"Sans Not-Rotated 14\", expect ugly output.\n",
      "50it [00:51,  1.52it/s]\n",
      "(process:29428): Pango-WARNING **: 15:25:13.255: couldn't load font \"DejaVu Sans Mono Not-Rotated 14\", falling back to \"Sans Not-Rotated 14\", expect ugly output.\n",
      "51it [00:52,  1.54it/s]\n",
      "(process:29284): Pango-WARNING **: 15:25:13.892: couldn't load font \"DejaVu Sans Mono Not-Rotated 14\", falling back to \"Sans Not-Rotated 14\", expect ugly output.\n",
      "52it [00:53,  1.56it/s]\n",
      "(process:31320): Pango-WARNING **: 15:25:14.504: couldn't load font \"DejaVu Sans Mono Not-Rotated 14\", falling back to \"Sans Not-Rotated 14\", expect ugly output.\n",
      "53it [00:53,  1.58it/s]\n",
      "(process:16508): Pango-WARNING **: 15:25:15.243: couldn't load font \"DejaVu Sans Mono Not-Rotated 14\", falling back to \"Sans Not-Rotated 14\", expect ugly output.\n",
      "54it [00:54,  1.52it/s]\n",
      "(process:5368): Pango-WARNING **: 15:25:15.875: couldn't load font \"DejaVu Sans Mono Not-Rotated 14\", falling back to \"Sans Not-Rotated 14\", expect ugly output.\n",
      "55it [00:54,  1.53it/s]\n",
      "(process:14752): Pango-WARNING **: 15:25:16.528: couldn't load font \"DejaVu Sans Mono Not-Rotated 14\", falling back to \"Sans Not-Rotated 14\", expect ugly output.\n",
      "56it [00:55,  1.52it/s]\n",
      "(process:10948): Pango-WARNING **: 15:25:17.174: couldn't load font \"DejaVu Sans Mono Not-Rotated 14\", falling back to \"Sans Not-Rotated 14\", expect ugly output.\n",
      "57it [00:56,  1.55it/s]\n",
      "(process:31100): Pango-WARNING **: 15:25:17.776: couldn't load font \"DejaVu Sans Mono Not-Rotated 14\", falling back to \"Sans Not-Rotated 14\", expect ugly output.\n",
      "58it [00:56,  1.57it/s]\n",
      "(process:11648): Pango-WARNING **: 15:25:18.464: couldn't load font \"DejaVu Sans Mono Not-Rotated 14\", falling back to \"Sans Not-Rotated 14\", expect ugly output.\n",
      "59it [00:57,  1.52it/s]\n",
      "(process:5792): Pango-WARNING **: 15:25:19.080: couldn't load font \"DejaVu Sans Mono Not-Rotated 14\", falling back to \"Sans Not-Rotated 14\", expect ugly output.\n",
      "60it [00:58,  1.54it/s]\n",
      "(process:2936): Pango-WARNING **: 15:25:19.851: couldn't load font \"DejaVu Sans Mono Not-Rotated 14\", falling back to \"Sans Not-Rotated 14\", expect ugly output.\n",
      "61it [00:58,  1.46it/s]\n",
      "(process:21076): Pango-WARNING **: 15:25:20.502: couldn't load font \"DejaVu Sans Mono Not-Rotated 14\", falling back to \"Sans Not-Rotated 14\", expect ugly output.\n",
      "62it [00:59,  1.49it/s]\n",
      "(process:30788): Pango-WARNING **: 15:25:21.121: couldn't load font \"DejaVu Sans Mono Not-Rotated 14\", falling back to \"Sans Not-Rotated 14\", expect ugly output.\n",
      "63it [01:00,  1.53it/s]\n",
      "(process:29968): Pango-WARNING **: 15:25:21.728: couldn't load font \"DejaVu Sans Mono Not-Rotated 14\", falling back to \"Sans Not-Rotated 14\", expect ugly output.\n",
      "64it [01:00,  1.55it/s]\n",
      "(process:6484): Pango-WARNING **: 15:25:22.351: couldn't load font \"DejaVu Sans Mono Not-Rotated 14\", falling back to \"Sans Not-Rotated 14\", expect ugly output.\n",
      "65it [01:01,  1.57it/s]\n",
      "(process:24776): Pango-WARNING **: 15:25:23.072: couldn't load font \"DejaVu Sans Mono Not-Rotated 14\", falling back to \"Sans Not-Rotated 14\", expect ugly output.\n",
      "66it [01:02,  1.52it/s]\n",
      "(process:22828): Pango-WARNING **: 15:25:23.712: couldn't load font \"DejaVu Sans Mono Not-Rotated 14\", falling back to \"Sans Not-Rotated 14\", expect ugly output.\n",
      "67it [01:02,  1.52it/s]\n",
      "(process:27976): Pango-WARNING **: 15:25:24.345: couldn't load font \"DejaVu Sans Mono Not-Rotated 14\", falling back to \"Sans Not-Rotated 14\", expect ugly output.\n",
      "68it [01:03,  1.54it/s]\n",
      "(process:3524): Pango-WARNING **: 15:25:25.007: couldn't load font \"DejaVu Sans Mono Not-Rotated 14\", falling back to \"Sans Not-Rotated 14\", expect ugly output.\n",
      "69it [01:04,  1.53it/s]\n",
      "(process:11908): Pango-WARNING **: 15:25:25.650: couldn't load font \"DejaVu Sans Mono Not-Rotated 14\", falling back to \"Sans Not-Rotated 14\", expect ugly output.\n",
      "70it [01:04,  1.54it/s]\n",
      "(process:7968): Pango-WARNING **: 15:25:26.276: couldn't load font \"DejaVu Sans Mono Not-Rotated 14\", falling back to \"Sans Not-Rotated 14\", expect ugly output.\n",
      "71it [01:05,  1.57it/s]\n",
      "(process:25716): Pango-WARNING **: 15:25:27.011: couldn't load font \"DejaVu Sans Mono Not-Rotated 14\", falling back to \"Sans Not-Rotated 14\", expect ugly output.\n",
      "72it [01:06,  1.49it/s]\n",
      "(process:6972): Pango-WARNING **: 15:25:27.688: couldn't load font \"DejaVu Sans Mono Not-Rotated 14\", falling back to \"Sans Not-Rotated 14\", expect ugly output.\n",
      "73it [01:06,  1.48it/s]\n",
      "(process:18512): Pango-WARNING **: 15:25:28.356: couldn't load font \"DejaVu Sans Mono Not-Rotated 14\", falling back to \"Sans Not-Rotated 14\", expect ugly output.\n",
      "74it [01:07,  1.51it/s]\n",
      "(process:14228): Pango-WARNING **: 15:25:29.006: couldn't load font \"DejaVu Sans Mono Not-Rotated 14\", falling back to \"Sans Not-Rotated 14\", expect ugly output.\n",
      "75it [01:08,  1.49it/s]\n",
      "(process:14676): Pango-WARNING **: 15:25:29.654: couldn't load font \"DejaVu Sans Mono Not-Rotated 14\", falling back to \"Sans Not-Rotated 14\", expect ugly output.\n",
      "76it [01:08,  1.51it/s]\n",
      "(process:7092): Pango-WARNING **: 15:25:30.300: couldn't load font \"DejaVu Sans Mono Not-Rotated 14\", falling back to \"Sans Not-Rotated 14\", expect ugly output.\n",
      "77it [01:09,  1.51it/s]\n",
      "(process:25432): Pango-WARNING **: 15:25:30.991: couldn't load font \"DejaVu Sans Mono Not-Rotated 14\", falling back to \"Sans Not-Rotated 14\", expect ugly output.\n",
      "78it [01:10,  1.50it/s]\n",
      "(process:28752): Pango-WARNING **: 15:25:31.703: couldn't load font \"DejaVu Sans Mono Not-Rotated 14\", falling back to \"Sans Not-Rotated 14\", expect ugly output.\n",
      "79it [01:10,  1.46it/s]"
     ]
    },
    {
     "name": "stdout",
     "output_type": "stream",
     "text": [
      "WTF is this thing, build it in?? <class 'ast.BinOp'>\n",
      "Error creating CFG. Returning empty DataFrames.\n"
     ]
    },
    {
     "name": "stderr",
     "output_type": "stream",
     "text": [
      "\n",
      "(process:10624): Pango-WARNING **: 15:25:32.410: couldn't load font \"DejaVu Sans Mono Not-Rotated 14\", falling back to \"Sans Not-Rotated 14\", expect ugly output.\n",
      "81it [01:11,  1.88it/s]\n",
      "(process:28096): Pango-WARNING **: 15:25:33.111: couldn't load font \"DejaVu Sans Mono Not-Rotated 14\", falling back to \"Sans Not-Rotated 14\", expect ugly output.\n",
      "82it [01:12,  1.75it/s]\n",
      "(process:6636): Pango-WARNING **: 15:25:33.774: couldn't load font \"DejaVu Sans Mono Not-Rotated 14\", falling back to \"Sans Not-Rotated 14\", expect ugly output.\n",
      "83it [01:12,  1.70it/s]\n",
      "(process:27036): Pango-WARNING **: 15:25:34.434: couldn't load font \"DejaVu Sans Mono Not-Rotated 14\", falling back to \"Sans Not-Rotated 14\", expect ugly output.\n",
      "84it [01:13,  1.62it/s]\n",
      "(process:24848): Pango-WARNING **: 15:25:35.126: couldn't load font \"DejaVu Sans Mono Not-Rotated 14\", falling back to \"Sans Not-Rotated 14\", expect ugly output.\n",
      "85it [01:14,  1.57it/s]\n",
      "(process:17828): Pango-WARNING **: 15:25:35.825: couldn't load font \"DejaVu Sans Mono Not-Rotated 14\", falling back to \"Sans Not-Rotated 14\", expect ugly output.\n",
      "86it [01:14,  1.54it/s]\n",
      "(process:564): Pango-WARNING **: 15:25:36.511: couldn't load font \"DejaVu Sans Mono Not-Rotated 14\", falling back to \"Sans Not-Rotated 14\", expect ugly output.\n",
      "87it [01:15,  1.51it/s]\n",
      "(process:24792): Pango-WARNING **: 15:25:37.204: couldn't load font \"DejaVu Sans Mono Not-Rotated 14\", falling back to \"Sans Not-Rotated 14\", expect ugly output.\n",
      "88it [01:16,  1.49it/s]\n",
      "(process:15064): Pango-WARNING **: 15:25:37.879: couldn't load font \"DejaVu Sans Mono Not-Rotated 14\", falling back to \"Sans Not-Rotated 14\", expect ugly output.\n",
      "89it [01:17,  1.48it/s]\n",
      "(process:10640): Pango-WARNING **: 15:25:38.532: couldn't load font \"DejaVu Sans Mono Not-Rotated 14\", falling back to \"Sans Not-Rotated 14\", expect ugly output.\n",
      "90it [01:17,  1.51it/s]\n",
      "(process:2760): Pango-WARNING **: 15:25:39.165: couldn't load font \"DejaVu Sans Mono Not-Rotated 14\", falling back to \"Sans Not-Rotated 14\", expect ugly output.\n",
      "91it [01:18,  1.52it/s]\n",
      "(process:1796): Pango-WARNING **: 15:25:39.863: couldn't load font \"DejaVu Sans Mono Not-Rotated 14\", falling back to \"Sans Not-Rotated 14\", expect ugly output.\n",
      "92it [01:19,  1.47it/s]\n",
      "(process:31028): Pango-WARNING **: 15:25:40.552: couldn't load font \"DejaVu Sans Mono Not-Rotated 14\", falling back to \"Sans Not-Rotated 14\", expect ugly output.\n",
      "93it [01:19,  1.49it/s]\n",
      "(process:27340): Pango-WARNING **: 15:25:41.204: couldn't load font \"DejaVu Sans Mono Not-Rotated 14\", falling back to \"Sans Not-Rotated 14\", expect ugly output.\n",
      "94it [01:20,  1.50it/s]\n",
      "(process:14228): Pango-WARNING **: 15:25:41.930: couldn't load font \"DejaVu Sans Mono Not-Rotated 14\", falling back to \"Sans Not-Rotated 14\", expect ugly output.\n",
      "95it [01:21,  1.46it/s]\n",
      "(process:13644): Pango-WARNING **: 15:25:42.535: couldn't load font \"DejaVu Sans Mono Not-Rotated 14\", falling back to \"Sans Not-Rotated 14\", expect ugly output.\n",
      "96it [01:21,  1.52it/s]\n",
      "(process:25820): Pango-WARNING **: 15:25:43.163: couldn't load font \"DejaVu Sans Mono Not-Rotated 14\", falling back to \"Sans Not-Rotated 14\", expect ugly output.\n",
      "97it [01:22,  1.53it/s]\n",
      "(process:23860): Pango-WARNING **: 15:25:43.804: couldn't load font \"DejaVu Sans Mono Not-Rotated 14\", falling back to \"Sans Not-Rotated 14\", expect ugly output.\n",
      "98it [01:22,  1.54it/s]\n",
      "(process:4192): Pango-WARNING **: 15:25:44.457: couldn't load font \"DejaVu Sans Mono Not-Rotated 14\", falling back to \"Sans Not-Rotated 14\", expect ugly output.\n",
      "99it [01:23,  1.53it/s]\n",
      "(process:25360): Pango-WARNING **: 15:25:45.130: couldn't load font \"DejaVu Sans Mono Not-Rotated 14\", falling back to \"Sans Not-Rotated 14\", expect ugly output.\n",
      "100it [01:24,  1.52it/s]\n",
      "(process:24908): Pango-WARNING **: 15:25:45.788: couldn't load font \"DejaVu Sans Mono Not-Rotated 14\", falling back to \"Sans Not-Rotated 14\", expect ugly output.\n",
      "101it [01:24,  1.53it/s]\n",
      "(process:5792): Pango-WARNING **: 15:25:46.433: couldn't load font \"DejaVu Sans Mono Not-Rotated 14\", falling back to \"Sans Not-Rotated 14\", expect ugly output.\n",
      "102it [01:25,  1.54it/s]\n",
      "(process:6868): Pango-WARNING **: 15:25:47.060: couldn't load font \"DejaVu Sans Mono Not-Rotated 14\", falling back to \"Sans Not-Rotated 14\", expect ugly output.\n",
      "103it [01:26,  1.55it/s]\n",
      "(process:19504): Pango-WARNING **: 15:25:47.700: couldn't load font \"DejaVu Sans Mono Not-Rotated 14\", falling back to \"Sans Not-Rotated 14\", expect ugly output.\n",
      "104it [01:26,  1.55it/s]\n",
      "(process:27040): Pango-WARNING **: 15:25:48.376: couldn't load font \"DejaVu Sans Mono Not-Rotated 14\", falling back to \"Sans Not-Rotated 14\", expect ugly output.\n",
      "105it [01:27,  1.54it/s]\n",
      "(process:10184): Pango-WARNING **: 15:25:49.022: couldn't load font \"DejaVu Sans Mono Not-Rotated 14\", falling back to \"Sans Not-Rotated 14\", expect ugly output.\n",
      "106it [01:28,  1.52it/s]\n",
      "(process:5972): Pango-WARNING **: 15:25:49.700: couldn't load font \"DejaVu Sans Mono Not-Rotated 14\", falling back to \"Sans Not-Rotated 14\", expect ugly output.\n",
      "107it [01:28,  1.51it/s]\n",
      "(process:18264): Pango-WARNING **: 15:25:50.353: couldn't load font \"DejaVu Sans Mono Not-Rotated 14\", falling back to \"Sans Not-Rotated 14\", expect ugly output.\n",
      "108it [01:29,  1.52it/s]\n",
      "(process:30960): Pango-WARNING **: 15:25:50.988: couldn't load font \"DejaVu Sans Mono Not-Rotated 14\", falling back to \"Sans Not-Rotated 14\", expect ugly output.\n",
      "109it [01:30,  1.54it/s]\n",
      "(process:17924): Pango-WARNING **: 15:25:51.766: couldn't load font \"DejaVu Sans Mono Not-Rotated 14\", falling back to \"Sans Not-Rotated 14\", expect ugly output.\n",
      "110it [01:30,  1.44it/s]\n",
      "(process:30996): Pango-WARNING **: 15:25:52.441: couldn't load font \"DejaVu Sans Mono Not-Rotated 14\", falling back to \"Sans Not-Rotated 14\", expect ugly output.\n",
      "111it [01:31,  1.46it/s]\n",
      "(process:27496): Pango-WARNING **: 15:25:53.093: couldn't load font \"DejaVu Sans Mono Not-Rotated 14\", falling back to \"Sans Not-Rotated 14\", expect ugly output.\n",
      "112it [01:32,  1.49it/s]\n",
      "(process:29620): Pango-WARNING **: 15:25:53.710: couldn't load font \"DejaVu Sans Mono Not-Rotated 14\", falling back to \"Sans Not-Rotated 14\", expect ugly output.\n",
      "113it [01:32,  1.53it/s]\n",
      "(process:24872): Pango-WARNING **: 15:25:54.333: couldn't load font \"DejaVu Sans Mono Not-Rotated 14\", falling back to \"Sans Not-Rotated 14\", expect ugly output.\n",
      "114it [01:33,  1.56it/s]\n",
      "(process:2824): Pango-WARNING **: 15:25:54.950: couldn't load font \"DejaVu Sans Mono Not-Rotated 14\", falling back to \"Sans Not-Rotated 14\", expect ugly output.\n",
      "115it [01:34,  1.57it/s]\n",
      "(process:21884): Pango-WARNING **: 15:25:55.596: couldn't load font \"DejaVu Sans Mono Not-Rotated 14\", falling back to \"Sans Not-Rotated 14\", expect ugly output.\n",
      "116it [01:34,  1.58it/s]\n",
      "(process:16028): Pango-WARNING **: 15:25:56.221: couldn't load font \"DejaVu Sans Mono Not-Rotated 14\", falling back to \"Sans Not-Rotated 14\", expect ugly output.\n",
      "117it [01:35,  1.56it/s]\n",
      "(process:24116): Pango-WARNING **: 15:25:56.868: couldn't load font \"DejaVu Sans Mono Not-Rotated 14\", falling back to \"Sans Not-Rotated 14\", expect ugly output.\n",
      "118it [01:35,  1.57it/s]\n",
      "(process:27572): Pango-WARNING **: 15:25:57.503: couldn't load font \"DejaVu Sans Mono Not-Rotated 14\", falling back to \"Sans Not-Rotated 14\", expect ugly output.\n",
      "119it [01:36,  1.56it/s]\n",
      "(process:3868): Pango-WARNING **: 15:25:58.143: couldn't load font \"DejaVu Sans Mono Not-Rotated 14\", falling back to \"Sans Not-Rotated 14\", expect ugly output.\n",
      "120it [01:37,  1.57it/s]\n",
      "(process:19332): Pango-WARNING **: 15:25:58.765: couldn't load font \"DejaVu Sans Mono Not-Rotated 14\", falling back to \"Sans Not-Rotated 14\", expect ugly output.\n",
      "121it [01:37,  1.56it/s]\n",
      "(process:8572): Pango-WARNING **: 15:25:59.523: couldn't load font \"DejaVu Sans Mono Not-Rotated 14\", falling back to \"Sans Not-Rotated 14\", expect ugly output.\n",
      "122it [01:38,  1.49it/s]\n",
      "(process:5796): Pango-WARNING **: 15:26:00.171: couldn't load font \"DejaVu Sans Mono Not-Rotated 14\", falling back to \"Sans Not-Rotated 14\", expect ugly output.\n",
      "123it [01:39,  1.50it/s]\n",
      "(process:6560): Pango-WARNING **: 15:26:00.818: couldn't load font \"DejaVu Sans Mono Not-Rotated 14\", falling back to \"Sans Not-Rotated 14\", expect ugly output.\n",
      "124it [01:39,  1.52it/s]\n",
      "(process:28352): Pango-WARNING **: 15:26:01.465: couldn't load font \"DejaVu Sans Mono Not-Rotated 14\", falling back to \"Sans Not-Rotated 14\", expect ugly output.\n",
      "125it [01:40,  1.52it/s]\n",
      "(process:30684): Pango-WARNING **: 15:26:02.087: couldn't load font \"DejaVu Sans Mono Not-Rotated 14\", falling back to \"Sans Not-Rotated 14\", expect ugly output.\n",
      "126it [01:41,  1.55it/s]\n",
      "(process:28596): Pango-WARNING **: 15:26:02.700: couldn't load font \"DejaVu Sans Mono Not-Rotated 14\", falling back to \"Sans Not-Rotated 14\", expect ugly output.\n",
      "127it [01:41,  1.58it/s]\n",
      "(process:11364): Pango-WARNING **: 15:26:03.298: couldn't load font \"DejaVu Sans Mono Not-Rotated 14\", falling back to \"Sans Not-Rotated 14\", expect ugly output.\n",
      "128it [01:42,  1.60it/s]\n",
      "(process:5608): Pango-WARNING **: 15:26:03.912: couldn't load font \"DejaVu Sans Mono Not-Rotated 14\", falling back to \"Sans Not-Rotated 14\", expect ugly output.\n",
      "129it [01:43,  1.62it/s]\n",
      "(process:27812): Pango-WARNING **: 15:26:04.635: couldn't load font \"DejaVu Sans Mono Not-Rotated 14\", falling back to \"Sans Not-Rotated 14\", expect ugly output.\n",
      "130it [01:43,  1.54it/s]\n",
      "(process:15704): Pango-WARNING **: 15:26:05.372: couldn't load font \"DejaVu Sans Mono Not-Rotated 14\", falling back to \"Sans Not-Rotated 14\", expect ugly output.\n",
      "131it [01:44,  1.48it/s]\n",
      "(process:30292): Pango-WARNING **: 15:26:05.976: couldn't load font \"DejaVu Sans Mono Not-Rotated 14\", falling back to \"Sans Not-Rotated 14\", expect ugly output.\n",
      "132it [01:45,  1.53it/s]\n",
      "(process:25976): Pango-WARNING **: 15:26:06.704: couldn't load font \"DejaVu Sans Mono Not-Rotated 14\", falling back to \"Sans Not-Rotated 14\", expect ugly output.\n",
      "133it [01:45,  1.48it/s]\n",
      "(process:7968): Pango-WARNING **: 15:26:07.353: couldn't load font \"DejaVu Sans Mono Not-Rotated 14\", falling back to \"Sans Not-Rotated 14\", expect ugly output.\n",
      "134it [01:46,  1.49it/s]\n",
      "(process:5100): Pango-WARNING **: 15:26:07.994: couldn't load font \"DejaVu Sans Mono Not-Rotated 14\", falling back to \"Sans Not-Rotated 14\", expect ugly output.\n",
      "135it [01:47,  1.51it/s]\n",
      "(process:4512): Pango-WARNING **: 15:26:08.657: couldn't load font \"DejaVu Sans Mono Not-Rotated 14\", falling back to \"Sans Not-Rotated 14\", expect ugly output.\n",
      "136it [01:47,  1.50it/s]\n",
      "(process:28520): Pango-WARNING **: 15:26:09.303: couldn't load font \"DejaVu Sans Mono Not-Rotated 14\", falling back to \"Sans Not-Rotated 14\", expect ugly output.\n",
      "137it [01:48,  1.52it/s]\n",
      "(process:17192): Pango-WARNING **: 15:26:09.911: couldn't load font \"DejaVu Sans Mono Not-Rotated 14\", falling back to \"Sans Not-Rotated 14\", expect ugly output.\n",
      "138it [01:49,  1.56it/s]\n",
      "(process:6392): Pango-WARNING **: 15:26:10.511: couldn't load font \"DejaVu Sans Mono Not-Rotated 14\", falling back to \"Sans Not-Rotated 14\", expect ugly output.\n",
      "139it [01:49,  1.58it/s]\n",
      "(process:3868): Pango-WARNING **: 15:26:11.153: couldn't load font \"DejaVu Sans Mono Not-Rotated 14\", falling back to \"Sans Not-Rotated 14\", expect ugly output.\n",
      "140it [01:50,  1.58it/s]\n",
      "(process:30232): Pango-WARNING **: 15:26:11.785: couldn't load font \"DejaVu Sans Mono Not-Rotated 14\", falling back to \"Sans Not-Rotated 14\", expect ugly output.\n",
      "141it [01:50,  1.59it/s]\n",
      "(process:19536): Pango-WARNING **: 15:26:12.410: couldn't load font \"DejaVu Sans Mono Not-Rotated 14\", falling back to \"Sans Not-Rotated 14\", expect ugly output.\n",
      "142it [01:51,  1.59it/s]\n",
      "(process:17864): Pango-WARNING **: 15:26:13.044: couldn't load font \"DejaVu Sans Mono Not-Rotated 14\", falling back to \"Sans Not-Rotated 14\", expect ugly output.\n",
      "143it [01:52,  1.58it/s]"
     ]
    },
    {
     "name": "stdout",
     "output_type": "stream",
     "text": [
      "Error creating CFG. Returning empty DataFrames.\n"
     ]
    },
    {
     "name": "stderr",
     "output_type": "stream",
     "text": [
      "\n",
      "(process:5412): Pango-WARNING **: 15:26:13.666: couldn't load font \"DejaVu Sans Mono Not-Rotated 14\", falling back to \"Sans Not-Rotated 14\", expect ugly output.\n",
      "145it [01:52,  2.06it/s]\n",
      "(process:10768): Pango-WARNING **: 15:26:14.281: couldn't load font \"DejaVu Sans Mono Not-Rotated 14\", falling back to \"Sans Not-Rotated 14\", expect ugly output.\n",
      "146it [01:53,  1.92it/s]\n",
      "(process:1772): Pango-WARNING **: 15:26:14.907: couldn't load font \"DejaVu Sans Mono Not-Rotated 14\", falling back to \"Sans Not-Rotated 14\", expect ugly output.\n",
      "147it [01:54,  1.84it/s]\n",
      "(process:10380): Pango-WARNING **: 15:26:15.538: couldn't load font \"DejaVu Sans Mono Not-Rotated 14\", falling back to \"Sans Not-Rotated 14\", expect ugly output.\n",
      "148it [01:54,  1.77it/s]\n",
      "(process:8832): Pango-WARNING **: 15:26:16.286: couldn't load font \"DejaVu Sans Mono Not-Rotated 14\", falling back to \"Sans Not-Rotated 14\", expect ugly output.\n",
      "149it [01:55,  1.62it/s]\n",
      "(process:31004): Pango-WARNING **: 15:26:16.924: couldn't load font \"DejaVu Sans Mono Not-Rotated 14\", falling back to \"Sans Not-Rotated 14\", expect ugly output.\n",
      "150it [01:56,  1.61it/s]\n",
      "(process:29052): Pango-WARNING **: 15:26:17.549: couldn't load font \"DejaVu Sans Mono Not-Rotated 14\", falling back to \"Sans Not-Rotated 14\", expect ugly output.\n",
      "151it [01:56,  1.29it/s]\n"
     ]
    },
    {
     "name": "stdout",
     "output_type": "stream",
     "text": [
      "Subgraphs created.\n",
      "Embedding subgraph nodes...\n"
     ]
    },
    {
     "name": "stderr",
     "output_type": "stream",
     "text": [
      "100%|██████████| 24/24 [00:10<00:00,  2.19it/s]\n"
     ]
    },
    {
     "name": "stdout",
     "output_type": "stream",
     "text": [
      "Subgraph nodes embedded.\n",
      "Filtering graph nodes...\n",
      "Graph nodes filtered. Creating hierarchical edges...\n",
      "Hierarchical graph building successful.\n"
     ]
    },
    {
     "name": "stderr",
     "output_type": "stream",
     "text": [
      "Loading checkpoint shards: 100%|██████████| 3/3 [00:00<00:00,  4.74it/s]\n",
      "Device set to use cuda:0\n"
     ]
    },
    {
     "name": "stdout",
     "output_type": "stream",
     "text": [
      "Number of clusters: 50 with silhouette score: 0.17897285534123566\n",
      "Function nodes clustered.\n",
      "Issues scraped.\n",
      "PRs scraped.\n",
      "Artifacts scraped.\n",
      "Hiba a(z) CUDA GPU feldolgozásakor: unhashable type: 'dict'\n",
      "Hiba a(z) Dependabot Updates feldolgozásakor: 404 {\"message\": \"Not Found\", \"documentation_url\": \"https://docs.github.com/rest/repos/contents#get-repository-content\", \"status\": \"404\"}\n",
      "Hiba a(z) Unit test for ARM feldolgozásakor: 404 {\"message\": \"Not Found\", \"documentation_url\": \"https://docs.github.com/rest/repos/contents#get-repository-content\", \"status\": \"404\"}\n",
      "Actions scraped.\n",
      "Issue to PR edges created.\n"
     ]
    }
   ],
   "source": [
    "repograph = kgb.build_knowledge_graph(\n",
    "    repo_name='scikit-learn/scikit-learn',\n",
    "    num_of_PRs=3,\n",
    "    repo_path_modifier='sklearn/manifold',\n",
    "    create_embedding=True,\n",
    ")"
   ]
  },
  {
   "cell_type": "code",
   "execution_count": 4,
   "id": "7d218c8c",
   "metadata": {},
   "outputs": [
    {
     "data": {
      "text/plain": [
       "dict_keys(['function_nodes', 'function_edges', 'subgraph_nodes', 'subgraph_edges', 'subgraph_function_edges', 'function_subgraph_edges', 'import_nodes', 'import_function_edges', 'pr_nodes', 'pr_function_edges', 'issue_nodes', 'issue_pr_edges', 'artifacts', 'actions', 'cluster_nodes', 'cluster_function_edges', 'functionversion_nodes', 'functionversion_edges', 'functionversion_function_edges', 'developer_node', 'developer_function_edges', 'question_nodes', 'question_cluster_edges'])"
      ]
     },
     "execution_count": 4,
     "metadata": {},
     "output_type": "execute_result"
    }
   ],
   "source": [
    "repograph.keys()"
   ]
  },
  {
   "cell_type": "markdown",
   "id": "f6713aac",
   "metadata": {},
   "source": [
    "# 2. Visualize graph\n",
    "\n",
    "Create a HTML visualizaiton of the graph with the `visualize_graph` function. NOTE: for large graphs, it is advised to only plot a fraction of the nodes, othervise the visualization might not render properly. Parameters:\n",
    "- *repograph*: The dictionary containing the created repository graph.\n",
    "- *show_subgraph_nodes* (optional): Whether to plot the subgraph (CFG or AST) nodes. Defaults to *False*.\n",
    "- *save_path* (optional): The file path to save the visualization. Defaults to \"./graph.html\"."
   ]
  },
  {
   "cell_type": "code",
   "execution_count": null,
   "id": "6b60fee9",
   "metadata": {},
   "outputs": [
    {
     "name": "stdout",
     "output_type": "stream",
     "text": [
      "Filtered sklearn graph. visualization saved to filtered_graph.html\n"
     ]
    },
    {
     "data": {
      "text/plain": [
       "<networkx.classes.graph.Graph at 0x1d5852e87d0>"
      ]
     },
     "execution_count": 12,
     "metadata": {},
     "output_type": "execute_result"
    }
   ],
   "source": [
    "kgb.visualize_graph(repograph, show_subgraph_nodes=False)"
   ]
  },
  {
   "cell_type": "markdown",
   "id": "126ddca6",
   "metadata": {},
   "source": [
    "# 3. Save the graph\n",
    "\n",
    "Saving the graph in different formats."
   ]
  },
  {
   "cell_type": "markdown",
   "id": "bf755e2a",
   "metadata": {},
   "source": [
    "### 3.1 Save it as a dictionary\n",
    "\n",
    "Saving and loading the resulting graph dictionary as a pickle."
   ]
  },
  {
   "cell_type": "code",
   "execution_count": 8,
   "id": "b90b9578",
   "metadata": {},
   "outputs": [],
   "source": [
    "import pickle\n",
    "\n",
    "with open('graph_v2.pkl', 'wb') as f:\n",
    "    pickle.dump(repograph, f)"
   ]
  },
  {
   "cell_type": "code",
   "execution_count": 9,
   "id": "2df1cb6c",
   "metadata": {},
   "outputs": [],
   "source": [
    "import pickle\n",
    "\n",
    "with open('graph_v2.pkl', 'rb') as f:\n",
    "    repograph = pickle.load(f)"
   ]
  },
  {
   "cell_type": "markdown",
   "id": "2db90d16",
   "metadata": {},
   "source": [
    "### 3.2 Saving it to Neo4j database\n",
    "\n",
    "The result can be saved to a Neo4j database by calling the `store_knowledge_graph_in_neo4j` method. Parameters:\n",
    "- *URI*: URI for the Neo4J data saving.\n",
    "- *user*: Username for the Neo4J data saving.\n",
    "- *password*: Password for the Neo4J data saving.\n",
    "- *knowledge_graph*: The knowledge graph to save.\n",
    "\n",
    "If the *URI*, *username* and *password* parameters are provided at the `build_knowledge_graph` method, this function will automatically be called and the graph will be saved to neo4j."
   ]
  },
  {
   "cell_type": "code",
   "execution_count": 10,
   "id": "2bc78a87",
   "metadata": {},
   "outputs": [],
   "source": [
    "kgb.store_knowledge_graph_in_neo4j(\n",
    "    uri=\"neo4j://127.0.0.1:7687\",\n",
    "    user=\"neo4j\",\n",
    "    password=\"password\",\n",
    "    knowledge_graph=repograph\n",
    ")"
   ]
  }
 ],
 "metadata": {
  "kernelspec": {
   "display_name": "Python 3",
   "language": "python",
   "name": "python3"
  },
  "language_info": {
   "codemirror_mode": {
    "name": "ipython",
    "version": 3
   },
   "file_extension": ".py",
   "mimetype": "text/x-python",
   "name": "python",
   "nbconvert_exporter": "python",
   "pygments_lexer": "ipython3",
   "version": "3.13.9"
  }
 },
 "nbformat": 4,
 "nbformat_minor": 5
}
