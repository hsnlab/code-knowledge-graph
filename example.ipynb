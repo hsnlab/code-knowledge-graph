{
 "cells": [
  {
   "cell_type": "code",
   "execution_count": null,
   "id": "72fdcb06",
   "metadata": {},
   "outputs": [],
   "source": [
    "import sys, os\n",
    "sys.path.append(os.path.abspath('package'))\n",
    "from package import KnowledgeGraphBuilder"
   ]
  },
  {
   "cell_type": "markdown",
   "id": "48f296ee",
   "metadata": {},
   "source": [
    "# 1. Build knowledge graph\n",
    "\n",
    "Initialize the `KnowledgeGraphBuilder` object. A github token must be given as a parameter."
   ]
  },
  {
   "cell_type": "code",
   "execution_count": 2,
   "id": "c50ba155",
   "metadata": {},
   "outputs": [],
   "source": [
    "with open ('./_/git_token.txt', 'r') as f:\n",
    "    git_token = f.read().strip()\n",
    "\n",
    "kgb = KnowledgeGraphBuilder(git_token)"
   ]
  },
  {
   "cell_type": "markdown",
   "id": "3b014a1f",
   "metadata": {},
   "source": [
    "Build the knowledge graph with the `KnowledgeGraphBuilder.build_knowledge_graph()` method. Parameters:\n",
    "- *repo_name*: Name of the repository. Must match the format \"owner/repo_name\", as it is used for github API calls.\n",
    "- *graph_type* (optional): Type of subgraph to build from the functions. Can be \"CFG\" (Control Flow Graph) or \"AST\" (Abstract Syntax Tree). Default is \"CFG\".\n",
    "- *num_of_PRs* (optional): Number of pull requests to retrieve in detail. Defaults to 0 (all).\n",
    "- *create_embedding* (optional): Whether to create embeddings for the nodes. Defaults to False.\n",
    "- *repo_path_modifier* (optional): Path modifier for the repository for cases when only a subfolder is meant to be parsed.\n",
    "- *URI* (optional): URI for the Neo4J data saving.\n",
    "- *user* (optional): Username for the Neo4J data saving.\n",
    "- *password* (optional): Password for the Neo4J data saving."
   ]
  },
  {
   "cell_type": "code",
   "execution_count": null,
   "id": "fbf28143",
   "metadata": {},
   "outputs": [],
   "source": [
    "repograph = kgb.build_knowledge_graph(\n",
    "    repo_name='scikit-learn/scikit-learn',\n",
    "    num_of_PRs=3,\n",
    "    repo_path_modifier='sklearn/manifold'\n",
    ")"
   ]
  },
  {
   "cell_type": "code",
   "execution_count": 4,
   "id": "7d218c8c",
   "metadata": {},
   "outputs": [
    {
     "data": {
      "text/plain": [
       "dict_keys(['function_nodes', 'function_edges', 'subgraph_nodes', 'subgraph_edges', 'subgraph_function_edges', 'function_subgraph_edges', 'import_nodes', 'import_function_edges', 'pr_nodes', 'pr_function_edges', 'issue_nodes', 'issue_pr_edges', 'artifacts', 'actions'])"
      ]
     },
     "execution_count": 4,
     "metadata": {},
     "output_type": "execute_result"
    }
   ],
   "source": [
    "repograph.keys()"
   ]
  },
  {
   "cell_type": "markdown",
   "id": "f6713aac",
   "metadata": {},
   "source": [
    "# 2. Visualize graph\n",
    "\n",
    "Create a HTML visualizaiton of the graph with the `visualize_graph` function. NOTE: for large graphs, it is advised to only plot a fraction of the nodes, othervise the visualization might not render properly. Parameters:\n",
    "- *repograph*: The dictionary containing the created repository graph.\n",
    "- *show_subgraph_nodes* (optional): Whether to plot the subgraph (CFG or AST) nodes. Defaults to *False*.\n",
    "- *save_path* (optional): The file path to save the visualization. Defaults to \"./graph.html\"."
   ]
  },
  {
   "cell_type": "code",
   "execution_count": 12,
   "id": "6b60fee9",
   "metadata": {},
   "outputs": [
    {
     "name": "stdout",
     "output_type": "stream",
     "text": [
      "Filtered sklearn graph. visualization saved to filtered_graph.html\n"
     ]
    },
    {
     "data": {
      "text/plain": [
       "<networkx.classes.graph.Graph at 0x1d5852e87d0>"
      ]
     },
     "execution_count": 12,
     "metadata": {},
     "output_type": "execute_result"
    }
   ],
   "source": [
    "kgb.visualize_graph(repograph, show_subgraph_nodes=False)"
   ]
  },
  {
   "cell_type": "markdown",
   "id": "126ddca6",
   "metadata": {},
   "source": [
    "# 3. Save the graph\n",
    "\n",
    "Saving the graph in different formats."
   ]
  },
  {
   "cell_type": "markdown",
   "id": "bf755e2a",
   "metadata": {},
   "source": [
    "### 3.1 Save it as a dictionary\n",
    "\n",
    "Saving and loading the resulting graph dictionary as a pickle."
   ]
  },
  {
   "cell_type": "code",
   "execution_count": null,
   "id": "b90b9578",
   "metadata": {},
   "outputs": [],
   "source": [
    "import pickle\n",
    "\n",
    "with open('graph.pkl', 'wb') as f:\n",
    "    pickle.dump(repograph, f)"
   ]
  },
  {
   "cell_type": "code",
   "execution_count": null,
   "id": "2df1cb6c",
   "metadata": {},
   "outputs": [],
   "source": [
    "import pickle\n",
    "\n",
    "with open('graph.pkl', 'rb') as f:\n",
    "    repograph = pickle.load(f)"
   ]
  },
  {
   "cell_type": "markdown",
   "id": "2db90d16",
   "metadata": {},
   "source": [
    "### 3.2 Saving it to Neo4j database\n",
    "\n",
    "The result can be saved to a Neo4j database by calling the `store_knowledge_graph_in_neo4j` method. Parameters:\n",
    "- *URI*: URI for the Neo4J data saving.\n",
    "- *user*: Username for the Neo4J data saving.\n",
    "- *password*: Password for the Neo4J data saving.\n",
    "- *knowledge_graph*: The knowledge graph to save.\n",
    "\n",
    "If the *URI*, *username* and *password* parameters are provided at the `build_knowledge_graph` method, this function will automatically be called and the graph will be saved to neo4j."
   ]
  },
  {
   "cell_type": "code",
   "execution_count": null,
   "id": "2bc78a87",
   "metadata": {},
   "outputs": [],
   "source": [
    "kgb.store_knowledge_graph_in_neo4j(\n",
    "    URI=\"neo4j://127.0.0.1:7687\",\n",
    "    user=\"neo4j\",\n",
    "    password=\"password\",\n",
    "    knowledge_graph=repograph\n",
    ")"
   ]
  }
 ],
 "metadata": {
  "kernelspec": {
   "display_name": "Python 3",
   "language": "python",
   "name": "python3"
  },
  "language_info": {
   "codemirror_mode": {
    "name": "ipython",
    "version": 3
   },
   "file_extension": ".py",
   "mimetype": "text/x-python",
   "name": "python",
   "nbconvert_exporter": "python",
   "pygments_lexer": "ipython3",
   "version": "3.13.7"
  }
 },
 "nbformat": 4,
 "nbformat_minor": 5
}
