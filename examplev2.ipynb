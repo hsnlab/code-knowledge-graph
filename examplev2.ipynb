{
 "cells": [
  {
   "cell_type": "code",
   "execution_count": 2,
   "id": "d46d70a9",
   "metadata": {},
   "outputs": [
    {
     "name": "stdout",
     "output_type": "stream",
     "text": [
      "Imports rendben. PROJECT_ROOT = C:\\Szakdolgozat\\code-knowledge-graph\n"
     ]
    }
   ],
   "source": [
    "\n",
    "# -- Importok és sys.path --\n",
    "import os, sys\n",
    "from pathlib import Path\n",
    "import pandas as pd\n",
    "\n",
    "# Ha az ipynb a projekt gyökerében van (ahol a 'package/' mappa is), akkor ez elég:\n",
    "PROJECT_ROOT = Path.cwd()\n",
    "\n",
    "# Biztosítsuk, hogy a 'package' importálható\n",
    "if str(PROJECT_ROOT) not in sys.path:\n",
    "    sys.path.append(str(PROJECT_ROOT))\n",
    "\n",
    "from package import HierarchicalGraphBuilder, FunctionVersioning\n",
    "\n",
    "print(\"Imports rendben. PROJECT_ROOT =\", PROJECT_ROOT.resolve())\n"
   ]
  },
  {
   "cell_type": "code",
   "execution_count": 3,
   "id": "b36561f7",
   "metadata": {},
   "outputs": [
    {
     "name": "stdout",
     "output_type": "stream",
     "text": [
      "REPO_ROOT     = C:\\Szakdolgozat\\code-knowledge-graph\\repos\\scikit-learn\n",
      "ANALYSIS_PATH = C:\\Szakdolgozat\\code-knowledge-graph\\repos\\scikit-learn\\sklearn\\ensemble\n"
     ]
    }
   ],
   "source": [
    "\n",
    "# -- Útvonalak beállítása --\n",
    "# A klónozott scikit-learn repo:\n",
    "REPO_ROOT = PROJECT_ROOT / \"repos\" / \"scikit-learn\"\n",
    "\n",
    "# Csak az 'sklearn/ensemble' mappa elemzése CFG-hez:\n",
    "ANALYSIS_PATH = REPO_ROOT / \"sklearn\" / \"ensemble\"\n",
    "\n",
    "# Ellenőrzések\n",
    "assert REPO_ROOT.is_dir(), f\"Nem találom a repo gyökerét: {REPO_ROOT}\"\n",
    "assert ANALYSIS_PATH.is_dir(), f\"Nem találom az elemzendő mappát: {ANALYSIS_PATH}\"\n",
    "\n",
    "print(\"REPO_ROOT     =\", REPO_ROOT.resolve())\n",
    "print(\"ANALYSIS_PATH =\", ANALYSIS_PATH.resolve())\n"
   ]
  },
  {
   "cell_type": "code",
   "execution_count": 4,
   "id": "e829ab1d",
   "metadata": {},
   "outputs": [
    {
     "name": "stdout",
     "output_type": "stream",
     "text": [
      "True\n"
     ]
    }
   ],
   "source": [
    "import os\n",
    "print(os.path.isdir(os.path.join(str(REPO_ROOT), \".git\")))"
   ]
  },
  {
   "cell_type": "code",
   "execution_count": 5,
   "id": "b76d63e4",
   "metadata": {},
   "outputs": [
    {
     "name": "stdout",
     "output_type": "stream",
     "text": [
      "Building CG...\n",
      "Creating subgraphs for each function...\n"
     ]
    },
    {
     "name": "stderr",
     "output_type": "stream",
     "text": [
      "8it [00:00, 71.36it/s]"
     ]
    },
    {
     "name": "stdout",
     "output_type": "stream",
     "text": [
      "Error creating CFG. Returning empty DataFrames.\n",
      "Error creating CFG. Returning empty DataFrames.\n",
      "Error creating CFG. Returning empty DataFrames.\n",
      "Error creating CFG. Returning empty DataFrames.\n",
      "Error creating CFG. Returning empty DataFrames.\n",
      "Error creating CFG. Returning empty DataFrames.\n",
      "Error creating CFG. Returning empty DataFrames.\n",
      "Error creating CFG. Returning empty DataFrames.\n",
      "Error creating CFG. Returning empty DataFrames.\n",
      "Error creating CFG. Returning empty DataFrames.\n",
      "Error creating CFG. Returning empty DataFrames.\n",
      "Error creating CFG. Returning empty DataFrames.\n",
      "Error creating CFG. Returning empty DataFrames.\n",
      "Error creating CFG. Returning empty DataFrames.\n"
     ]
    },
    {
     "name": "stderr",
     "output_type": "stream",
     "text": [
      "25it [00:00, 73.62it/s]"
     ]
    },
    {
     "name": "stdout",
     "output_type": "stream",
     "text": [
      "Error creating CFG. Returning empty DataFrames.\n",
      "Error creating CFG. Returning empty DataFrames.\n",
      "Error creating CFG. Returning empty DataFrames.\n",
      "Error creating CFG. Returning empty DataFrames.\n",
      "Error creating CFG. Returning empty DataFrames.\n",
      "Error creating CFG. Returning empty DataFrames.\n",
      "Error creating CFG. Returning empty DataFrames.\n",
      "WTF is this thing, build it in?? <class 'ast.Compare'>\n",
      "Error creating CFG. Returning empty DataFrames.\n",
      "Error creating CFG. Returning empty DataFrames.\n",
      "Error creating CFG. Returning empty DataFrames.\n",
      "Error creating CFG. Returning empty DataFrames.\n",
      "Error creating CFG. Returning empty DataFrames.\n",
      "Error creating CFG. Returning empty DataFrames.\n",
      "Error creating CFG. Returning empty DataFrames.\n",
      "Error creating CFG. Returning empty DataFrames.\n",
      "WTF is this thing, build it in?? <class 'ast.Compare'>\n",
      "Error creating CFG. Returning empty DataFrames.\n"
     ]
    },
    {
     "name": "stderr",
     "output_type": "stream",
     "text": [
      "43it [00:00, 80.03it/s]"
     ]
    },
    {
     "name": "stdout",
     "output_type": "stream",
     "text": [
      "Error creating CFG. Returning empty DataFrames.\n",
      "Error creating CFG. Returning empty DataFrames.\n",
      "Error creating CFG. Returning empty DataFrames.\n",
      "Error creating CFG. Returning empty DataFrames.\n",
      "Error creating CFG. Returning empty DataFrames.\n",
      "Error creating CFG. Returning empty DataFrames.\n",
      "Error creating CFG. Returning empty DataFrames.\n",
      "Error creating CFG. Returning empty DataFrames.\n",
      "Error creating CFG. Returning empty DataFrames.\n",
      "Error creating CFG. Returning empty DataFrames.\n",
      "Error creating CFG. Returning empty DataFrames.\n",
      "Error creating CFG. Returning empty DataFrames.\n",
      "Error creating CFG. Returning empty DataFrames.\n",
      "Error creating CFG. Returning empty DataFrames.\n",
      "Error creating CFG. Returning empty DataFrames.\n",
      "Error creating CFG. Returning empty DataFrames.\n",
      "Error creating CFG. Returning empty DataFrames.\n",
      "Error creating CFG. Returning empty DataFrames.\n"
     ]
    },
    {
     "name": "stderr",
     "output_type": "stream",
     "text": [
      "52it [00:00, 81.83it/s]"
     ]
    },
    {
     "name": "stdout",
     "output_type": "stream",
     "text": [
      "Error creating CFG. Returning empty DataFrames.\n",
      "Error creating CFG. Returning empty DataFrames.\n",
      "Error creating CFG. Returning empty DataFrames.\n",
      "Error creating CFG. Returning empty DataFrames.\n",
      "Error creating CFG. Returning empty DataFrames.\n"
     ]
    },
    {
     "name": "stderr",
     "output_type": "stream",
     "text": [
      "61it [00:01, 47.69it/s]"
     ]
    },
    {
     "name": "stdout",
     "output_type": "stream",
     "text": [
      "Error creating CFG. Returning empty DataFrames.\n",
      "Error creating CFG. Returning empty DataFrames.\n",
      "WTF is this thing, build it in?? <class 'ast.Compare'>\n",
      "Error creating CFG. Returning empty DataFrames.\n",
      "Error creating CFG. Returning empty DataFrames.\n",
      "Error creating CFG. Returning empty DataFrames.\n",
      "Error creating CFG. Returning empty DataFrames.\n",
      "Error creating CFG. Returning empty DataFrames.\n",
      "Error creating CFG. Returning empty DataFrames.\n",
      "Error creating CFG. Returning empty DataFrames.\n",
      "Error creating CFG. Returning empty DataFrames.\n",
      "Error creating CFG. Returning empty DataFrames.\n",
      "Error creating CFG. Returning empty DataFrames.\n",
      "Error creating CFG. Returning empty DataFrames.\n"
     ]
    },
    {
     "name": "stderr",
     "output_type": "stream",
     "text": [
      "74it [00:01, 47.62it/s]"
     ]
    },
    {
     "name": "stdout",
     "output_type": "stream",
     "text": [
      "Error creating CFG. Returning empty DataFrames.\n",
      "Error creating CFG. Returning empty DataFrames.\n",
      "Error creating CFG. Returning empty DataFrames.\n",
      "Error creating CFG. Returning empty DataFrames.\n",
      "Error creating CFG. Returning empty DataFrames.\n",
      "Error creating CFG. Returning empty DataFrames.\n",
      "Error creating CFG. Returning empty DataFrames.\n",
      "Error creating CFG. Returning empty DataFrames.\n",
      "Error creating CFG. Returning empty DataFrames.\n",
      "Error creating CFG. Returning empty DataFrames.\n",
      "Error creating CFG. Returning empty DataFrames.\n",
      "Error creating CFG. Returning empty DataFrames.\n",
      "Error creating CFG. Returning empty DataFrames.\n",
      "Error creating CFG. Returning empty DataFrames.\n"
     ]
    },
    {
     "name": "stderr",
     "output_type": "stream",
     "text": [
      "90it [00:01, 59.95it/s]"
     ]
    },
    {
     "name": "stdout",
     "output_type": "stream",
     "text": [
      "Error creating CFG. Returning empty DataFrames.\n",
      "Error creating CFG. Returning empty DataFrames.\n",
      "Error creating CFG. Returning empty DataFrames.\n",
      "Error creating CFG. Returning empty DataFrames.\n",
      "Error creating CFG. Returning empty DataFrames.\n",
      "Error creating CFG. Returning empty DataFrames.\n",
      "Error creating CFG. Returning empty DataFrames.\n",
      "Error creating CFG. Returning empty DataFrames.\n",
      "Error creating CFG. Returning empty DataFrames.\n",
      "Error creating CFG. Returning empty DataFrames.\n",
      "Error creating CFG. Returning empty DataFrames.\n",
      "Error creating CFG. Returning empty DataFrames.\n",
      "Error creating CFG. Returning empty DataFrames.\n",
      "Error creating CFG. Returning empty DataFrames.\n",
      "Error creating CFG. Returning empty DataFrames.\n",
      "Error creating CFG. Returning empty DataFrames.\n"
     ]
    },
    {
     "name": "stderr",
     "output_type": "stream",
     "text": [
      "105it [00:01, 64.05it/s]"
     ]
    },
    {
     "name": "stdout",
     "output_type": "stream",
     "text": [
      "Error creating CFG. Returning empty DataFrames.\n",
      "Error creating CFG. Returning empty DataFrames.\n",
      "Error creating CFG. Returning empty DataFrames.\n",
      "Error creating CFG. Returning empty DataFrames.\n",
      "Error creating CFG. Returning empty DataFrames.\n",
      "Error creating CFG. Returning empty DataFrames.\n",
      "Error creating CFG. Returning empty DataFrames.\n",
      "Error creating CFG. Returning empty DataFrames.\n",
      "Error creating CFG. Returning empty DataFrames.\n",
      "Error creating CFG. Returning empty DataFrames.\n",
      "Error creating CFG. Returning empty DataFrames.\n",
      "Error creating CFG. Returning empty DataFrames.\n",
      "Error creating CFG. Returning empty DataFrames.\n",
      "Error creating CFG. Returning empty DataFrames.\n"
     ]
    },
    {
     "name": "stderr",
     "output_type": "stream",
     "text": [
      "121it [00:01, 69.81it/s]"
     ]
    },
    {
     "name": "stdout",
     "output_type": "stream",
     "text": [
      "Error creating CFG. Returning empty DataFrames.\n",
      "Error creating CFG. Returning empty DataFrames.\n",
      "Error creating CFG. Returning empty DataFrames.\n",
      "Error creating CFG. Returning empty DataFrames.\n",
      "Error creating CFG. Returning empty DataFrames.\n",
      "Error creating CFG. Returning empty DataFrames.\n",
      "Error creating CFG. Returning empty DataFrames.\n",
      "Error creating CFG. Returning empty DataFrames.\n",
      "Error creating CFG. Returning empty DataFrames.\n",
      "Error creating CFG. Returning empty DataFrames.\n",
      "Error creating CFG. Returning empty DataFrames.\n",
      "Error creating CFG. Returning empty DataFrames.\n",
      "Error creating CFG. Returning empty DataFrames.\n",
      "Error creating CFG. Returning empty DataFrames.\n",
      "WTF is this thing, build it in?? <class 'ast.Compare'>\n",
      "Error creating CFG. Returning empty DataFrames.\n",
      "WTF is this thing, build it in?? <class 'ast.Compare'>\n",
      "Error creating CFG. Returning empty DataFrames.\n",
      "Error creating CFG. Returning empty DataFrames.\n",
      "Error creating CFG. Returning empty DataFrames.\n",
      "Error creating CFG. Returning empty DataFrames.\n",
      "Error creating CFG. Returning empty DataFrames.\n"
     ]
    },
    {
     "name": "stderr",
     "output_type": "stream",
     "text": [
      "141it [00:02, 80.65it/s]"
     ]
    },
    {
     "name": "stdout",
     "output_type": "stream",
     "text": [
      "Error creating CFG. Returning empty DataFrames.\n",
      "Error creating CFG. Returning empty DataFrames.\n",
      "Error creating CFG. Returning empty DataFrames.\n",
      "Error creating CFG. Returning empty DataFrames.\n",
      "Error creating CFG. Returning empty DataFrames.\n",
      "Error creating CFG. Returning empty DataFrames.\n",
      "Error creating CFG. Returning empty DataFrames.\n",
      "Error creating CFG. Returning empty DataFrames.\n",
      "Error creating CFG. Returning empty DataFrames.\n",
      "Error creating CFG. Returning empty DataFrames.\n",
      "Error creating CFG. Returning empty DataFrames.\n",
      "Error creating CFG. Returning empty DataFrames.\n",
      "Error creating CFG. Returning empty DataFrames.\n",
      "Error creating CFG. Returning empty DataFrames.\n",
      "Error creating CFG. Returning empty DataFrames.\n",
      "Error creating CFG. Returning empty DataFrames.\n"
     ]
    },
    {
     "name": "stderr",
     "output_type": "stream",
     "text": [
      "150it [00:02, 76.45it/s]"
     ]
    },
    {
     "name": "stdout",
     "output_type": "stream",
     "text": [
      "Error creating CFG. Returning empty DataFrames.\n",
      "Error creating CFG. Returning empty DataFrames.\n",
      "Error creating CFG. Returning empty DataFrames.\n",
      "Error creating CFG. Returning empty DataFrames.\n",
      "Error creating CFG. Returning empty DataFrames.\n",
      "Error creating CFG. Returning empty DataFrames.\n",
      "Error creating CFG. Returning empty DataFrames.\n",
      "Error creating CFG. Returning empty DataFrames.\n",
      "Error creating CFG. Returning empty DataFrames.\n",
      "Error creating CFG. Returning empty DataFrames.\n",
      "Error creating CFG. Returning empty DataFrames.\n",
      "Error creating CFG. Returning empty DataFrames.\n"
     ]
    },
    {
     "name": "stderr",
     "output_type": "stream",
     "text": [
      "166it [00:02, 71.28it/s]"
     ]
    },
    {
     "name": "stdout",
     "output_type": "stream",
     "text": [
      "Error creating CFG. Returning empty DataFrames.\n",
      "Error creating CFG. Returning empty DataFrames.\n",
      "Error creating CFG. Returning empty DataFrames.\n",
      "Error creating CFG. Returning empty DataFrames.\n",
      "Error creating CFG. Returning empty DataFrames.\n",
      "Error creating CFG. Returning empty DataFrames.\n",
      "Error creating CFG. Returning empty DataFrames.\n",
      "Error creating CFG. Returning empty DataFrames.\n",
      "Error creating CFG. Returning empty DataFrames.\n",
      "Error creating CFG. Returning empty DataFrames.\n",
      "Error creating CFG. Returning empty DataFrames.\n",
      "Error creating CFG. Returning empty DataFrames.\n",
      "Error creating CFG. Returning empty DataFrames.\n",
      "Error creating CFG. Returning empty DataFrames.\n",
      "Error creating CFG. Returning empty DataFrames.\n",
      "Error creating CFG. Returning empty DataFrames.\n"
     ]
    },
    {
     "name": "stderr",
     "output_type": "stream",
     "text": [
      "184it [00:02, 77.41it/s]"
     ]
    },
    {
     "name": "stdout",
     "output_type": "stream",
     "text": [
      "Error creating CFG. Returning empty DataFrames.\n",
      "Error creating CFG. Returning empty DataFrames.\n",
      "Error creating CFG. Returning empty DataFrames.\n",
      "Error creating CFG. Returning empty DataFrames.\n",
      "Error creating CFG. Returning empty DataFrames.\n",
      "Error creating CFG. Returning empty DataFrames.\n",
      "Error creating CFG. Returning empty DataFrames.\n",
      "Error creating CFG. Returning empty DataFrames.\n",
      "Error creating CFG. Returning empty DataFrames.\n",
      "Error creating CFG. Returning empty DataFrames.\n",
      "Error creating CFG. Returning empty DataFrames.\n",
      "Error creating CFG. Returning empty DataFrames.\n",
      "Error creating CFG. Returning empty DataFrames.\n",
      "Error creating CFG. Returning empty DataFrames.\n",
      "Error creating CFG. Returning empty DataFrames.\n",
      "Error creating CFG. Returning empty DataFrames.\n",
      "Error creating CFG. Returning empty DataFrames.\n"
     ]
    },
    {
     "name": "stderr",
     "output_type": "stream",
     "text": [
      "202it [00:02, 80.21it/s]"
     ]
    },
    {
     "name": "stdout",
     "output_type": "stream",
     "text": [
      "Error creating CFG. Returning empty DataFrames.\n",
      "Error creating CFG. Returning empty DataFrames.\n",
      "Error creating CFG. Returning empty DataFrames.\n",
      "Error creating CFG. Returning empty DataFrames.\n",
      "Error creating CFG. Returning empty DataFrames.\n",
      "Error creating CFG. Returning empty DataFrames.\n",
      "Error creating CFG. Returning empty DataFrames.\n",
      "Error creating CFG. Returning empty DataFrames.\n",
      "Error creating CFG. Returning empty DataFrames.\n",
      "Error creating CFG. Returning empty DataFrames.\n",
      "Error creating CFG. Returning empty DataFrames.\n",
      "Error creating CFG. Returning empty DataFrames.\n",
      "Error creating CFG. Returning empty DataFrames.\n",
      "Error creating CFG. Returning empty DataFrames.\n",
      "Error creating CFG. Returning empty DataFrames.\n",
      "Error creating CFG. Returning empty DataFrames.\n"
     ]
    },
    {
     "name": "stderr",
     "output_type": "stream",
     "text": [
      "219it [00:03, 76.32it/s]"
     ]
    },
    {
     "name": "stdout",
     "output_type": "stream",
     "text": [
      "Error creating CFG. Returning empty DataFrames.\n",
      "Error creating CFG. Returning empty DataFrames.\n",
      "Error creating CFG. Returning empty DataFrames.\n",
      "Error creating CFG. Returning empty DataFrames.\n",
      "Error creating CFG. Returning empty DataFrames.\n",
      "Error creating CFG. Returning empty DataFrames.\n",
      "Error creating CFG. Returning empty DataFrames.\n",
      "Error creating CFG. Returning empty DataFrames.\n",
      "Error creating CFG. Returning empty DataFrames.\n",
      "Error creating CFG. Returning empty DataFrames.\n",
      "Error creating CFG. Returning empty DataFrames.\n",
      "Error creating CFG. Returning empty DataFrames.\n",
      "WTF is this thing, build it in?? <class 'ast.BinOp'>\n",
      "Error creating CFG. Returning empty DataFrames.\n",
      "Error creating CFG. Returning empty DataFrames.\n",
      "Error creating CFG. Returning empty DataFrames.\n",
      "Error creating CFG. Returning empty DataFrames.\n",
      "Error creating CFG. Returning empty DataFrames.\n",
      "Error creating CFG. Returning empty DataFrames.\n"
     ]
    },
    {
     "name": "stderr",
     "output_type": "stream",
     "text": [
      "235it [00:03, 75.76it/s]"
     ]
    },
    {
     "name": "stdout",
     "output_type": "stream",
     "text": [
      "Error creating CFG. Returning empty DataFrames.\n",
      "Error creating CFG. Returning empty DataFrames.\n",
      "Error creating CFG. Returning empty DataFrames.\n",
      "Error creating CFG. Returning empty DataFrames.\n",
      "Error creating CFG. Returning empty DataFrames.\n",
      "Error creating CFG. Returning empty DataFrames.\n",
      "Error creating CFG. Returning empty DataFrames.\n",
      "Error creating CFG. Returning empty DataFrames.\n",
      "Error creating CFG. Returning empty DataFrames.\n",
      "Error creating CFG. Returning empty DataFrames.\n",
      "Error creating CFG. Returning empty DataFrames.\n",
      "Error creating CFG. Returning empty DataFrames.\n",
      "Error creating CFG. Returning empty DataFrames.\n",
      "Error creating CFG. Returning empty DataFrames.\n",
      "Error creating CFG. Returning empty DataFrames.\n",
      "Error creating CFG. Returning empty DataFrames.\n"
     ]
    },
    {
     "name": "stderr",
     "output_type": "stream",
     "text": [
      "251it [00:03, 76.56it/s]"
     ]
    },
    {
     "name": "stdout",
     "output_type": "stream",
     "text": [
      "Error creating CFG. Returning empty DataFrames.\n",
      "Error creating CFG. Returning empty DataFrames.\n",
      "Error creating CFG. Returning empty DataFrames.\n",
      "Error creating CFG. Returning empty DataFrames.\n",
      "Error creating CFG. Returning empty DataFrames.\n",
      "Error creating CFG. Returning empty DataFrames.\n",
      "Error creating CFG. Returning empty DataFrames.\n",
      "Error creating CFG. Returning empty DataFrames.\n",
      "Error creating CFG. Returning empty DataFrames.\n",
      "Error creating CFG. Returning empty DataFrames.\n",
      "Error creating CFG. Returning empty DataFrames.\n",
      "Error creating CFG. Returning empty DataFrames.\n",
      "Error creating CFG. Returning empty DataFrames.\n",
      "Error creating CFG. Returning empty DataFrames.\n",
      "Error creating CFG. Returning empty DataFrames.\n",
      "Error creating CFG. Returning empty DataFrames.\n",
      "Error creating CFG. Returning empty DataFrames.\n"
     ]
    },
    {
     "name": "stderr",
     "output_type": "stream",
     "text": [
      "268it [00:03, 78.21it/s]"
     ]
    },
    {
     "name": "stdout",
     "output_type": "stream",
     "text": [
      "Error creating CFG. Returning empty DataFrames.\n",
      "Error creating CFG. Returning empty DataFrames.\n",
      "Error creating CFG. Returning empty DataFrames.\n",
      "Error creating CFG. Returning empty DataFrames.\n",
      "Error creating CFG. Returning empty DataFrames.\n",
      "Error creating CFG. Returning empty DataFrames.\n",
      "Error creating CFG. Returning empty DataFrames.\n",
      "Error creating CFG. Returning empty DataFrames.\n",
      "Error creating CFG. Returning empty DataFrames.\n",
      "Error creating CFG. Returning empty DataFrames.\n",
      "Error creating CFG. Returning empty DataFrames.\n",
      "Error creating CFG. Returning empty DataFrames.\n",
      "Error creating CFG. Returning empty DataFrames.\n",
      "Error creating CFG. Returning empty DataFrames.\n",
      "Error creating CFG. Returning empty DataFrames.\n",
      "Error creating CFG. Returning empty DataFrames.\n",
      "Error creating CFG. Returning empty DataFrames.\n",
      "Error creating CFG. Returning empty DataFrames.\n",
      "Error creating CFG. Returning empty DataFrames.\n"
     ]
    },
    {
     "name": "stderr",
     "output_type": "stream",
     "text": [
      "285it [00:04, 74.93it/s]"
     ]
    },
    {
     "name": "stdout",
     "output_type": "stream",
     "text": [
      "Error creating CFG. Returning empty DataFrames.\n",
      "Error creating CFG. Returning empty DataFrames.\n",
      "Error creating CFG. Returning empty DataFrames.\n",
      "Error creating CFG. Returning empty DataFrames.\n",
      "Error creating CFG. Returning empty DataFrames.\n",
      "Error creating CFG. Returning empty DataFrames.\n",
      "Error creating CFG. Returning empty DataFrames.\n",
      "Error creating CFG. Returning empty DataFrames.\n",
      "Error creating CFG. Returning empty DataFrames.\n",
      "Error creating CFG. Returning empty DataFrames.\n",
      "Error creating CFG. Returning empty DataFrames.\n",
      "Error creating CFG. Returning empty DataFrames.\n"
     ]
    },
    {
     "name": "stderr",
     "output_type": "stream",
     "text": [
      "301it [00:04, 69.73it/s]"
     ]
    },
    {
     "name": "stdout",
     "output_type": "stream",
     "text": [
      "Error creating CFG. Returning empty DataFrames.\n",
      "Error creating CFG. Returning empty DataFrames.\n",
      "Error creating CFG. Returning empty DataFrames.\n",
      "Error creating CFG. Returning empty DataFrames.\n",
      "Error creating CFG. Returning empty DataFrames.\n",
      "Error creating CFG. Returning empty DataFrames.\n",
      "Error creating CFG. Returning empty DataFrames.\n",
      "Error creating CFG. Returning empty DataFrames.\n",
      "Error creating CFG. Returning empty DataFrames.\n",
      "Error creating CFG. Returning empty DataFrames.\n",
      "Error creating CFG. Returning empty DataFrames.\n",
      "Error creating CFG. Returning empty DataFrames.\n",
      "Error creating CFG. Returning empty DataFrames.\n",
      "Error creating CFG. Returning empty DataFrames.\n"
     ]
    },
    {
     "name": "stderr",
     "output_type": "stream",
     "text": [
      "309it [00:04, 71.20it/s]"
     ]
    },
    {
     "name": "stdout",
     "output_type": "stream",
     "text": [
      "Error creating CFG. Returning empty DataFrames.\n",
      "Error creating CFG. Returning empty DataFrames.\n",
      "Error creating CFG. Returning empty DataFrames.\n",
      "Error creating CFG. Returning empty DataFrames.\n",
      "Error creating CFG. Returning empty DataFrames.\n",
      "Error creating CFG. Returning empty DataFrames.\n",
      "Error creating CFG. Returning empty DataFrames.\n",
      "Error creating CFG. Returning empty DataFrames.\n",
      "Error creating CFG. Returning empty DataFrames.\n",
      "Error creating CFG. Returning empty DataFrames.\n",
      "Error creating CFG. Returning empty DataFrames.\n",
      "Error creating CFG. Returning empty DataFrames.\n",
      "Error creating CFG. Returning empty DataFrames.\n"
     ]
    },
    {
     "name": "stderr",
     "output_type": "stream",
     "text": [
      "324it [00:04, 67.70it/s]"
     ]
    },
    {
     "name": "stdout",
     "output_type": "stream",
     "text": [
      "Error creating CFG. Returning empty DataFrames.\n",
      "Error creating CFG. Returning empty DataFrames.\n",
      "Error creating CFG. Returning empty DataFrames.\n",
      "Error creating CFG. Returning empty DataFrames.\n",
      "Error creating CFG. Returning empty DataFrames.\n",
      "Error creating CFG. Returning empty DataFrames.\n",
      "Error creating CFG. Returning empty DataFrames.\n",
      "Error creating CFG. Returning empty DataFrames.\n",
      "Error creating CFG. Returning empty DataFrames.\n",
      "Error creating CFG. Returning empty DataFrames.\n",
      "Error creating CFG. Returning empty DataFrames.\n",
      "Error creating CFG. Returning empty DataFrames.\n",
      "Error creating CFG. Returning empty DataFrames.\n",
      "Error creating CFG. Returning empty DataFrames.\n",
      "Error creating CFG. Returning empty DataFrames.\n"
     ]
    },
    {
     "name": "stderr",
     "output_type": "stream",
     "text": [
      "341it [00:04, 74.59it/s]"
     ]
    },
    {
     "name": "stdout",
     "output_type": "stream",
     "text": [
      "Error creating CFG. Returning empty DataFrames.\n",
      "Error creating CFG. Returning empty DataFrames.\n",
      "Error creating CFG. Returning empty DataFrames.\n",
      "Error creating CFG. Returning empty DataFrames.\n",
      "Error creating CFG. Returning empty DataFrames.\n",
      "Error creating CFG. Returning empty DataFrames.\n",
      "Error creating CFG. Returning empty DataFrames.\n",
      "Error creating CFG. Returning empty DataFrames.\n",
      "Error creating CFG. Returning empty DataFrames.\n",
      "Error creating CFG. Returning empty DataFrames.\n",
      "Error creating CFG. Returning empty DataFrames.\n",
      "Error creating CFG. Returning empty DataFrames.\n",
      "Error creating CFG. Returning empty DataFrames.\n",
      "Error creating CFG. Returning empty DataFrames.\n",
      "Error creating CFG. Returning empty DataFrames.\n",
      "Error creating CFG. Returning empty DataFrames.\n",
      "Error creating CFG. Returning empty DataFrames.\n"
     ]
    },
    {
     "name": "stderr",
     "output_type": "stream",
     "text": [
      "357it [00:05, 72.90it/s]"
     ]
    },
    {
     "name": "stdout",
     "output_type": "stream",
     "text": [
      "Error creating CFG. Returning empty DataFrames.\n",
      "Error creating CFG. Returning empty DataFrames.\n",
      "Error creating CFG. Returning empty DataFrames.\n",
      "Error creating CFG. Returning empty DataFrames.\n",
      "Error creating CFG. Returning empty DataFrames.\n",
      "Error creating CFG. Returning empty DataFrames.\n",
      "Error creating CFG. Returning empty DataFrames.\n",
      "Error creating CFG. Returning empty DataFrames.\n",
      "Error creating CFG. Returning empty DataFrames.\n",
      "Error creating CFG. Returning empty DataFrames.\n",
      "Error creating CFG. Returning empty DataFrames.\n",
      "Error creating CFG. Returning empty DataFrames.\n",
      "Error creating CFG. Returning empty DataFrames.\n",
      "Error creating CFG. Returning empty DataFrames.\n",
      "Error creating CFG. Returning empty DataFrames.\n"
     ]
    },
    {
     "name": "stderr",
     "output_type": "stream",
     "text": [
      "374it [00:05, 73.96it/s]"
     ]
    },
    {
     "name": "stdout",
     "output_type": "stream",
     "text": [
      "Error creating CFG. Returning empty DataFrames.\n",
      "Error creating CFG. Returning empty DataFrames.\n",
      "Error creating CFG. Returning empty DataFrames.\n",
      "Error creating CFG. Returning empty DataFrames.\n",
      "Error creating CFG. Returning empty DataFrames.\n",
      "WTF is this thing, build it in?? <class 'ast.BinOp'>\n",
      "Error creating CFG. Returning empty DataFrames.\n",
      "Error creating CFG. Returning empty DataFrames.\n",
      "Error creating CFG. Returning empty DataFrames.\n",
      "Error creating CFG. Returning empty DataFrames.\n",
      "Error creating CFG. Returning empty DataFrames.\n",
      "Error creating CFG. Returning empty DataFrames.\n",
      "Error creating CFG. Returning empty DataFrames.\n",
      "Error creating CFG. Returning empty DataFrames.\n",
      "Error creating CFG. Returning empty DataFrames.\n",
      "Error creating CFG. Returning empty DataFrames.\n",
      "Error creating CFG. Returning empty DataFrames.\n"
     ]
    },
    {
     "name": "stderr",
     "output_type": "stream",
     "text": [
      "391it [00:05, 75.88it/s]"
     ]
    },
    {
     "name": "stdout",
     "output_type": "stream",
     "text": [
      "Error creating CFG. Returning empty DataFrames.\n",
      "Error creating CFG. Returning empty DataFrames.\n",
      "Error creating CFG. Returning empty DataFrames.\n",
      "Error creating CFG. Returning empty DataFrames.\n",
      "Error creating CFG. Returning empty DataFrames.\n",
      "Error creating CFG. Returning empty DataFrames.\n",
      "Error creating CFG. Returning empty DataFrames.\n",
      "Error creating CFG. Returning empty DataFrames.\n",
      "Error creating CFG. Returning empty DataFrames.\n",
      "Error creating CFG. Returning empty DataFrames.\n",
      "WTF is this thing, build it in?? <class 'ast.Compare'>\n",
      "Error creating CFG. Returning empty DataFrames.\n",
      "Error creating CFG. Returning empty DataFrames.\n",
      "Error creating CFG. Returning empty DataFrames.\n",
      "Error creating CFG. Returning empty DataFrames.\n",
      "Error creating CFG. Returning empty DataFrames.\n",
      "Error creating CFG. Returning empty DataFrames.\n"
     ]
    },
    {
     "name": "stderr",
     "output_type": "stream",
     "text": [
      "399it [00:05, 73.35it/s]"
     ]
    },
    {
     "name": "stdout",
     "output_type": "stream",
     "text": [
      "Error creating CFG. Returning empty DataFrames.\n",
      "Error creating CFG. Returning empty DataFrames.\n",
      "Error creating CFG. Returning empty DataFrames.\n",
      "Error creating CFG. Returning empty DataFrames.\n",
      "Error creating CFG. Returning empty DataFrames.\n",
      "Error creating CFG. Returning empty DataFrames.\n",
      "Error creating CFG. Returning empty DataFrames.\n",
      "Error creating CFG. Returning empty DataFrames.\n",
      "Error creating CFG. Returning empty DataFrames.\n",
      "Error creating CFG. Returning empty DataFrames.\n",
      "Error creating CFG. Returning empty DataFrames.\n",
      "Error creating CFG. Returning empty DataFrames.\n"
     ]
    },
    {
     "name": "stderr",
     "output_type": "stream",
     "text": [
      "414it [00:05, 66.93it/s]"
     ]
    },
    {
     "name": "stdout",
     "output_type": "stream",
     "text": [
      "Error creating CFG. Returning empty DataFrames.\n",
      "Error creating CFG. Returning empty DataFrames.\n",
      "Error creating CFG. Returning empty DataFrames.\n",
      "Error creating CFG. Returning empty DataFrames.\n",
      "Error creating CFG. Returning empty DataFrames.\n",
      "Error creating CFG. Returning empty DataFrames.\n",
      "Error creating CFG. Returning empty DataFrames.\n",
      "Error creating CFG. Returning empty DataFrames.\n",
      "Error creating CFG. Returning empty DataFrames.\n",
      "Error creating CFG. Returning empty DataFrames.\n",
      "Error creating CFG. Returning empty DataFrames.\n",
      "Error creating CFG. Returning empty DataFrames.\n",
      "Error creating CFG. Returning empty DataFrames.\n",
      "Error creating CFG. Returning empty DataFrames.\n"
     ]
    },
    {
     "name": "stderr",
     "output_type": "stream",
     "text": [
      "431it [00:06, 70.16it/s]"
     ]
    },
    {
     "name": "stdout",
     "output_type": "stream",
     "text": [
      "Error creating CFG. Returning empty DataFrames.\n",
      "Error creating CFG. Returning empty DataFrames.\n",
      "Error creating CFG. Returning empty DataFrames.\n",
      "Error creating CFG. Returning empty DataFrames.\n",
      "Error creating CFG. Returning empty DataFrames.\n",
      "Error creating CFG. Returning empty DataFrames.\n",
      "Error creating CFG. Returning empty DataFrames.\n",
      "Error creating CFG. Returning empty DataFrames.\n",
      "Error creating CFG. Returning empty DataFrames.\n",
      "Error creating CFG. Returning empty DataFrames.\n",
      "Error creating CFG. Returning empty DataFrames.\n",
      "Error creating CFG. Returning empty DataFrames.\n",
      "Error creating CFG. Returning empty DataFrames.\n",
      "Error creating CFG. Returning empty DataFrames.\n",
      "Error creating CFG. Returning empty DataFrames.\n"
     ]
    },
    {
     "name": "stderr",
     "output_type": "stream",
     "text": [
      "448it [00:06, 70.54it/s]"
     ]
    },
    {
     "name": "stdout",
     "output_type": "stream",
     "text": [
      "Error creating CFG. Returning empty DataFrames.\n",
      "Error creating CFG. Returning empty DataFrames.\n",
      "Error creating CFG. Returning empty DataFrames.\n",
      "WTF is this thing, build it in?? <class 'ast.Compare'>\n",
      "Error creating CFG. Returning empty DataFrames.\n",
      "Error creating CFG. Returning empty DataFrames.\n",
      "Error creating CFG. Returning empty DataFrames.\n",
      "Error creating CFG. Returning empty DataFrames.\n",
      "Error creating CFG. Returning empty DataFrames.\n",
      "Error creating CFG. Returning empty DataFrames.\n",
      "Error creating CFG. Returning empty DataFrames.\n",
      "Error creating CFG. Returning empty DataFrames.\n",
      "Error creating CFG. Returning empty DataFrames.\n",
      "Error creating CFG. Returning empty DataFrames.\n",
      "Error creating CFG. Returning empty DataFrames.\n",
      "Error creating CFG. Returning empty DataFrames.\n",
      "Error creating CFG. Returning empty DataFrames.\n",
      "Error creating CFG. Returning empty DataFrames.\n"
     ]
    },
    {
     "name": "stderr",
     "output_type": "stream",
     "text": [
      "465it [00:06, 74.59it/s]"
     ]
    },
    {
     "name": "stdout",
     "output_type": "stream",
     "text": [
      "Error creating CFG. Returning empty DataFrames.\n",
      "Error creating CFG. Returning empty DataFrames.\n",
      "Error creating CFG. Returning empty DataFrames.\n",
      "Error creating CFG. Returning empty DataFrames.\n",
      "Error creating CFG. Returning empty DataFrames.\n",
      "Error creating CFG. Returning empty DataFrames.\n",
      "Error creating CFG. Returning empty DataFrames.\n",
      "Error creating CFG. Returning empty DataFrames.\n",
      "Error creating CFG. Returning empty DataFrames.\n",
      "Error creating CFG. Returning empty DataFrames.\n",
      "Error creating CFG. Returning empty DataFrames.\n",
      "Error creating CFG. Returning empty DataFrames.\n",
      "Error creating CFG. Returning empty DataFrames.\n",
      "Error creating CFG. Returning empty DataFrames.\n",
      "Error creating CFG. Returning empty DataFrames.\n",
      "Error creating CFG. Returning empty DataFrames.\n"
     ]
    },
    {
     "name": "stderr",
     "output_type": "stream",
     "text": [
      "481it [00:06, 74.70it/s]"
     ]
    },
    {
     "name": "stdout",
     "output_type": "stream",
     "text": [
      "Error creating CFG. Returning empty DataFrames.\n",
      "Error creating CFG. Returning empty DataFrames.\n",
      "Error creating CFG. Returning empty DataFrames.\n",
      "Error creating CFG. Returning empty DataFrames.\n",
      "Error creating CFG. Returning empty DataFrames.\n",
      "Error creating CFG. Returning empty DataFrames.\n",
      "Error creating CFG. Returning empty DataFrames.\n",
      "Error creating CFG. Returning empty DataFrames.\n",
      "Error creating CFG. Returning empty DataFrames.\n",
      "Error creating CFG. Returning empty DataFrames.\n",
      "Error creating CFG. Returning empty DataFrames.\n",
      "Error creating CFG. Returning empty DataFrames.\n",
      "Error creating CFG. Returning empty DataFrames.\n",
      "Error creating CFG. Returning empty DataFrames.\n"
     ]
    },
    {
     "name": "stderr",
     "output_type": "stream",
     "text": [
      "497it [00:07, 74.66it/s]"
     ]
    },
    {
     "name": "stdout",
     "output_type": "stream",
     "text": [
      "Error creating CFG. Returning empty DataFrames.\n",
      "Error creating CFG. Returning empty DataFrames.\n",
      "Error creating CFG. Returning empty DataFrames.\n",
      "Error creating CFG. Returning empty DataFrames.\n",
      "Error creating CFG. Returning empty DataFrames.\n",
      "Error creating CFG. Returning empty DataFrames.\n",
      "Error creating CFG. Returning empty DataFrames.\n",
      "Error creating CFG. Returning empty DataFrames.\n",
      "Error creating CFG. Returning empty DataFrames.\n",
      "Error creating CFG. Returning empty DataFrames.\n",
      "Error creating CFG. Returning empty DataFrames.\n",
      "Error creating CFG. Returning empty DataFrames.\n",
      "Error creating CFG. Returning empty DataFrames.\n",
      "Error creating CFG. Returning empty DataFrames.\n",
      "Error creating CFG. Returning empty DataFrames.\n",
      "Error creating CFG. Returning empty DataFrames.\n"
     ]
    },
    {
     "name": "stderr",
     "output_type": "stream",
     "text": [
      "505it [00:07, 69.57it/s]"
     ]
    },
    {
     "name": "stdout",
     "output_type": "stream",
     "text": [
      "Error creating CFG. Returning empty DataFrames.\n",
      "Error creating CFG. Returning empty DataFrames.\n",
      "Error creating CFG. Returning empty DataFrames.\n",
      "Error creating CFG. Returning empty DataFrames.\n",
      "Error creating CFG. Returning empty DataFrames.\n",
      "Error creating CFG. Returning empty DataFrames.\n",
      "Error creating CFG. Returning empty DataFrames.\n",
      "Error creating CFG. Returning empty DataFrames.\n",
      "Error creating CFG. Returning empty DataFrames.\n",
      "Error creating CFG. Returning empty DataFrames.\n",
      "Error creating CFG. Returning empty DataFrames.\n",
      "Error creating CFG. Returning empty DataFrames.\n",
      "Error creating CFG. Returning empty DataFrames.\n",
      "Error creating CFG. Returning empty DataFrames.\n"
     ]
    },
    {
     "name": "stderr",
     "output_type": "stream",
     "text": [
      "522it [00:07, 74.45it/s]"
     ]
    },
    {
     "name": "stdout",
     "output_type": "stream",
     "text": [
      "WTF is this thing, build it in?? <class 'ast.Compare'>\n",
      "Error creating CFG. Returning empty DataFrames.\n",
      "Error creating CFG. Returning empty DataFrames.\n",
      "Error creating CFG. Returning empty DataFrames.\n",
      "Error creating CFG. Returning empty DataFrames.\n",
      "Error creating CFG. Returning empty DataFrames.\n",
      "Error creating CFG. Returning empty DataFrames.\n",
      "Error creating CFG. Returning empty DataFrames.\n",
      "Error creating CFG. Returning empty DataFrames.\n",
      "Error creating CFG. Returning empty DataFrames.\n",
      "Error creating CFG. Returning empty DataFrames.\n",
      "Error creating CFG. Returning empty DataFrames.\n",
      "Error creating CFG. Returning empty DataFrames.\n",
      "Error creating CFG. Returning empty DataFrames.\n",
      "Error creating CFG. Returning empty DataFrames.\n",
      "Error creating CFG. Returning empty DataFrames.\n",
      "Error creating CFG. Returning empty DataFrames.\n"
     ]
    },
    {
     "name": "stderr",
     "output_type": "stream",
     "text": [
      "538it [00:07, 71.90it/s]"
     ]
    },
    {
     "name": "stdout",
     "output_type": "stream",
     "text": [
      "Error creating CFG. Returning empty DataFrames.\n",
      "Error creating CFG. Returning empty DataFrames.\n",
      "Error creating CFG. Returning empty DataFrames.\n",
      "Error creating CFG. Returning empty DataFrames.\n",
      "Error creating CFG. Returning empty DataFrames.\n",
      "Error creating CFG. Returning empty DataFrames.\n",
      "Error creating CFG. Returning empty DataFrames.\n",
      "Error creating CFG. Returning empty DataFrames.\n",
      "Error creating CFG. Returning empty DataFrames.\n",
      "Error creating CFG. Returning empty DataFrames.\n",
      "Error creating CFG. Returning empty DataFrames.\n",
      "Error creating CFG. Returning empty DataFrames.\n",
      "Error creating CFG. Returning empty DataFrames.\n",
      "Error creating CFG. Returning empty DataFrames.\n",
      "Error creating CFG. Returning empty DataFrames.\n",
      "Error creating CFG. Returning empty DataFrames.\n"
     ]
    },
    {
     "name": "stderr",
     "output_type": "stream",
     "text": [
      "554it [00:07, 71.11it/s]"
     ]
    },
    {
     "name": "stdout",
     "output_type": "stream",
     "text": [
      "Error creating CFG. Returning empty DataFrames.\n",
      "Error creating CFG. Returning empty DataFrames.\n",
      "WTF is this thing, build it in?? <class 'ast.Compare'>\n",
      "Error creating CFG. Returning empty DataFrames.\n",
      "Error creating CFG. Returning empty DataFrames.\n",
      "Error creating CFG. Returning empty DataFrames.\n",
      "Error creating CFG. Returning empty DataFrames.\n",
      "Error creating CFG. Returning empty DataFrames.\n",
      "Error creating CFG. Returning empty DataFrames.\n",
      "Error creating CFG. Returning empty DataFrames.\n",
      "Error creating CFG. Returning empty DataFrames.\n",
      "Error creating CFG. Returning empty DataFrames.\n",
      "Error creating CFG. Returning empty DataFrames.\n",
      "Error creating CFG. Returning empty DataFrames.\n",
      "Error creating CFG. Returning empty DataFrames.\n"
     ]
    },
    {
     "name": "stderr",
     "output_type": "stream",
     "text": [
      "572it [00:08, 74.52it/s]"
     ]
    },
    {
     "name": "stdout",
     "output_type": "stream",
     "text": [
      "Error creating CFG. Returning empty DataFrames.\n",
      "Error creating CFG. Returning empty DataFrames.\n",
      "Error creating CFG. Returning empty DataFrames.\n",
      "Error creating CFG. Returning empty DataFrames.\n",
      "Error creating CFG. Returning empty DataFrames.\n",
      "Error creating CFG. Returning empty DataFrames.\n",
      "Error creating CFG. Returning empty DataFrames.\n",
      "Error creating CFG. Returning empty DataFrames.\n",
      "Error creating CFG. Returning empty DataFrames.\n",
      "Error creating CFG. Returning empty DataFrames.\n",
      "Error creating CFG. Returning empty DataFrames.\n",
      "Error creating CFG. Returning empty DataFrames.\n",
      "Error creating CFG. Returning empty DataFrames.\n",
      "Error creating CFG. Returning empty DataFrames.\n",
      "Error creating CFG. Returning empty DataFrames.\n",
      "WTF is this thing, build it in?? <class 'ast.Compare'>\n",
      "Error creating CFG. Returning empty DataFrames.\n",
      "WTF is this thing, build it in?? <class 'ast.Compare'>\n",
      "Error creating CFG. Returning empty DataFrames.\n",
      "Error creating CFG. Returning empty DataFrames.\n",
      "Error creating CFG. Returning empty DataFrames.\n"
     ]
    },
    {
     "name": "stderr",
     "output_type": "stream",
     "text": [
      "591it [00:08, 79.09it/s]"
     ]
    },
    {
     "name": "stdout",
     "output_type": "stream",
     "text": [
      "Error creating CFG. Returning empty DataFrames.\n",
      "Error creating CFG. Returning empty DataFrames.\n",
      "Error creating CFG. Returning empty DataFrames.\n",
      "Error creating CFG. Returning empty DataFrames.\n",
      "Error creating CFG. Returning empty DataFrames.\n",
      "Error creating CFG. Returning empty DataFrames.\n",
      "Error creating CFG. Returning empty DataFrames.\n",
      "Error creating CFG. Returning empty DataFrames.\n",
      "Error creating CFG. Returning empty DataFrames.\n",
      "Error creating CFG. Returning empty DataFrames.\n",
      "Error creating CFG. Returning empty DataFrames.\n",
      "Error creating CFG. Returning empty DataFrames.\n",
      "Error creating CFG. Returning empty DataFrames.\n",
      "Error creating CFG. Returning empty DataFrames.\n",
      "Error creating CFG. Returning empty DataFrames.\n"
     ]
    },
    {
     "name": "stderr",
     "output_type": "stream",
     "text": [
      "607it [00:08, 74.39it/s]"
     ]
    },
    {
     "name": "stdout",
     "output_type": "stream",
     "text": [
      "Error creating CFG. Returning empty DataFrames.\n",
      "Error creating CFG. Returning empty DataFrames.\n",
      "Error creating CFG. Returning empty DataFrames.\n",
      "Error creating CFG. Returning empty DataFrames.\n",
      "Error creating CFG. Returning empty DataFrames.\n",
      "Error creating CFG. Returning empty DataFrames.\n",
      "Error creating CFG. Returning empty DataFrames.\n",
      "Error creating CFG. Returning empty DataFrames.\n",
      "Error creating CFG. Returning empty DataFrames.\n",
      "Error creating CFG. Returning empty DataFrames.\n",
      "Error creating CFG. Returning empty DataFrames.\n",
      "Error creating CFG. Returning empty DataFrames.\n",
      "Error creating CFG. Returning empty DataFrames.\n",
      "Error creating CFG. Returning empty DataFrames.\n",
      "Error creating CFG. Returning empty DataFrames.\n",
      "Error creating CFG. Returning empty DataFrames.\n",
      "Error creating CFG. Returning empty DataFrames.\n"
     ]
    },
    {
     "name": "stderr",
     "output_type": "stream",
     "text": [
      "623it [00:08, 76.80it/s]"
     ]
    },
    {
     "name": "stdout",
     "output_type": "stream",
     "text": [
      "Error creating CFG. Returning empty DataFrames.\n",
      "Error creating CFG. Returning empty DataFrames.\n",
      "Error creating CFG. Returning empty DataFrames.\n",
      "WTF is this thing, build it in?? <class 'ast.Compare'>\n",
      "Error creating CFG. Returning empty DataFrames.\n",
      "Error creating CFG. Returning empty DataFrames.\n",
      "Error creating CFG. Returning empty DataFrames.\n",
      "Error creating CFG. Returning empty DataFrames.\n",
      "Error creating CFG. Returning empty DataFrames.\n",
      "Error creating CFG. Returning empty DataFrames.\n",
      "Error creating CFG. Returning empty DataFrames.\n",
      "Error creating CFG. Returning empty DataFrames.\n",
      "Error creating CFG. Returning empty DataFrames.\n",
      "Error creating CFG. Returning empty DataFrames.\n",
      "Error creating CFG. Returning empty DataFrames.\n",
      "Error creating CFG. Returning empty DataFrames.\n",
      "Error creating CFG. Returning empty DataFrames.\n",
      "Error creating CFG. Returning empty DataFrames.\n"
     ]
    },
    {
     "name": "stderr",
     "output_type": "stream",
     "text": [
      "639it [00:08, 72.93it/s]"
     ]
    },
    {
     "name": "stdout",
     "output_type": "stream",
     "text": [
      "Error creating CFG. Returning empty DataFrames.\n",
      "Error creating CFG. Returning empty DataFrames.\n",
      "Error creating CFG. Returning empty DataFrames.\n",
      "Error creating CFG. Returning empty DataFrames.\n",
      "Error creating CFG. Returning empty DataFrames.\n",
      "Error creating CFG. Returning empty DataFrames.\n",
      "WTF is this thing, build it in?? <class 'ast.Compare'>\n",
      "Error creating CFG. Returning empty DataFrames.\n",
      "Error creating CFG. Returning empty DataFrames.\n",
      "Error creating CFG. Returning empty DataFrames.\n",
      "Error creating CFG. Returning empty DataFrames.\n",
      "Error creating CFG. Returning empty DataFrames.\n",
      "Error creating CFG. Returning empty DataFrames.\n",
      "Error creating CFG. Returning empty DataFrames.\n",
      "Error creating CFG. Returning empty DataFrames.\n",
      "Error creating CFG. Returning empty DataFrames.\n"
     ]
    },
    {
     "name": "stderr",
     "output_type": "stream",
     "text": [
      "655it [00:09, 72.19it/s]"
     ]
    },
    {
     "name": "stdout",
     "output_type": "stream",
     "text": [
      "Error creating CFG. Returning empty DataFrames.\n",
      "Error creating CFG. Returning empty DataFrames.\n",
      "Error creating CFG. Returning empty DataFrames.\n",
      "Error creating CFG. Returning empty DataFrames.\n",
      "Error creating CFG. Returning empty DataFrames.\n",
      "Error creating CFG. Returning empty DataFrames.\n",
      "Error creating CFG. Returning empty DataFrames.\n",
      "Error creating CFG. Returning empty DataFrames.\n",
      "Error creating CFG. Returning empty DataFrames.\n",
      "Error creating CFG. Returning empty DataFrames.\n",
      "Error creating CFG. Returning empty DataFrames.\n",
      "Error creating CFG. Returning empty DataFrames.\n",
      "Error creating CFG. Returning empty DataFrames.\n",
      "Error creating CFG. Returning empty DataFrames.\n",
      "Error creating CFG. Returning empty DataFrames.\n",
      "Error creating CFG. Returning empty DataFrames.\n"
     ]
    },
    {
     "name": "stderr",
     "output_type": "stream",
     "text": [
      "672it [00:09, 73.35it/s]"
     ]
    },
    {
     "name": "stdout",
     "output_type": "stream",
     "text": [
      "Error creating CFG. Returning empty DataFrames.\n",
      "Error creating CFG. Returning empty DataFrames.\n",
      "Error creating CFG. Returning empty DataFrames.\n",
      "Error creating CFG. Returning empty DataFrames.\n",
      "Error creating CFG. Returning empty DataFrames.\n",
      "Error creating CFG. Returning empty DataFrames.\n",
      "Error creating CFG. Returning empty DataFrames.\n",
      "Error creating CFG. Returning empty DataFrames.\n",
      "Error creating CFG. Returning empty DataFrames.\n",
      "Error creating CFG. Returning empty DataFrames.\n",
      "Error creating CFG. Returning empty DataFrames.\n",
      "Error creating CFG. Returning empty DataFrames.\n",
      "Error creating CFG. Returning empty DataFrames.\n",
      "Error creating CFG. Returning empty DataFrames.\n"
     ]
    },
    {
     "name": "stderr",
     "output_type": "stream",
     "text": [
      "680it [00:09, 72.12it/s]"
     ]
    },
    {
     "name": "stdout",
     "output_type": "stream",
     "text": [
      "Error creating CFG. Returning empty DataFrames.\n",
      "Error creating CFG. Returning empty DataFrames.\n",
      "Error creating CFG. Returning empty DataFrames.\n",
      "Error creating CFG. Returning empty DataFrames.\n",
      "Error creating CFG. Returning empty DataFrames.\n",
      "Error creating CFG. Returning empty DataFrames.\n",
      "Error creating CFG. Returning empty DataFrames.\n",
      "Error creating CFG. Returning empty DataFrames.\n",
      "Error creating CFG. Returning empty DataFrames.\n",
      "Error creating CFG. Returning empty DataFrames.\n",
      "Error creating CFG. Returning empty DataFrames.\n",
      "Error creating CFG. Returning empty DataFrames.\n",
      "Error creating CFG. Returning empty DataFrames.\n",
      "Error creating CFG. Returning empty DataFrames.\n"
     ]
    },
    {
     "name": "stderr",
     "output_type": "stream",
     "text": [
      "696it [00:09, 72.79it/s]"
     ]
    },
    {
     "name": "stdout",
     "output_type": "stream",
     "text": [
      "Error creating CFG. Returning empty DataFrames.\n",
      "Error creating CFG. Returning empty DataFrames.\n",
      "Error creating CFG. Returning empty DataFrames.\n",
      "Error creating CFG. Returning empty DataFrames.\n",
      "Error creating CFG. Returning empty DataFrames.\n",
      "Error creating CFG. Returning empty DataFrames.\n",
      "Error creating CFG. Returning empty DataFrames.\n",
      "Error creating CFG. Returning empty DataFrames.\n",
      "Error creating CFG. Returning empty DataFrames.\n",
      "Error creating CFG. Returning empty DataFrames.\n",
      "Error creating CFG. Returning empty DataFrames.\n",
      "Error creating CFG. Returning empty DataFrames.\n",
      "Error creating CFG. Returning empty DataFrames.\n",
      "Error creating CFG. Returning empty DataFrames.\n",
      "Error creating CFG. Returning empty DataFrames.\n"
     ]
    },
    {
     "name": "stderr",
     "output_type": "stream",
     "text": [
      "712it [00:09, 70.77it/s]"
     ]
    },
    {
     "name": "stdout",
     "output_type": "stream",
     "text": [
      "Error creating CFG. Returning empty DataFrames.\n",
      "Error creating CFG. Returning empty DataFrames.\n",
      "Error creating CFG. Returning empty DataFrames.\n",
      "Error creating CFG. Returning empty DataFrames.\n",
      "Error creating CFG. Returning empty DataFrames.\n",
      "Error creating CFG. Returning empty DataFrames.\n",
      "Error creating CFG. Returning empty DataFrames.\n",
      "Error creating CFG. Returning empty DataFrames.\n",
      "Error creating CFG. Returning empty DataFrames.\n",
      "WTF is this thing, build it in?? <class 'ast.BinOp'>\n",
      "Error creating CFG. Returning empty DataFrames.\n",
      "Error creating CFG. Returning empty DataFrames.\n",
      "Error creating CFG. Returning empty DataFrames.\n",
      "Error creating CFG. Returning empty DataFrames.\n",
      "Error creating CFG. Returning empty DataFrames.\n",
      "Error creating CFG. Returning empty DataFrames.\n"
     ]
    },
    {
     "name": "stderr",
     "output_type": "stream",
     "text": [
      "728it [00:10, 68.62it/s]"
     ]
    },
    {
     "name": "stdout",
     "output_type": "stream",
     "text": [
      "Error creating CFG. Returning empty DataFrames.\n",
      "Error creating CFG. Returning empty DataFrames.\n",
      "Error creating CFG. Returning empty DataFrames.\n",
      "Error creating CFG. Returning empty DataFrames.\n",
      "Error creating CFG. Returning empty DataFrames.\n",
      "Error creating CFG. Returning empty DataFrames.\n",
      "Error creating CFG. Returning empty DataFrames.\n",
      "Error creating CFG. Returning empty DataFrames.\n",
      "Error creating CFG. Returning empty DataFrames.\n",
      "Error creating CFG. Returning empty DataFrames.\n",
      "WTF is this thing, build it in?? <class 'ast.Compare'>\n",
      "Error creating CFG. Returning empty DataFrames.\n",
      "Error creating CFG. Returning empty DataFrames.\n",
      "Error creating CFG. Returning empty DataFrames.\n"
     ]
    },
    {
     "name": "stderr",
     "output_type": "stream",
     "text": [
      "735it [00:10, 49.22it/s]"
     ]
    },
    {
     "name": "stdout",
     "output_type": "stream",
     "text": [
      "Error creating CFG. Returning empty DataFrames.\n",
      "Error creating CFG. Returning empty DataFrames.\n",
      "Error creating CFG. Returning empty DataFrames.\n",
      "Error creating CFG. Returning empty DataFrames.\n",
      "Error creating CFG. Returning empty DataFrames.\n",
      "Error creating CFG. Returning empty DataFrames.\n",
      "Error creating CFG. Returning empty DataFrames.\n",
      "Error creating CFG. Returning empty DataFrames.\n"
     ]
    },
    {
     "name": "stderr",
     "output_type": "stream",
     "text": [
      "749it [00:10, 56.02it/s]"
     ]
    },
    {
     "name": "stdout",
     "output_type": "stream",
     "text": [
      "Error creating CFG. Returning empty DataFrames.\n",
      "Error creating CFG. Returning empty DataFrames.\n",
      "Error creating CFG. Returning empty DataFrames.\n",
      "Error creating CFG. Returning empty DataFrames.\n",
      "WTF is this thing, build it in?? <class 'ast.BinOp'>\n",
      "Error creating CFG. Returning empty DataFrames.\n",
      "Error creating CFG. Returning empty DataFrames.\n",
      "Error creating CFG. Returning empty DataFrames.\n",
      "Error creating CFG. Returning empty DataFrames.\n",
      "Error creating CFG. Returning empty DataFrames.\n",
      "Error creating CFG. Returning empty DataFrames.\n",
      "Error creating CFG. Returning empty DataFrames.\n",
      "Error creating CFG. Returning empty DataFrames.\n",
      "Error creating CFG. Returning empty DataFrames.\n",
      "Error creating CFG. Returning empty DataFrames.\n",
      "Error creating CFG. Returning empty DataFrames.\n"
     ]
    },
    {
     "name": "stderr",
     "output_type": "stream",
     "text": [
      "752it [00:10, 70.06it/s]\n"
     ]
    },
    {
     "name": "stdout",
     "output_type": "stream",
     "text": [
      "Subgraphs created.\n",
      "Filtering graph nodes...\n",
      "Graph nodes filtered. Creating hierarchical edges...\n",
      "Hierarchical graph building successful.\n",
      "CG nodes: 752 | CG edges: 249\n",
      "Subgraph nodes: 0 | Subgraph edges: 0\n",
      "FV nodes: 582 | Version edges (változás): 13\n",
      "Version->Function edges: 569\n"
     ]
    },
    {
     "data": {
      "text/html": [
       "<div>\n",
       "<style scoped>\n",
       "    .dataframe tbody tr th:only-of-type {\n",
       "        vertical-align: middle;\n",
       "    }\n",
       "\n",
       "    .dataframe tbody tr th {\n",
       "        vertical-align: top;\n",
       "    }\n",
       "\n",
       "    .dataframe thead th {\n",
       "        text-align: right;\n",
       "    }\n",
       "</style>\n",
       "<table border=\"1\" class=\"dataframe\">\n",
       "  <thead>\n",
       "    <tr style=\"text-align: right;\">\n",
       "      <th></th>\n",
       "      <th>combinedName</th>\n",
       "      <th>function_code</th>\n",
       "      <th>docstring</th>\n",
       "      <th>function_location</th>\n",
       "      <th>file_id</th>\n",
       "      <th>func_id</th>\n",
       "    </tr>\n",
       "  </thead>\n",
       "  <tbody>\n",
       "    <tr>\n",
       "      <th>0</th>\n",
       "      <td>_generate_indices</td>\n",
       "      <td>def _generate_indices(random_state, bootstrap,...</td>\n",
       "      <td>Draw randomly sampled indices.</td>\n",
       "      <td>c:\\Szakdolgozat\\code-knowledge-graph\\repos\\sci...</td>\n",
       "      <td>c773a250-99f4-11f0-a33e-8880c1f41edd</td>\n",
       "      <td>0</td>\n",
       "    </tr>\n",
       "    <tr>\n",
       "      <th>1</th>\n",
       "      <td>_generate_bagging_indices</td>\n",
       "      <td>def _generate_bagging_indices(random_state, bo...</td>\n",
       "      <td>Randomly draw feature and sample indices.</td>\n",
       "      <td>c:\\Szakdolgozat\\code-knowledge-graph\\repos\\sci...</td>\n",
       "      <td>c773a250-99f4-11f0-a33e-8880c1f41edd</td>\n",
       "      <td>1</td>\n",
       "    </tr>\n",
       "    <tr>\n",
       "      <th>2</th>\n",
       "      <td>_consumes_sample_weight</td>\n",
       "      <td>def _consumes_sample_weight(estimator):\\n    i...</td>\n",
       "      <td>None</td>\n",
       "      <td>c:\\Szakdolgozat\\code-knowledge-graph\\repos\\sci...</td>\n",
       "      <td>c773a250-99f4-11f0-a33e-8880c1f41edd</td>\n",
       "      <td>2</td>\n",
       "    </tr>\n",
       "    <tr>\n",
       "      <th>3</th>\n",
       "      <td>_parallel_build_estimators</td>\n",
       "      <td>def _parallel_build_estimators(n_estimators, e...</td>\n",
       "      <td>Private function used to build a batch of esti...</td>\n",
       "      <td>c:\\Szakdolgozat\\code-knowledge-graph\\repos\\sci...</td>\n",
       "      <td>c773a250-99f4-11f0-a33e-8880c1f41edd</td>\n",
       "      <td>3</td>\n",
       "    </tr>\n",
       "    <tr>\n",
       "      <th>4</th>\n",
       "      <td>_parallel_predict_proba</td>\n",
       "      <td>def _parallel_predict_proba(estimators, estima...</td>\n",
       "      <td>Private function used to compute (proba-)predi...</td>\n",
       "      <td>c:\\Szakdolgozat\\code-knowledge-graph\\repos\\sci...</td>\n",
       "      <td>c773a250-99f4-11f0-a33e-8880c1f41edd</td>\n",
       "      <td>4</td>\n",
       "    </tr>\n",
       "  </tbody>\n",
       "</table>\n",
       "</div>"
      ],
      "text/plain": [
       "                 combinedName  \\\n",
       "0           _generate_indices   \n",
       "1   _generate_bagging_indices   \n",
       "2     _consumes_sample_weight   \n",
       "3  _parallel_build_estimators   \n",
       "4     _parallel_predict_proba   \n",
       "\n",
       "                                       function_code  \\\n",
       "0  def _generate_indices(random_state, bootstrap,...   \n",
       "1  def _generate_bagging_indices(random_state, bo...   \n",
       "2  def _consumes_sample_weight(estimator):\\n    i...   \n",
       "3  def _parallel_build_estimators(n_estimators, e...   \n",
       "4  def _parallel_predict_proba(estimators, estima...   \n",
       "\n",
       "                                           docstring  \\\n",
       "0                     Draw randomly sampled indices.   \n",
       "1          Randomly draw feature and sample indices.   \n",
       "2                                               None   \n",
       "3  Private function used to build a batch of esti...   \n",
       "4  Private function used to compute (proba-)predi...   \n",
       "\n",
       "                                   function_location  \\\n",
       "0  c:\\Szakdolgozat\\code-knowledge-graph\\repos\\sci...   \n",
       "1  c:\\Szakdolgozat\\code-knowledge-graph\\repos\\sci...   \n",
       "2  c:\\Szakdolgozat\\code-knowledge-graph\\repos\\sci...   \n",
       "3  c:\\Szakdolgozat\\code-knowledge-graph\\repos\\sci...   \n",
       "4  c:\\Szakdolgozat\\code-knowledge-graph\\repos\\sci...   \n",
       "\n",
       "                                file_id  func_id  \n",
       "0  c773a250-99f4-11f0-a33e-8880c1f41edd        0  \n",
       "1  c773a250-99f4-11f0-a33e-8880c1f41edd        1  \n",
       "2  c773a250-99f4-11f0-a33e-8880c1f41edd        2  \n",
       "3  c773a250-99f4-11f0-a33e-8880c1f41edd        3  \n",
       "4  c773a250-99f4-11f0-a33e-8880c1f41edd        4  "
      ]
     },
     "metadata": {},
     "output_type": "display_data"
    },
    {
     "data": {
      "text/html": [
       "<div>\n",
       "<style scoped>\n",
       "    .dataframe tbody tr th:only-of-type {\n",
       "        vertical-align: middle;\n",
       "    }\n",
       "\n",
       "    .dataframe tbody tr th {\n",
       "        vertical-align: top;\n",
       "    }\n",
       "\n",
       "    .dataframe thead th {\n",
       "        text-align: right;\n",
       "    }\n",
       "</style>\n",
       "<table border=\"1\" class=\"dataframe\">\n",
       "  <thead>\n",
       "    <tr style=\"text-align: right;\">\n",
       "      <th></th>\n",
       "      <th>ID</th>\n",
       "      <th>function_id</th>\n",
       "      <th>symbol_id</th>\n",
       "      <th>commit_sha</th>\n",
       "      <th>authored_datetime</th>\n",
       "      <th>file_path</th>\n",
       "      <th>qualified_name</th>\n",
       "      <th>body_hash</th>\n",
       "      <th>start_line</th>\n",
       "      <th>end_line</th>\n",
       "      <th>code</th>\n",
       "    </tr>\n",
       "  </thead>\n",
       "  <tbody>\n",
       "    <tr>\n",
       "      <th>0</th>\n",
       "      <td>1</td>\n",
       "      <td>0</td>\n",
       "      <td>sklearn/ensemble/_bagging.py::_generate_indices</td>\n",
       "      <td>031d2f83b7c9d1027d1477abb2bf34652621d603</td>\n",
       "      <td>2025-06-16T14:13:11+02:00</td>\n",
       "      <td>sklearn/ensemble/_bagging.py</td>\n",
       "      <td>_generate_indices</td>\n",
       "      <td>7065b3bfb7be3c255c29833d49de1f82dad21b912b7f23...</td>\n",
       "      <td>54</td>\n",
       "      <td>64</td>\n",
       "      <td>def _generate_indices(random_state, bootstrap,...</td>\n",
       "    </tr>\n",
       "    <tr>\n",
       "      <th>1</th>\n",
       "      <td>2</td>\n",
       "      <td>1</td>\n",
       "      <td>sklearn/ensemble/_bagging.py::_generate_baggin...</td>\n",
       "      <td>031d2f83b7c9d1027d1477abb2bf34652621d603</td>\n",
       "      <td>2025-06-16T14:13:11+02:00</td>\n",
       "      <td>sklearn/ensemble/_bagging.py</td>\n",
       "      <td>_generate_bagging_indices</td>\n",
       "      <td>d025744d1242de7f1e7eee0ce91f7d3ecc15e50e466df8...</td>\n",
       "      <td>67</td>\n",
       "      <td>98</td>\n",
       "      <td>def _generate_bagging_indices(\\n    random_sta...</td>\n",
       "    </tr>\n",
       "    <tr>\n",
       "      <th>2</th>\n",
       "      <td>3</td>\n",
       "      <td>2</td>\n",
       "      <td>sklearn/ensemble/_bagging.py::_consumes_sample...</td>\n",
       "      <td>031d2f83b7c9d1027d1477abb2bf34652621d603</td>\n",
       "      <td>2025-06-16T14:13:11+02:00</td>\n",
       "      <td>sklearn/ensemble/_bagging.py</td>\n",
       "      <td>_consumes_sample_weight</td>\n",
       "      <td>59138ceee7de4a106dab80f8fac5ee86ad809763bea9f7...</td>\n",
       "      <td>101</td>\n",
       "      <td>107</td>\n",
       "      <td>def _consumes_sample_weight(estimator):\\n    i...</td>\n",
       "    </tr>\n",
       "    <tr>\n",
       "      <th>3</th>\n",
       "      <td>4</td>\n",
       "      <td>3</td>\n",
       "      <td>sklearn/ensemble/_bagging.py::_parallel_build_...</td>\n",
       "      <td>031d2f83b7c9d1027d1477abb2bf34652621d603</td>\n",
       "      <td>2025-06-16T14:13:11+02:00</td>\n",
       "      <td>sklearn/ensemble/_bagging.py</td>\n",
       "      <td>_parallel_build_estimators</td>\n",
       "      <td>9d770628874e2c7158754e7ef72cc78a1ff5f0bed3022d...</td>\n",
       "      <td>110</td>\n",
       "      <td>188</td>\n",
       "      <td>def _parallel_build_estimators(\\n    n_estimat...</td>\n",
       "    </tr>\n",
       "    <tr>\n",
       "      <th>4</th>\n",
       "      <td>5</td>\n",
       "      <td>4</td>\n",
       "      <td>sklearn/ensemble/_bagging.py::_parallel_predic...</td>\n",
       "      <td>031d2f83b7c9d1027d1477abb2bf34652621d603</td>\n",
       "      <td>2025-06-16T14:13:11+02:00</td>\n",
       "      <td>sklearn/ensemble/_bagging.py</td>\n",
       "      <td>_parallel_predict_proba</td>\n",
       "      <td>f32b843b1ef8017f584a32209d585d601b1fbf7cfd328b...</td>\n",
       "      <td>191</td>\n",
       "      <td>226</td>\n",
       "      <td>def _parallel_predict_proba(\\n    estimators,\\...</td>\n",
       "    </tr>\n",
       "  </tbody>\n",
       "</table>\n",
       "</div>"
      ],
      "text/plain": [
       "   ID  function_id                                          symbol_id  \\\n",
       "0   1            0    sklearn/ensemble/_bagging.py::_generate_indices   \n",
       "1   2            1  sklearn/ensemble/_bagging.py::_generate_baggin...   \n",
       "2   3            2  sklearn/ensemble/_bagging.py::_consumes_sample...   \n",
       "3   4            3  sklearn/ensemble/_bagging.py::_parallel_build_...   \n",
       "4   5            4  sklearn/ensemble/_bagging.py::_parallel_predic...   \n",
       "\n",
       "                                 commit_sha          authored_datetime  \\\n",
       "0  031d2f83b7c9d1027d1477abb2bf34652621d603  2025-06-16T14:13:11+02:00   \n",
       "1  031d2f83b7c9d1027d1477abb2bf34652621d603  2025-06-16T14:13:11+02:00   \n",
       "2  031d2f83b7c9d1027d1477abb2bf34652621d603  2025-06-16T14:13:11+02:00   \n",
       "3  031d2f83b7c9d1027d1477abb2bf34652621d603  2025-06-16T14:13:11+02:00   \n",
       "4  031d2f83b7c9d1027d1477abb2bf34652621d603  2025-06-16T14:13:11+02:00   \n",
       "\n",
       "                      file_path              qualified_name  \\\n",
       "0  sklearn/ensemble/_bagging.py           _generate_indices   \n",
       "1  sklearn/ensemble/_bagging.py   _generate_bagging_indices   \n",
       "2  sklearn/ensemble/_bagging.py     _consumes_sample_weight   \n",
       "3  sklearn/ensemble/_bagging.py  _parallel_build_estimators   \n",
       "4  sklearn/ensemble/_bagging.py     _parallel_predict_proba   \n",
       "\n",
       "                                           body_hash  start_line  end_line  \\\n",
       "0  7065b3bfb7be3c255c29833d49de1f82dad21b912b7f23...          54        64   \n",
       "1  d025744d1242de7f1e7eee0ce91f7d3ecc15e50e466df8...          67        98   \n",
       "2  59138ceee7de4a106dab80f8fac5ee86ad809763bea9f7...         101       107   \n",
       "3  9d770628874e2c7158754e7ef72cc78a1ff5f0bed3022d...         110       188   \n",
       "4  f32b843b1ef8017f584a32209d585d601b1fbf7cfd328b...         191       226   \n",
       "\n",
       "                                                code  \n",
       "0  def _generate_indices(random_state, bootstrap,...  \n",
       "1  def _generate_bagging_indices(\\n    random_sta...  \n",
       "2  def _consumes_sample_weight(estimator):\\n    i...  \n",
       "3  def _parallel_build_estimators(\\n    n_estimat...  \n",
       "4  def _parallel_predict_proba(\\n    estimators,\\...  "
      ]
     },
     "metadata": {},
     "output_type": "display_data"
    },
    {
     "data": {
      "text/html": [
       "<div>\n",
       "<style scoped>\n",
       "    .dataframe tbody tr th:only-of-type {\n",
       "        vertical-align: middle;\n",
       "    }\n",
       "\n",
       "    .dataframe tbody tr th {\n",
       "        vertical-align: top;\n",
       "    }\n",
       "\n",
       "    .dataframe thead th {\n",
       "        text-align: right;\n",
       "    }\n",
       "</style>\n",
       "<table border=\"1\" class=\"dataframe\">\n",
       "  <thead>\n",
       "    <tr style=\"text-align: right;\">\n",
       "      <th></th>\n",
       "      <th>source</th>\n",
       "      <th>target</th>\n",
       "      <th>commit_sha</th>\n",
       "      <th>authored_datetime</th>\n",
       "      <th>author_name</th>\n",
       "      <th>author_email</th>\n",
       "      <th>message</th>\n",
       "      <th>file_path</th>\n",
       "      <th>qualified_name</th>\n",
       "    </tr>\n",
       "  </thead>\n",
       "  <tbody>\n",
       "    <tr>\n",
       "      <th>0</th>\n",
       "      <td>17</td>\n",
       "      <td>18</td>\n",
       "      <td>1c5c8f03659d303e4df8fd08813c9fb35a0c0e35</td>\n",
       "      <td>2025-09-05T11:55:25+02:00</td>\n",
       "      <td>Adrin Jalali</td>\n",
       "      <td>adrin.jalali@gmail.com</td>\n",
       "      <td>MNT refactoring in routing _MetadataRequester ...</td>\n",
       "      <td>sklearn/ensemble/_bagging.py</td>\n",
       "      <td>BaseBagging.get_metadata_routing</td>\n",
       "    </tr>\n",
       "    <tr>\n",
       "      <th>1</th>\n",
       "      <td>98</td>\n",
       "      <td>99</td>\n",
       "      <td>0ca4ac2a26f2067f614db8fe024212342ebf71ba</td>\n",
       "      <td>2025-07-23T19:03:08+06:00</td>\n",
       "      <td>S. M. Mohiuddin Khan Shiam</td>\n",
       "      <td>147746955+mohiuddin-khan-shiam@users.noreply.g...</td>\n",
       "      <td>MNT Use float64 epsilon when clipping initial ...</td>\n",
       "      <td>sklearn/ensemble/_gb.py</td>\n",
       "      <td>compute_update</td>\n",
       "    </tr>\n",
       "    <tr>\n",
       "      <th>2</th>\n",
       "      <td>99</td>\n",
       "      <td>100</td>\n",
       "      <td>0ca4ac2a26f2067f614db8fe024212342ebf71ba</td>\n",
       "      <td>2025-07-23T19:03:08+06:00</td>\n",
       "      <td>S. M. Mohiuddin Khan Shiam</td>\n",
       "      <td>147746955+mohiuddin-khan-shiam@users.noreply.g...</td>\n",
       "      <td>MNT Use float64 epsilon when clipping initial ...</td>\n",
       "      <td>sklearn/ensemble/_gb.py</td>\n",
       "      <td>compute_update</td>\n",
       "    </tr>\n",
       "    <tr>\n",
       "      <th>3</th>\n",
       "      <td>100</td>\n",
       "      <td>101</td>\n",
       "      <td>0ca4ac2a26f2067f614db8fe024212342ebf71ba</td>\n",
       "      <td>2025-07-23T19:03:08+06:00</td>\n",
       "      <td>S. M. Mohiuddin Khan Shiam</td>\n",
       "      <td>147746955+mohiuddin-khan-shiam@users.noreply.g...</td>\n",
       "      <td>MNT Use float64 epsilon when clipping initial ...</td>\n",
       "      <td>sklearn/ensemble/_gb.py</td>\n",
       "      <td>compute_update</td>\n",
       "    </tr>\n",
       "    <tr>\n",
       "      <th>4</th>\n",
       "      <td>101</td>\n",
       "      <td>102</td>\n",
       "      <td>1fe659545c70d9f805c1c4097dd2fce9a6285a12</td>\n",
       "      <td>2025-07-29T15:42:22+02:00</td>\n",
       "      <td>Loïc Estève</td>\n",
       "      <td>loic.esteve@ymail.com</td>\n",
       "      <td>MNT Switch to absolute imports enforced by `ru...</td>\n",
       "      <td>sklearn/ensemble/_gb.py</td>\n",
       "      <td>compute_update</td>\n",
       "    </tr>\n",
       "  </tbody>\n",
       "</table>\n",
       "</div>"
      ],
      "text/plain": [
       "   source  target                                commit_sha  \\\n",
       "0      17      18  1c5c8f03659d303e4df8fd08813c9fb35a0c0e35   \n",
       "1      98      99  0ca4ac2a26f2067f614db8fe024212342ebf71ba   \n",
       "2      99     100  0ca4ac2a26f2067f614db8fe024212342ebf71ba   \n",
       "3     100     101  0ca4ac2a26f2067f614db8fe024212342ebf71ba   \n",
       "4     101     102  1fe659545c70d9f805c1c4097dd2fce9a6285a12   \n",
       "\n",
       "           authored_datetime                 author_name  \\\n",
       "0  2025-09-05T11:55:25+02:00                Adrin Jalali   \n",
       "1  2025-07-23T19:03:08+06:00  S. M. Mohiuddin Khan Shiam   \n",
       "2  2025-07-23T19:03:08+06:00  S. M. Mohiuddin Khan Shiam   \n",
       "3  2025-07-23T19:03:08+06:00  S. M. Mohiuddin Khan Shiam   \n",
       "4  2025-07-29T15:42:22+02:00                 Loïc Estève   \n",
       "\n",
       "                                        author_email  \\\n",
       "0                             adrin.jalali@gmail.com   \n",
       "1  147746955+mohiuddin-khan-shiam@users.noreply.g...   \n",
       "2  147746955+mohiuddin-khan-shiam@users.noreply.g...   \n",
       "3  147746955+mohiuddin-khan-shiam@users.noreply.g...   \n",
       "4                              loic.esteve@ymail.com   \n",
       "\n",
       "                                             message  \\\n",
       "0  MNT refactoring in routing _MetadataRequester ...   \n",
       "1  MNT Use float64 epsilon when clipping initial ...   \n",
       "2  MNT Use float64 epsilon when clipping initial ...   \n",
       "3  MNT Use float64 epsilon when clipping initial ...   \n",
       "4  MNT Switch to absolute imports enforced by `ru...   \n",
       "\n",
       "                      file_path                    qualified_name  \n",
       "0  sklearn/ensemble/_bagging.py  BaseBagging.get_metadata_routing  \n",
       "1       sklearn/ensemble/_gb.py                    compute_update  \n",
       "2       sklearn/ensemble/_gb.py                    compute_update  \n",
       "3       sklearn/ensemble/_gb.py                    compute_update  \n",
       "4       sklearn/ensemble/_gb.py                    compute_update  "
      ]
     },
     "metadata": {},
     "output_type": "display_data"
    }
   ],
   "source": [
    "# -- 1) Hierarchical Graph (CG + Subgraphok + FV az új sémában) --\n",
    "hg = HierarchicalGraphBuilder()\n",
    "\n",
    "cg_nodes, cg_edges, sub_nodes, sub_edges, hier_sub2main, hier_main2sub, imports, function_version_nodes, version_edges, fv_func_edges = hg.create_hierarchical_graph(\n",
    "    path=str(ANALYSIS_PATH),\n",
    "    return_type=\"pandas\",\n",
    "    repo_functions_only=True,\n",
    "    graph_type=\"CFG\",\n",
    "    create_embedding=False,\n",
    "    remove_isolated=False,\n",
    "    remove_subgraph_missing=False,\n",
    "    repo_root_override=str(REPO_ROOT)\n",
    ")\n",
    "\n",
    "print(\"CG nodes:\", len(cg_nodes), \"| CG edges:\", len(cg_edges))\n",
    "print(\"Subgraph nodes:\", len(sub_nodes), \"| Subgraph edges:\", len(sub_edges))\n",
    "print(\"FV nodes:\", len(function_version_nodes), \"| Version edges (változás):\", len(version_edges))\n",
    "print(\"Version->Function edges:\", len(fv_func_edges))\n",
    "\n",
    "display(cg_nodes.head(5))\n",
    "display(function_version_nodes.head(5))\n",
    "display(version_edges.head(5))\n"
   ]
  },
  {
   "cell_type": "code",
   "execution_count": 6,
   "id": "e978ea21",
   "metadata": {},
   "outputs": [
    {
     "name": "stdout",
     "output_type": "stream",
     "text": [
      "Sanity check OK ✓\n"
     ]
    }
   ],
   "source": [
    "# -- 2) Gyors sanity check az új sémára --\n",
    "# FV node-ok minimális oszlopai\n",
    "required_fv_cols = {\"ID\",\"symbol_id\",\"commit_sha\",\"qualified_name\",\"body_hash\",\"file_path\",\"authored_datetime\",\"code\"}\n",
    "missing_fv = required_fv_cols - set(function_version_nodes.columns)\n",
    "assert not missing_fv, f\"Hiányzó oszlop(ok) a function_version_nodes-ban: {missing_fv}\"\n",
    "\n",
    "# Version edges minimális oszlopai (commit meta az éleken)\n",
    "required_ve_cols = {\"source\",\"target\",\"commit_sha\",\"authored_datetime\",\"author_name\",\"author_email\",\"message\",\"file_path\",\"qualified_name\"}\n",
    "missing_ve = required_ve_cols - set(version_edges.columns)\n",
    "assert not missing_ve, f\"Hiányzó oszlop(ok) a version_edges-ben: {missing_ve}\"\n",
    "\n",
    "# Version -> Function kapcsolatok\n",
    "assert set(fv_func_edges.columns) >= {\"source\",\"target\"}, \"Hiányoznak az éloszlopok a version->function táblában.\"\n",
    "\n",
    "print(\"Sanity check OK ✓\")\n"
   ]
  },
  {
   "cell_type": "code",
   "execution_count": 7,
   "id": "94b6181e",
   "metadata": {},
   "outputs": [
    {
     "data": {
      "text/html": [
       "<div>\n",
       "<style scoped>\n",
       "    .dataframe tbody tr th:only-of-type {\n",
       "        vertical-align: middle;\n",
       "    }\n",
       "\n",
       "    .dataframe tbody tr th {\n",
       "        vertical-align: top;\n",
       "    }\n",
       "\n",
       "    .dataframe thead th {\n",
       "        text-align: right;\n",
       "    }\n",
       "</style>\n",
       "<table border=\"1\" class=\"dataframe\">\n",
       "  <thead>\n",
       "    <tr style=\"text-align: right;\">\n",
       "      <th></th>\n",
       "      <th>combinedName</th>\n",
       "      <th>function_code</th>\n",
       "      <th>docstring</th>\n",
       "      <th>function_location</th>\n",
       "      <th>file_id</th>\n",
       "      <th>func_id</th>\n",
       "    </tr>\n",
       "  </thead>\n",
       "  <tbody>\n",
       "    <tr>\n",
       "      <th>0</th>\n",
       "      <td>_generate_indices</td>\n",
       "      <td>def _generate_indices(random_state, bootstrap,...</td>\n",
       "      <td>Draw randomly sampled indices.</td>\n",
       "      <td>c:\\Szakdolgozat\\code-knowledge-graph\\repos\\sci...</td>\n",
       "      <td>c773a250-99f4-11f0-a33e-8880c1f41edd</td>\n",
       "      <td>0</td>\n",
       "    </tr>\n",
       "    <tr>\n",
       "      <th>1</th>\n",
       "      <td>_generate_bagging_indices</td>\n",
       "      <td>def _generate_bagging_indices(random_state, bo...</td>\n",
       "      <td>Randomly draw feature and sample indices.</td>\n",
       "      <td>c:\\Szakdolgozat\\code-knowledge-graph\\repos\\sci...</td>\n",
       "      <td>c773a250-99f4-11f0-a33e-8880c1f41edd</td>\n",
       "      <td>1</td>\n",
       "    </tr>\n",
       "    <tr>\n",
       "      <th>2</th>\n",
       "      <td>_consumes_sample_weight</td>\n",
       "      <td>def _consumes_sample_weight(estimator):\\n    i...</td>\n",
       "      <td>None</td>\n",
       "      <td>c:\\Szakdolgozat\\code-knowledge-graph\\repos\\sci...</td>\n",
       "      <td>c773a250-99f4-11f0-a33e-8880c1f41edd</td>\n",
       "      <td>2</td>\n",
       "    </tr>\n",
       "    <tr>\n",
       "      <th>3</th>\n",
       "      <td>_parallel_build_estimators</td>\n",
       "      <td>def _parallel_build_estimators(n_estimators, e...</td>\n",
       "      <td>Private function used to build a batch of esti...</td>\n",
       "      <td>c:\\Szakdolgozat\\code-knowledge-graph\\repos\\sci...</td>\n",
       "      <td>c773a250-99f4-11f0-a33e-8880c1f41edd</td>\n",
       "      <td>3</td>\n",
       "    </tr>\n",
       "    <tr>\n",
       "      <th>4</th>\n",
       "      <td>_parallel_predict_proba</td>\n",
       "      <td>def _parallel_predict_proba(estimators, estima...</td>\n",
       "      <td>Private function used to compute (proba-)predi...</td>\n",
       "      <td>c:\\Szakdolgozat\\code-knowledge-graph\\repos\\sci...</td>\n",
       "      <td>c773a250-99f4-11f0-a33e-8880c1f41edd</td>\n",
       "      <td>4</td>\n",
       "    </tr>\n",
       "  </tbody>\n",
       "</table>\n",
       "</div>"
      ],
      "text/plain": [
       "                 combinedName  \\\n",
       "0           _generate_indices   \n",
       "1   _generate_bagging_indices   \n",
       "2     _consumes_sample_weight   \n",
       "3  _parallel_build_estimators   \n",
       "4     _parallel_predict_proba   \n",
       "\n",
       "                                       function_code  \\\n",
       "0  def _generate_indices(random_state, bootstrap,...   \n",
       "1  def _generate_bagging_indices(random_state, bo...   \n",
       "2  def _consumes_sample_weight(estimator):\\n    i...   \n",
       "3  def _parallel_build_estimators(n_estimators, e...   \n",
       "4  def _parallel_predict_proba(estimators, estima...   \n",
       "\n",
       "                                           docstring  \\\n",
       "0                     Draw randomly sampled indices.   \n",
       "1          Randomly draw feature and sample indices.   \n",
       "2                                               None   \n",
       "3  Private function used to build a batch of esti...   \n",
       "4  Private function used to compute (proba-)predi...   \n",
       "\n",
       "                                   function_location  \\\n",
       "0  c:\\Szakdolgozat\\code-knowledge-graph\\repos\\sci...   \n",
       "1  c:\\Szakdolgozat\\code-knowledge-graph\\repos\\sci...   \n",
       "2  c:\\Szakdolgozat\\code-knowledge-graph\\repos\\sci...   \n",
       "3  c:\\Szakdolgozat\\code-knowledge-graph\\repos\\sci...   \n",
       "4  c:\\Szakdolgozat\\code-knowledge-graph\\repos\\sci...   \n",
       "\n",
       "                                file_id  func_id  \n",
       "0  c773a250-99f4-11f0-a33e-8880c1f41edd        0  \n",
       "1  c773a250-99f4-11f0-a33e-8880c1f41edd        1  \n",
       "2  c773a250-99f4-11f0-a33e-8880c1f41edd        2  \n",
       "3  c773a250-99f4-11f0-a33e-8880c1f41edd        3  \n",
       "4  c773a250-99f4-11f0-a33e-8880c1f41edd        4  "
      ]
     },
     "metadata": {},
     "output_type": "display_data"
    },
    {
     "data": {
      "text/html": [
       "<div>\n",
       "<style scoped>\n",
       "    .dataframe tbody tr th:only-of-type {\n",
       "        vertical-align: middle;\n",
       "    }\n",
       "\n",
       "    .dataframe tbody tr th {\n",
       "        vertical-align: top;\n",
       "    }\n",
       "\n",
       "    .dataframe thead th {\n",
       "        text-align: right;\n",
       "    }\n",
       "</style>\n",
       "<table border=\"1\" class=\"dataframe\">\n",
       "  <thead>\n",
       "    <tr style=\"text-align: right;\">\n",
       "      <th></th>\n",
       "      <th>ID</th>\n",
       "      <th>function_id</th>\n",
       "      <th>symbol_id</th>\n",
       "      <th>commit_sha</th>\n",
       "      <th>authored_datetime</th>\n",
       "      <th>file_path</th>\n",
       "      <th>qualified_name</th>\n",
       "      <th>body_hash</th>\n",
       "      <th>start_line</th>\n",
       "      <th>end_line</th>\n",
       "      <th>code</th>\n",
       "    </tr>\n",
       "  </thead>\n",
       "  <tbody>\n",
       "    <tr>\n",
       "      <th>0</th>\n",
       "      <td>1</td>\n",
       "      <td>0</td>\n",
       "      <td>sklearn/ensemble/_bagging.py::_generate_indices</td>\n",
       "      <td>031d2f83b7c9d1027d1477abb2bf34652621d603</td>\n",
       "      <td>2025-06-16T14:13:11+02:00</td>\n",
       "      <td>sklearn/ensemble/_bagging.py</td>\n",
       "      <td>_generate_indices</td>\n",
       "      <td>7065b3bfb7be3c255c29833d49de1f82dad21b912b7f23...</td>\n",
       "      <td>54</td>\n",
       "      <td>64</td>\n",
       "      <td>def _generate_indices(random_state, bootstrap,...</td>\n",
       "    </tr>\n",
       "    <tr>\n",
       "      <th>1</th>\n",
       "      <td>2</td>\n",
       "      <td>1</td>\n",
       "      <td>sklearn/ensemble/_bagging.py::_generate_baggin...</td>\n",
       "      <td>031d2f83b7c9d1027d1477abb2bf34652621d603</td>\n",
       "      <td>2025-06-16T14:13:11+02:00</td>\n",
       "      <td>sklearn/ensemble/_bagging.py</td>\n",
       "      <td>_generate_bagging_indices</td>\n",
       "      <td>d025744d1242de7f1e7eee0ce91f7d3ecc15e50e466df8...</td>\n",
       "      <td>67</td>\n",
       "      <td>98</td>\n",
       "      <td>def _generate_bagging_indices(\\n    random_sta...</td>\n",
       "    </tr>\n",
       "    <tr>\n",
       "      <th>2</th>\n",
       "      <td>3</td>\n",
       "      <td>2</td>\n",
       "      <td>sklearn/ensemble/_bagging.py::_consumes_sample...</td>\n",
       "      <td>031d2f83b7c9d1027d1477abb2bf34652621d603</td>\n",
       "      <td>2025-06-16T14:13:11+02:00</td>\n",
       "      <td>sklearn/ensemble/_bagging.py</td>\n",
       "      <td>_consumes_sample_weight</td>\n",
       "      <td>59138ceee7de4a106dab80f8fac5ee86ad809763bea9f7...</td>\n",
       "      <td>101</td>\n",
       "      <td>107</td>\n",
       "      <td>def _consumes_sample_weight(estimator):\\n    i...</td>\n",
       "    </tr>\n",
       "    <tr>\n",
       "      <th>3</th>\n",
       "      <td>4</td>\n",
       "      <td>3</td>\n",
       "      <td>sklearn/ensemble/_bagging.py::_parallel_build_...</td>\n",
       "      <td>031d2f83b7c9d1027d1477abb2bf34652621d603</td>\n",
       "      <td>2025-06-16T14:13:11+02:00</td>\n",
       "      <td>sklearn/ensemble/_bagging.py</td>\n",
       "      <td>_parallel_build_estimators</td>\n",
       "      <td>9d770628874e2c7158754e7ef72cc78a1ff5f0bed3022d...</td>\n",
       "      <td>110</td>\n",
       "      <td>188</td>\n",
       "      <td>def _parallel_build_estimators(\\n    n_estimat...</td>\n",
       "    </tr>\n",
       "    <tr>\n",
       "      <th>4</th>\n",
       "      <td>5</td>\n",
       "      <td>4</td>\n",
       "      <td>sklearn/ensemble/_bagging.py::_parallel_predic...</td>\n",
       "      <td>031d2f83b7c9d1027d1477abb2bf34652621d603</td>\n",
       "      <td>2025-06-16T14:13:11+02:00</td>\n",
       "      <td>sklearn/ensemble/_bagging.py</td>\n",
       "      <td>_parallel_predict_proba</td>\n",
       "      <td>f32b843b1ef8017f584a32209d585d601b1fbf7cfd328b...</td>\n",
       "      <td>191</td>\n",
       "      <td>226</td>\n",
       "      <td>def _parallel_predict_proba(\\n    estimators,\\...</td>\n",
       "    </tr>\n",
       "  </tbody>\n",
       "</table>\n",
       "</div>"
      ],
      "text/plain": [
       "   ID  function_id                                          symbol_id  \\\n",
       "0   1            0    sklearn/ensemble/_bagging.py::_generate_indices   \n",
       "1   2            1  sklearn/ensemble/_bagging.py::_generate_baggin...   \n",
       "2   3            2  sklearn/ensemble/_bagging.py::_consumes_sample...   \n",
       "3   4            3  sklearn/ensemble/_bagging.py::_parallel_build_...   \n",
       "4   5            4  sklearn/ensemble/_bagging.py::_parallel_predic...   \n",
       "\n",
       "                                 commit_sha          authored_datetime  \\\n",
       "0  031d2f83b7c9d1027d1477abb2bf34652621d603  2025-06-16T14:13:11+02:00   \n",
       "1  031d2f83b7c9d1027d1477abb2bf34652621d603  2025-06-16T14:13:11+02:00   \n",
       "2  031d2f83b7c9d1027d1477abb2bf34652621d603  2025-06-16T14:13:11+02:00   \n",
       "3  031d2f83b7c9d1027d1477abb2bf34652621d603  2025-06-16T14:13:11+02:00   \n",
       "4  031d2f83b7c9d1027d1477abb2bf34652621d603  2025-06-16T14:13:11+02:00   \n",
       "\n",
       "                      file_path              qualified_name  \\\n",
       "0  sklearn/ensemble/_bagging.py           _generate_indices   \n",
       "1  sklearn/ensemble/_bagging.py   _generate_bagging_indices   \n",
       "2  sklearn/ensemble/_bagging.py     _consumes_sample_weight   \n",
       "3  sklearn/ensemble/_bagging.py  _parallel_build_estimators   \n",
       "4  sklearn/ensemble/_bagging.py     _parallel_predict_proba   \n",
       "\n",
       "                                           body_hash  start_line  end_line  \\\n",
       "0  7065b3bfb7be3c255c29833d49de1f82dad21b912b7f23...          54        64   \n",
       "1  d025744d1242de7f1e7eee0ce91f7d3ecc15e50e466df8...          67        98   \n",
       "2  59138ceee7de4a106dab80f8fac5ee86ad809763bea9f7...         101       107   \n",
       "3  9d770628874e2c7158754e7ef72cc78a1ff5f0bed3022d...         110       188   \n",
       "4  f32b843b1ef8017f584a32209d585d601b1fbf7cfd328b...         191       226   \n",
       "\n",
       "                                                code  \n",
       "0  def _generate_indices(random_state, bootstrap,...  \n",
       "1  def _generate_bagging_indices(\\n    random_sta...  \n",
       "2  def _consumes_sample_weight(estimator):\\n    i...  \n",
       "3  def _parallel_build_estimators(\\n    n_estimat...  \n",
       "4  def _parallel_predict_proba(\\n    estimators,\\...  "
      ]
     },
     "metadata": {},
     "output_type": "display_data"
    },
    {
     "data": {
      "text/html": [
       "<div>\n",
       "<style scoped>\n",
       "    .dataframe tbody tr th:only-of-type {\n",
       "        vertical-align: middle;\n",
       "    }\n",
       "\n",
       "    .dataframe tbody tr th {\n",
       "        vertical-align: top;\n",
       "    }\n",
       "\n",
       "    .dataframe thead th {\n",
       "        text-align: right;\n",
       "    }\n",
       "</style>\n",
       "<table border=\"1\" class=\"dataframe\">\n",
       "  <thead>\n",
       "    <tr style=\"text-align: right;\">\n",
       "      <th></th>\n",
       "      <th>source</th>\n",
       "      <th>target</th>\n",
       "      <th>commit_sha</th>\n",
       "      <th>authored_datetime</th>\n",
       "      <th>author_name</th>\n",
       "      <th>author_email</th>\n",
       "      <th>message</th>\n",
       "      <th>file_path</th>\n",
       "      <th>qualified_name</th>\n",
       "    </tr>\n",
       "  </thead>\n",
       "  <tbody>\n",
       "    <tr>\n",
       "      <th>0</th>\n",
       "      <td>17</td>\n",
       "      <td>18</td>\n",
       "      <td>1c5c8f03659d303e4df8fd08813c9fb35a0c0e35</td>\n",
       "      <td>2025-09-05T11:55:25+02:00</td>\n",
       "      <td>Adrin Jalali</td>\n",
       "      <td>adrin.jalali@gmail.com</td>\n",
       "      <td>MNT refactoring in routing _MetadataRequester ...</td>\n",
       "      <td>sklearn/ensemble/_bagging.py</td>\n",
       "      <td>BaseBagging.get_metadata_routing</td>\n",
       "    </tr>\n",
       "    <tr>\n",
       "      <th>1</th>\n",
       "      <td>98</td>\n",
       "      <td>99</td>\n",
       "      <td>0ca4ac2a26f2067f614db8fe024212342ebf71ba</td>\n",
       "      <td>2025-07-23T19:03:08+06:00</td>\n",
       "      <td>S. M. Mohiuddin Khan Shiam</td>\n",
       "      <td>147746955+mohiuddin-khan-shiam@users.noreply.g...</td>\n",
       "      <td>MNT Use float64 epsilon when clipping initial ...</td>\n",
       "      <td>sklearn/ensemble/_gb.py</td>\n",
       "      <td>compute_update</td>\n",
       "    </tr>\n",
       "    <tr>\n",
       "      <th>2</th>\n",
       "      <td>99</td>\n",
       "      <td>100</td>\n",
       "      <td>0ca4ac2a26f2067f614db8fe024212342ebf71ba</td>\n",
       "      <td>2025-07-23T19:03:08+06:00</td>\n",
       "      <td>S. M. Mohiuddin Khan Shiam</td>\n",
       "      <td>147746955+mohiuddin-khan-shiam@users.noreply.g...</td>\n",
       "      <td>MNT Use float64 epsilon when clipping initial ...</td>\n",
       "      <td>sklearn/ensemble/_gb.py</td>\n",
       "      <td>compute_update</td>\n",
       "    </tr>\n",
       "    <tr>\n",
       "      <th>3</th>\n",
       "      <td>100</td>\n",
       "      <td>101</td>\n",
       "      <td>0ca4ac2a26f2067f614db8fe024212342ebf71ba</td>\n",
       "      <td>2025-07-23T19:03:08+06:00</td>\n",
       "      <td>S. M. Mohiuddin Khan Shiam</td>\n",
       "      <td>147746955+mohiuddin-khan-shiam@users.noreply.g...</td>\n",
       "      <td>MNT Use float64 epsilon when clipping initial ...</td>\n",
       "      <td>sklearn/ensemble/_gb.py</td>\n",
       "      <td>compute_update</td>\n",
       "    </tr>\n",
       "    <tr>\n",
       "      <th>4</th>\n",
       "      <td>101</td>\n",
       "      <td>102</td>\n",
       "      <td>1fe659545c70d9f805c1c4097dd2fce9a6285a12</td>\n",
       "      <td>2025-07-29T15:42:22+02:00</td>\n",
       "      <td>Loïc Estève</td>\n",
       "      <td>loic.esteve@ymail.com</td>\n",
       "      <td>MNT Switch to absolute imports enforced by `ru...</td>\n",
       "      <td>sklearn/ensemble/_gb.py</td>\n",
       "      <td>compute_update</td>\n",
       "    </tr>\n",
       "  </tbody>\n",
       "</table>\n",
       "</div>"
      ],
      "text/plain": [
       "   source  target                                commit_sha  \\\n",
       "0      17      18  1c5c8f03659d303e4df8fd08813c9fb35a0c0e35   \n",
       "1      98      99  0ca4ac2a26f2067f614db8fe024212342ebf71ba   \n",
       "2      99     100  0ca4ac2a26f2067f614db8fe024212342ebf71ba   \n",
       "3     100     101  0ca4ac2a26f2067f614db8fe024212342ebf71ba   \n",
       "4     101     102  1fe659545c70d9f805c1c4097dd2fce9a6285a12   \n",
       "\n",
       "           authored_datetime                 author_name  \\\n",
       "0  2025-09-05T11:55:25+02:00                Adrin Jalali   \n",
       "1  2025-07-23T19:03:08+06:00  S. M. Mohiuddin Khan Shiam   \n",
       "2  2025-07-23T19:03:08+06:00  S. M. Mohiuddin Khan Shiam   \n",
       "3  2025-07-23T19:03:08+06:00  S. M. Mohiuddin Khan Shiam   \n",
       "4  2025-07-29T15:42:22+02:00                 Loïc Estève   \n",
       "\n",
       "                                        author_email  \\\n",
       "0                             adrin.jalali@gmail.com   \n",
       "1  147746955+mohiuddin-khan-shiam@users.noreply.g...   \n",
       "2  147746955+mohiuddin-khan-shiam@users.noreply.g...   \n",
       "3  147746955+mohiuddin-khan-shiam@users.noreply.g...   \n",
       "4                              loic.esteve@ymail.com   \n",
       "\n",
       "                                             message  \\\n",
       "0  MNT refactoring in routing _MetadataRequester ...   \n",
       "1  MNT Use float64 epsilon when clipping initial ...   \n",
       "2  MNT Use float64 epsilon when clipping initial ...   \n",
       "3  MNT Use float64 epsilon when clipping initial ...   \n",
       "4  MNT Switch to absolute imports enforced by `ru...   \n",
       "\n",
       "                      file_path                    qualified_name  \n",
       "0  sklearn/ensemble/_bagging.py  BaseBagging.get_metadata_routing  \n",
       "1       sklearn/ensemble/_gb.py                    compute_update  \n",
       "2       sklearn/ensemble/_gb.py                    compute_update  \n",
       "3       sklearn/ensemble/_gb.py                    compute_update  \n",
       "4       sklearn/ensemble/_gb.py                    compute_update  "
      ]
     },
     "metadata": {},
     "output_type": "display_data"
    }
   ],
   "source": [
    "display(cg_nodes.head(5))\n",
    "display(function_version_nodes.head(5))\n",
    "display(version_edges.head(5))"
   ]
  },
  {
   "cell_type": "code",
   "execution_count": 9,
   "id": "b4aa2d0b",
   "metadata": {},
   "outputs": [],
   "source": [
    "# 1) Egy CG-függvényre mutató élek száma\n",
    "if not fv_func_edges.empty:\n",
    "    assert fv_func_edges.groupby(\"target\").size().max() <= 1\n",
    "\n",
    "# 2) Valóban a legfrissebb verziók kerültek ki\n",
    "latest_by_symbol = (\n",
    "    function_version_nodes\n",
    "      .assign(_sort_key=function_version_nodes[\"authored_datetime\"].fillna(\"\") + function_version_nodes[\"commit_sha\"])\n",
    "      .sort_values(\"_sort_key\")\n",
    "      .groupby(\"symbol_id\")\n",
    "      .tail(1)[[\"symbol_id\",\"ID\"]]\n",
    "      .rename(columns={\"ID\":\"latest_id\"})\n",
    ")\n",
    "\n",
    "chk = fv_func_edges.merge(\n",
    "    function_version_nodes[[\"ID\",\"symbol_id\"]].rename(columns={\"ID\":\"source\"}), on=\"source\"\n",
    ").merge(latest_by_symbol, on=\"symbol_id\", how=\"left\")\n",
    "\n",
    "if not chk.empty:\n",
    "    assert (chk[\"source\"] == chk[\"latest_id\"]).all()\n",
    "\n",
    "# 3) A lánc valóban időrendben nő (régi -> új)\n",
    "v = version_edges.merge(\n",
    "    function_version_nodes[[\"ID\",\"authored_datetime\"]].rename(columns={\"ID\":\"source\",\"authored_datetime\":\"src_t\"}),\n",
    "    on=\"source\", how=\"left\"\n",
    ").merge(\n",
    "    function_version_nodes[[\"ID\",\"authored_datetime\"]].rename(columns={\"ID\":\"target\",\"authored_datetime\":\"tgt_t\"}),\n",
    "    on=\"target\", how=\"left\"\n",
    ")\n",
    "if not v.empty:\n",
    "    assert (v[\"src_t\"] <= v[\"tgt_t\"]).all()\n"
   ]
  },
  {
   "cell_type": "code",
   "execution_count": 10,
   "id": "1c84a9af",
   "metadata": {},
   "outputs": [
    {
     "name": "stdout",
     "output_type": "stream",
     "text": [
      "CG lefedettség: 569/752 = 75.7%\n"
     ]
    }
   ],
   "source": [
    "mapped_cg = fv_func_edges[\"target\"].nunique()\n",
    "total_cg  = cg_nodes.shape[0]\n",
    "print(f\"CG lefedettség: {mapped_cg}/{total_cg} = {mapped_cg/total_cg:.1%}\")\n"
   ]
  },
  {
   "cell_type": "code",
   "execution_count": 11,
   "id": "63b00f93",
   "metadata": {},
   "outputs": [
    {
     "name": "stdout",
     "output_type": "stream",
     "text": [
      "Példák történethosszokra:\n",
      " 0    1\n",
      "1    1\n",
      "2    1\n",
      "3    1\n",
      "4    1\n",
      "Name: source, dtype: int64\n"
     ]
    }
   ],
   "source": [
    "hist_len = version_edges[\"target\"].value_counts()  # minden targethez 1 bejövő él, kivéve a legelsőnél\n",
    "# a legutóbbi verziókat egészítsd fel 1-gyel:\n",
    "latest_ids = set(fv_func_edges[\"source\"])\n",
    "def length_for(ver_id):\n",
    "    # ver_id-ból visszafelé lépkedve számol\n",
    "    rev_in = version_edges.set_index(\"target\")[\"source\"]\n",
    "    cnt, cur = 1, ver_id\n",
    "    while cur in rev_in:\n",
    "        cur = rev_in[cur]\n",
    "        cnt += 1\n",
    "    return cnt\n",
    "sample = fv_func_edges[\"source\"].head(5).apply(length_for)\n",
    "print(\"Példák történethosszokra:\\n\", sample)\n"
   ]
  },
  {
   "cell_type": "code",
   "execution_count": 12,
   "id": "e3fb6bb1",
   "metadata": {},
   "outputs": [
    {
     "name": "stdout",
     "output_type": "stream",
     "text": [
      "Verziólánc (latest -> oldest): [1]\n"
     ]
    },
    {
     "data": {
      "text/html": [
       "<div>\n",
       "<style scoped>\n",
       "    .dataframe tbody tr th:only-of-type {\n",
       "        vertical-align: middle;\n",
       "    }\n",
       "\n",
       "    .dataframe tbody tr th {\n",
       "        vertical-align: top;\n",
       "    }\n",
       "\n",
       "    .dataframe thead th {\n",
       "        text-align: right;\n",
       "    }\n",
       "</style>\n",
       "<table border=\"1\" class=\"dataframe\">\n",
       "  <thead>\n",
       "    <tr style=\"text-align: right;\">\n",
       "      <th></th>\n",
       "      <th>ID</th>\n",
       "      <th>commit_sha</th>\n",
       "      <th>authored_datetime</th>\n",
       "      <th>body_hash</th>\n",
       "      <th>file_path</th>\n",
       "      <th>qualified_name</th>\n",
       "    </tr>\n",
       "  </thead>\n",
       "  <tbody>\n",
       "    <tr>\n",
       "      <th>0</th>\n",
       "      <td>1</td>\n",
       "      <td>031d2f83b7c9d1027d1477abb2bf34652621d603</td>\n",
       "      <td>2025-06-16T14:13:11+02:00</td>\n",
       "      <td>7065b3bfb7be3c255c29833d49de1f82dad21b912b7f23...</td>\n",
       "      <td>sklearn/ensemble/_bagging.py</td>\n",
       "      <td>_generate_indices</td>\n",
       "    </tr>\n",
       "  </tbody>\n",
       "</table>\n",
       "</div>"
      ],
      "text/plain": [
       "   ID                                commit_sha          authored_datetime  \\\n",
       "0   1  031d2f83b7c9d1027d1477abb2bf34652621d603  2025-06-16T14:13:11+02:00   \n",
       "\n",
       "                                           body_hash  \\\n",
       "0  7065b3bfb7be3c255c29833d49de1f82dad21b912b7f23...   \n",
       "\n",
       "                      file_path     qualified_name  \n",
       "0  sklearn/ensemble/_bagging.py  _generate_indices  "
      ]
     },
     "metadata": {},
     "output_type": "display_data"
    }
   ],
   "source": [
    "# Válassz egy CG-node-ot:\n",
    "cg = cg_nodes.iloc[0]  # vagy szűrés név alapján\n",
    "cg_id = int(cg[\"func_id\"] if \"func_id\" in cg else cg[\"ID\"])\n",
    "\n",
    "# Legfrissebb verzió ID:\n",
    "latest = int(fv_func_edges.loc[fv_func_edges[\"target\"]==cg_id, \"source\"].iloc[0])\n",
    "\n",
    "# Járd vissza a történetet (latest -> ... -> oldest), és nézd meg a commit_sha-kat:\n",
    "rev_in = version_edges.set_index(\"target\")[\"source\"]\n",
    "hist = [latest]\n",
    "while hist[-1] in rev_in:\n",
    "    hist.append(int(rev_in[hist[-1]]))\n",
    "print(\"Verziólánc (latest -> oldest):\", hist)\n",
    "\n",
    "display(function_version_nodes[function_version_nodes[\"ID\"].isin(hist)][\n",
    "    [\"ID\",\"commit_sha\",\"authored_datetime\",\"body_hash\",\"file_path\",\"qualified_name\"]\n",
    "].sort_values(\"ID\", ascending=False))\n"
   ]
  },
  {
   "cell_type": "code",
   "execution_count": null,
   "id": "1bec280b",
   "metadata": {},
   "outputs": [],
   "source": []
  }
 ],
 "metadata": {
  "kernelspec": {
   "display_name": ".venv (3.11.9)",
   "language": "python",
   "name": "python3"
  },
  "language_info": {
   "codemirror_mode": {
    "name": "ipython",
    "version": 3
   },
   "file_extension": ".py",
   "mimetype": "text/x-python",
   "name": "python",
   "nbconvert_exporter": "python",
   "pygments_lexer": "ipython3",
   "version": "3.11.9"
  }
 },
 "nbformat": 4,
 "nbformat_minor": 5
}
