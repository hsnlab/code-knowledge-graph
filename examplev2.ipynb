{
 "cells": [
  {
   "cell_type": "code",
   "execution_count": 1,
   "id": "d46d70a9",
   "metadata": {},
   "outputs": [
    {
     "name": "stderr",
     "output_type": "stream",
     "text": [
      "c:\\Szakdolgozat\\code-knowledge-graph\\venv\\Lib\\site-packages\\tqdm\\auto.py:21: TqdmWarning: IProgress not found. Please update jupyter and ipywidgets. See https://ipywidgets.readthedocs.io/en/stable/user_install.html\n",
      "  from .autonotebook import tqdm as notebook_tqdm\n"
     ]
    },
    {
     "name": "stdout",
     "output_type": "stream",
     "text": [
      "Imports rendben. PROJECT_ROOT = C:\\Szakdolgozat\\code-knowledge-graph\n"
     ]
    }
   ],
   "source": [
    "\n",
    "# -- Importok és sys.path --\n",
    "import os, sys\n",
    "from pathlib import Path\n",
    "import pandas as pd\n",
    "\n",
    "# Ha az ipynb a projekt gyökerében van (ahol a 'package/' mappa is), akkor ez elég:\n",
    "PROJECT_ROOT = Path.cwd()\n",
    "\n",
    "# Biztosítsuk, hogy a 'package' importálható\n",
    "if str(PROJECT_ROOT) not in sys.path:\n",
    "    sys.path.append(str(PROJECT_ROOT))\n",
    "\n",
    "from package import HierarchicalGraphBuilder, FunctionVersioning\n",
    "\n",
    "print(\"Imports rendben. PROJECT_ROOT =\", PROJECT_ROOT.resolve())\n"
   ]
  },
  {
   "cell_type": "code",
   "execution_count": 2,
   "id": "b36561f7",
   "metadata": {},
   "outputs": [
    {
     "name": "stdout",
     "output_type": "stream",
     "text": [
      "REPO_ROOT     = C:\\Szakdolgozat\\code-knowledge-graph\\repos\\scikit-learn\n",
      "ANALYSIS_PATH = C:\\Szakdolgozat\\code-knowledge-graph\\repos\\scikit-learn\\sklearn\\ensemble\n"
     ]
    }
   ],
   "source": [
    "\n",
    "# -- Útvonalak beállítása --\n",
    "# A klónozott scikit-learn repo:\n",
    "REPO_ROOT = PROJECT_ROOT / \"repos\" / \"scikit-learn\"\n",
    "\n",
    "# Csak az 'sklearn/ensemble' mappa elemzése CFG-hez:\n",
    "ANALYSIS_PATH = REPO_ROOT / \"sklearn\" / \"ensemble\"\n",
    "\n",
    "# Ellenőrzések\n",
    "assert REPO_ROOT.is_dir(), f\"Nem találom a repo gyökerét: {REPO_ROOT}\"\n",
    "assert ANALYSIS_PATH.is_dir(), f\"Nem találom az elemzendő mappát: {ANALYSIS_PATH}\"\n",
    "\n",
    "print(\"REPO_ROOT     =\", REPO_ROOT.resolve())\n",
    "print(\"ANALYSIS_PATH =\", ANALYSIS_PATH.resolve())\n"
   ]
  },
  {
   "cell_type": "code",
   "execution_count": 3,
   "id": "e829ab1d",
   "metadata": {},
   "outputs": [
    {
     "name": "stdout",
     "output_type": "stream",
     "text": [
      "True\n"
     ]
    }
   ],
   "source": [
    "import os\n",
    "print(os.path.isdir(os.path.join(str(REPO_ROOT), \".git\")))"
   ]
  },
  {
   "cell_type": "code",
   "execution_count": 4,
   "id": "b76d63e4",
   "metadata": {},
   "outputs": [
    {
     "name": "stdout",
     "output_type": "stream",
     "text": [
      "Building CG...\n",
      "Creating subgraphs for each function...\n"
     ]
    },
    {
     "name": "stderr",
     "output_type": "stream",
     "text": [
      "5it [00:00, 42.12it/s]"
     ]
    },
    {
     "name": "stdout",
     "output_type": "stream",
     "text": [
      "Error creating CFG. Returning empty DataFrames.\n",
      "Error creating CFG. Returning empty DataFrames.\n",
      "Error creating CFG. Returning empty DataFrames.\n",
      "Error creating CFG. Returning empty DataFrames.\n",
      "Error creating CFG. Returning empty DataFrames.\n",
      "Error creating CFG. Returning empty DataFrames.\n",
      "Error creating CFG. Returning empty DataFrames.\n",
      "Error creating CFG. Returning empty DataFrames.\n",
      "Error creating CFG. Returning empty DataFrames.\n",
      "Error creating CFG. Returning empty DataFrames.\n",
      "Error creating CFG. Returning empty DataFrames.\n"
     ]
    },
    {
     "name": "stderr",
     "output_type": "stream",
     "text": [
      "11it [00:00, 50.07it/s]"
     ]
    },
    {
     "name": "stdout",
     "output_type": "stream",
     "text": [
      "Error creating CFG. Returning empty DataFrames.\n",
      "Error creating CFG. Returning empty DataFrames.\n",
      "Error creating CFG. Returning empty DataFrames.\n",
      "Error creating CFG. Returning empty DataFrames.\n",
      "Error creating CFG. Returning empty DataFrames.\n",
      "Error creating CFG. Returning empty DataFrames.\n"
     ]
    },
    {
     "name": "stderr",
     "output_type": "stream",
     "text": [
      "24it [00:00, 49.68it/s]"
     ]
    },
    {
     "name": "stdout",
     "output_type": "stream",
     "text": [
      "Error creating CFG. Returning empty DataFrames.\n",
      "Error creating CFG. Returning empty DataFrames.\n",
      "Error creating CFG. Returning empty DataFrames.\n",
      "Error creating CFG. Returning empty DataFrames.\n",
      "WTF is this thing, build it in?? <class 'ast.Compare'>\n",
      "Error creating CFG. Returning empty DataFrames.\n",
      "Error creating CFG. Returning empty DataFrames.\n",
      "Error creating CFG. Returning empty DataFrames.\n",
      "Error creating CFG. Returning empty DataFrames.\n",
      "Error creating CFG. Returning empty DataFrames.\n",
      "Error creating CFG. Returning empty DataFrames.\n",
      "Error creating CFG. Returning empty DataFrames.\n"
     ]
    },
    {
     "name": "stderr",
     "output_type": "stream",
     "text": [
      "30it [00:00, 49.24it/s]"
     ]
    },
    {
     "name": "stdout",
     "output_type": "stream",
     "text": [
      "Error creating CFG. Returning empty DataFrames.\n",
      "WTF is this thing, build it in?? <class 'ast.Compare'>\n",
      "Error creating CFG. Returning empty DataFrames.\n",
      "Error creating CFG. Returning empty DataFrames.\n",
      "Error creating CFG. Returning empty DataFrames.\n",
      "Error creating CFG. Returning empty DataFrames.\n",
      "Error creating CFG. Returning empty DataFrames.\n",
      "Error creating CFG. Returning empty DataFrames.\n"
     ]
    },
    {
     "name": "stderr",
     "output_type": "stream",
     "text": [
      "36it [00:00, 51.56it/s]"
     ]
    },
    {
     "name": "stdout",
     "output_type": "stream",
     "text": [
      "Error creating CFG. Returning empty DataFrames.\n",
      "Error creating CFG. Returning empty DataFrames.\n",
      "Error creating CFG. Returning empty DataFrames.\n",
      "Error creating CFG. Returning empty DataFrames.\n",
      "Error creating CFG. Returning empty DataFrames.\n",
      "Error creating CFG. Returning empty DataFrames.\n"
     ]
    },
    {
     "name": "stderr",
     "output_type": "stream",
     "text": [
      "42it [00:00, 53.68it/s]"
     ]
    },
    {
     "name": "stdout",
     "output_type": "stream",
     "text": [
      "Error creating CFG. Returning empty DataFrames.\n",
      "Error creating CFG. Returning empty DataFrames.\n",
      "Error creating CFG. Returning empty DataFrames.\n",
      "Error creating CFG. Returning empty DataFrames.\n",
      "Error creating CFG. Returning empty DataFrames.\n"
     ]
    },
    {
     "name": "stderr",
     "output_type": "stream",
     "text": [
      "48it [00:00, 49.52it/s]"
     ]
    },
    {
     "name": "stdout",
     "output_type": "stream",
     "text": [
      "Error creating CFG. Returning empty DataFrames.\n",
      "Error creating CFG. Returning empty DataFrames.\n",
      "Error creating CFG. Returning empty DataFrames.\n"
     ]
    },
    {
     "name": "stderr",
     "output_type": "stream",
     "text": [
      "54it [00:01, 22.97it/s]"
     ]
    },
    {
     "name": "stdout",
     "output_type": "stream",
     "text": [
      "Error creating CFG. Returning empty DataFrames.\n",
      "Error creating CFG. Returning empty DataFrames.\n",
      "Error creating CFG. Returning empty DataFrames.\n",
      "Error creating CFG. Returning empty DataFrames.\n",
      "Error creating CFG. Returning empty DataFrames.\n",
      "Error creating CFG. Returning empty DataFrames.\n",
      "WTF is this thing, build it in?? <class 'ast.Compare'>\n",
      "Error creating CFG. Returning empty DataFrames.\n",
      "Error creating CFG. Returning empty DataFrames.\n",
      "Error creating CFG. Returning empty DataFrames.\n"
     ]
    },
    {
     "name": "stderr",
     "output_type": "stream",
     "text": [
      "65it [00:01, 31.94it/s]"
     ]
    },
    {
     "name": "stdout",
     "output_type": "stream",
     "text": [
      "Error creating CFG. Returning empty DataFrames.\n",
      "Error creating CFG. Returning empty DataFrames.\n",
      "Error creating CFG. Returning empty DataFrames.\n",
      "Error creating CFG. Returning empty DataFrames.\n",
      "Error creating CFG. Returning empty DataFrames.\n",
      "Error creating CFG. Returning empty DataFrames.\n",
      "Error creating CFG. Returning empty DataFrames.\n",
      "Error creating CFG. Returning empty DataFrames.\n",
      "Error creating CFG. Returning empty DataFrames.\n",
      "Error creating CFG. Returning empty DataFrames.\n",
      "Error creating CFG. Returning empty DataFrames.\n",
      "Error creating CFG. Returning empty DataFrames.\n"
     ]
    },
    {
     "name": "stderr",
     "output_type": "stream",
     "text": [
      "76it [00:01, 38.75it/s]"
     ]
    },
    {
     "name": "stdout",
     "output_type": "stream",
     "text": [
      "Error creating CFG. Returning empty DataFrames.\n",
      "Error creating CFG. Returning empty DataFrames.\n",
      "Error creating CFG. Returning empty DataFrames.\n",
      "Error creating CFG. Returning empty DataFrames.\n",
      "Error creating CFG. Returning empty DataFrames.\n",
      "Error creating CFG. Returning empty DataFrames.\n",
      "Error creating CFG. Returning empty DataFrames.\n",
      "Error creating CFG. Returning empty DataFrames.\n",
      "Error creating CFG. Returning empty DataFrames.\n",
      "Error creating CFG. Returning empty DataFrames.\n",
      "Error creating CFG. Returning empty DataFrames.\n"
     ]
    },
    {
     "name": "stderr",
     "output_type": "stream",
     "text": [
      "87it [00:02, 44.28it/s]"
     ]
    },
    {
     "name": "stdout",
     "output_type": "stream",
     "text": [
      "Error creating CFG. Returning empty DataFrames.\n",
      "Error creating CFG. Returning empty DataFrames.\n",
      "Error creating CFG. Returning empty DataFrames.\n",
      "Error creating CFG. Returning empty DataFrames.\n",
      "Error creating CFG. Returning empty DataFrames.\n",
      "Error creating CFG. Returning empty DataFrames.\n",
      "Error creating CFG. Returning empty DataFrames.\n",
      "Error creating CFG. Returning empty DataFrames.\n",
      "Error creating CFG. Returning empty DataFrames.\n",
      "Error creating CFG. Returning empty DataFrames.\n",
      "Error creating CFG. Returning empty DataFrames.\n"
     ]
    },
    {
     "name": "stderr",
     "output_type": "stream",
     "text": [
      "98it [00:02, 47.76it/s]"
     ]
    },
    {
     "name": "stdout",
     "output_type": "stream",
     "text": [
      "Error creating CFG. Returning empty DataFrames.\n",
      "Error creating CFG. Returning empty DataFrames.\n",
      "Error creating CFG. Returning empty DataFrames.\n",
      "Error creating CFG. Returning empty DataFrames.\n",
      "Error creating CFG. Returning empty DataFrames.\n",
      "Error creating CFG. Returning empty DataFrames.\n",
      "Error creating CFG. Returning empty DataFrames.\n",
      "Error creating CFG. Returning empty DataFrames.\n",
      "Error creating CFG. Returning empty DataFrames.\n",
      "Error creating CFG. Returning empty DataFrames.\n"
     ]
    },
    {
     "name": "stderr",
     "output_type": "stream",
     "text": [
      "110it [00:02, 48.19it/s]"
     ]
    },
    {
     "name": "stdout",
     "output_type": "stream",
     "text": [
      "Error creating CFG. Returning empty DataFrames.\n",
      "Error creating CFG. Returning empty DataFrames.\n",
      "Error creating CFG. Returning empty DataFrames.\n",
      "Error creating CFG. Returning empty DataFrames.\n",
      "Error creating CFG. Returning empty DataFrames.\n",
      "Error creating CFG. Returning empty DataFrames.\n",
      "Error creating CFG. Returning empty DataFrames.\n",
      "Error creating CFG. Returning empty DataFrames.\n",
      "Error creating CFG. Returning empty DataFrames.\n"
     ]
    },
    {
     "name": "stderr",
     "output_type": "stream",
     "text": [
      "115it [00:02, 45.05it/s]"
     ]
    },
    {
     "name": "stdout",
     "output_type": "stream",
     "text": [
      "Error creating CFG. Returning empty DataFrames.\n",
      "Error creating CFG. Returning empty DataFrames.\n",
      "Error creating CFG. Returning empty DataFrames.\n",
      "Error creating CFG. Returning empty DataFrames.\n",
      "Error creating CFG. Returning empty DataFrames.\n",
      "Error creating CFG. Returning empty DataFrames.\n",
      "Error creating CFG. Returning empty DataFrames.\n",
      "Error creating CFG. Returning empty DataFrames.\n",
      "Error creating CFG. Returning empty DataFrames.\n",
      "Error creating CFG. Returning empty DataFrames.\n"
     ]
    },
    {
     "name": "stderr",
     "output_type": "stream",
     "text": [
      "126it [00:03, 42.87it/s]"
     ]
    },
    {
     "name": "stdout",
     "output_type": "stream",
     "text": [
      "Error creating CFG. Returning empty DataFrames.\n",
      "Error creating CFG. Returning empty DataFrames.\n",
      "Error creating CFG. Returning empty DataFrames.\n",
      "WTF is this thing, build it in?? <class 'ast.Compare'>\n",
      "Error creating CFG. Returning empty DataFrames.\n",
      "WTF is this thing, build it in?? <class 'ast.Compare'>\n",
      "Error creating CFG. Returning empty DataFrames.\n",
      "Error creating CFG. Returning empty DataFrames.\n",
      "Error creating CFG. Returning empty DataFrames.\n",
      "Error creating CFG. Returning empty DataFrames.\n",
      "Error creating CFG. Returning empty DataFrames.\n",
      "Error creating CFG. Returning empty DataFrames.\n",
      "Error creating CFG. Returning empty DataFrames.\n"
     ]
    },
    {
     "name": "stderr",
     "output_type": "stream",
     "text": [
      "138it [00:03, 49.22it/s]"
     ]
    },
    {
     "name": "stdout",
     "output_type": "stream",
     "text": [
      "Error creating CFG. Returning empty DataFrames.\n",
      "Error creating CFG. Returning empty DataFrames.\n",
      "Error creating CFG. Returning empty DataFrames.\n",
      "Error creating CFG. Returning empty DataFrames.\n",
      "Error creating CFG. Returning empty DataFrames.\n",
      "Error creating CFG. Returning empty DataFrames.\n",
      "Error creating CFG. Returning empty DataFrames.\n",
      "Error creating CFG. Returning empty DataFrames.\n",
      "Error creating CFG. Returning empty DataFrames.\n",
      "Error creating CFG. Returning empty DataFrames.\n",
      "Error creating CFG. Returning empty DataFrames.\n"
     ]
    },
    {
     "name": "stderr",
     "output_type": "stream",
     "text": [
      "150it [00:03, 49.19it/s]"
     ]
    },
    {
     "name": "stdout",
     "output_type": "stream",
     "text": [
      "Error creating CFG. Returning empty DataFrames.\n",
      "Error creating CFG. Returning empty DataFrames.\n",
      "Error creating CFG. Returning empty DataFrames.\n",
      "Error creating CFG. Returning empty DataFrames.\n",
      "Error creating CFG. Returning empty DataFrames.\n",
      "Error creating CFG. Returning empty DataFrames.\n",
      "Error creating CFG. Returning empty DataFrames.\n",
      "Error creating CFG. Returning empty DataFrames.\n",
      "Error creating CFG. Returning empty DataFrames.\n",
      "Error creating CFG. Returning empty DataFrames.\n"
     ]
    },
    {
     "name": "stderr",
     "output_type": "stream",
     "text": [
      "160it [00:03, 48.09it/s]"
     ]
    },
    {
     "name": "stdout",
     "output_type": "stream",
     "text": [
      "Error creating CFG. Returning empty DataFrames.\n",
      "Error creating CFG. Returning empty DataFrames.\n",
      "Error creating CFG. Returning empty DataFrames.\n",
      "Error creating CFG. Returning empty DataFrames.\n",
      "Error creating CFG. Returning empty DataFrames.\n",
      "Error creating CFG. Returning empty DataFrames.\n",
      "Error creating CFG. Returning empty DataFrames.\n",
      "Error creating CFG. Returning empty DataFrames.\n",
      "Error creating CFG. Returning empty DataFrames.\n",
      "Error creating CFG. Returning empty DataFrames.\n",
      "Error creating CFG. Returning empty DataFrames.\n"
     ]
    },
    {
     "name": "stderr",
     "output_type": "stream",
     "text": [
      "172it [00:03, 50.52it/s]"
     ]
    },
    {
     "name": "stdout",
     "output_type": "stream",
     "text": [
      "Error creating CFG. Returning empty DataFrames.\n",
      "Error creating CFG. Returning empty DataFrames.\n",
      "Error creating CFG. Returning empty DataFrames.\n",
      "Error creating CFG. Returning empty DataFrames.\n",
      "Error creating CFG. Returning empty DataFrames.\n",
      "Error creating CFG. Returning empty DataFrames.\n",
      "Error creating CFG. Returning empty DataFrames.\n",
      "Error creating CFG. Returning empty DataFrames.\n",
      "Error creating CFG. Returning empty DataFrames.\n",
      "Error creating CFG. Returning empty DataFrames.\n",
      "Error creating CFG. Returning empty DataFrames.\n"
     ]
    },
    {
     "name": "stderr",
     "output_type": "stream",
     "text": [
      "184it [00:04, 52.27it/s]"
     ]
    },
    {
     "name": "stdout",
     "output_type": "stream",
     "text": [
      "Error creating CFG. Returning empty DataFrames.\n",
      "Error creating CFG. Returning empty DataFrames.\n",
      "Error creating CFG. Returning empty DataFrames.\n",
      "Error creating CFG. Returning empty DataFrames.\n",
      "Error creating CFG. Returning empty DataFrames.\n",
      "Error creating CFG. Returning empty DataFrames.\n",
      "Error creating CFG. Returning empty DataFrames.\n",
      "Error creating CFG. Returning empty DataFrames.\n",
      "Error creating CFG. Returning empty DataFrames.\n",
      "Error creating CFG. Returning empty DataFrames.\n"
     ]
    },
    {
     "name": "stderr",
     "output_type": "stream",
     "text": [
      "190it [00:04, 52.03it/s]"
     ]
    },
    {
     "name": "stdout",
     "output_type": "stream",
     "text": [
      "Error creating CFG. Returning empty DataFrames.\n",
      "Error creating CFG. Returning empty DataFrames.\n",
      "Error creating CFG. Returning empty DataFrames.\n",
      "Error creating CFG. Returning empty DataFrames.\n",
      "Error creating CFG. Returning empty DataFrames.\n",
      "Error creating CFG. Returning empty DataFrames.\n",
      "Error creating CFG. Returning empty DataFrames.\n",
      "Error creating CFG. Returning empty DataFrames.\n",
      "Error creating CFG. Returning empty DataFrames.\n",
      "Error creating CFG. Returning empty DataFrames.\n",
      "Error creating CFG. Returning empty DataFrames.\n"
     ]
    },
    {
     "name": "stderr",
     "output_type": "stream",
     "text": [
      "202it [00:04, 49.72it/s]"
     ]
    },
    {
     "name": "stdout",
     "output_type": "stream",
     "text": [
      "Error creating CFG. Returning empty DataFrames.\n",
      "Error creating CFG. Returning empty DataFrames.\n",
      "Error creating CFG. Returning empty DataFrames.\n",
      "Error creating CFG. Returning empty DataFrames.\n",
      "Error creating CFG. Returning empty DataFrames.\n",
      "Error creating CFG. Returning empty DataFrames.\n",
      "Error creating CFG. Returning empty DataFrames.\n",
      "Error creating CFG. Returning empty DataFrames.\n",
      "Error creating CFG. Returning empty DataFrames.\n",
      "Error creating CFG. Returning empty DataFrames.\n",
      "Error creating CFG. Returning empty DataFrames.\n"
     ]
    },
    {
     "name": "stderr",
     "output_type": "stream",
     "text": [
      "214it [00:04, 50.69it/s]"
     ]
    },
    {
     "name": "stdout",
     "output_type": "stream",
     "text": [
      "Error creating CFG. Returning empty DataFrames.\n",
      "Error creating CFG. Returning empty DataFrames.\n",
      "Error creating CFG. Returning empty DataFrames.\n",
      "Error creating CFG. Returning empty DataFrames.\n",
      "Error creating CFG. Returning empty DataFrames.\n",
      "Error creating CFG. Returning empty DataFrames.\n",
      "Error creating CFG. Returning empty DataFrames.\n",
      "Error creating CFG. Returning empty DataFrames.\n",
      "Error creating CFG. Returning empty DataFrames.\n",
      "Error creating CFG. Returning empty DataFrames.\n",
      "Error creating CFG. Returning empty DataFrames.\n"
     ]
    },
    {
     "name": "stderr",
     "output_type": "stream",
     "text": [
      "221it [00:04, 52.61it/s]"
     ]
    },
    {
     "name": "stdout",
     "output_type": "stream",
     "text": [
      "Error creating CFG. Returning empty DataFrames.\n",
      "WTF is this thing, build it in?? <class 'ast.BinOp'>\n",
      "Error creating CFG. Returning empty DataFrames.\n",
      "Error creating CFG. Returning empty DataFrames.\n",
      "Error creating CFG. Returning empty DataFrames.\n",
      "Error creating CFG. Returning empty DataFrames.\n",
      "Error creating CFG. Returning empty DataFrames.\n",
      "Error creating CFG. Returning empty DataFrames.\n"
     ]
    },
    {
     "name": "stderr",
     "output_type": "stream",
     "text": [
      "232it [00:05, 40.34it/s]"
     ]
    },
    {
     "name": "stdout",
     "output_type": "stream",
     "text": [
      "Error creating CFG. Returning empty DataFrames.\n",
      "Error creating CFG. Returning empty DataFrames.\n",
      "Error creating CFG. Returning empty DataFrames.\n",
      "Error creating CFG. Returning empty DataFrames.\n",
      "Error creating CFG. Returning empty DataFrames.\n",
      "Error creating CFG. Returning empty DataFrames.\n",
      "Error creating CFG. Returning empty DataFrames.\n",
      "Error creating CFG. Returning empty DataFrames.\n",
      "Error creating CFG. Returning empty DataFrames.\n"
     ]
    },
    {
     "name": "stderr",
     "output_type": "stream",
     "text": [
      "242it [00:05, 40.67it/s]"
     ]
    },
    {
     "name": "stdout",
     "output_type": "stream",
     "text": [
      "Error creating CFG. Returning empty DataFrames.\n",
      "Error creating CFG. Returning empty DataFrames.\n",
      "Error creating CFG. Returning empty DataFrames.\n",
      "Error creating CFG. Returning empty DataFrames.\n",
      "Error creating CFG. Returning empty DataFrames.\n",
      "Error creating CFG. Returning empty DataFrames.\n",
      "Error creating CFG. Returning empty DataFrames.\n",
      "Error creating CFG. Returning empty DataFrames.\n",
      "Error creating CFG. Returning empty DataFrames.\n",
      "Error creating CFG. Returning empty DataFrames.\n"
     ]
    },
    {
     "name": "stderr",
     "output_type": "stream",
     "text": [
      "247it [00:05, 39.94it/s]"
     ]
    },
    {
     "name": "stdout",
     "output_type": "stream",
     "text": [
      "Error creating CFG. Returning empty DataFrames.\n",
      "Error creating CFG. Returning empty DataFrames.\n",
      "Error creating CFG. Returning empty DataFrames.\n",
      "Error creating CFG. Returning empty DataFrames.\n",
      "Error creating CFG. Returning empty DataFrames.\n",
      "Error creating CFG. Returning empty DataFrames.\n",
      "Error creating CFG. Returning empty DataFrames.\n",
      "Error creating CFG. Returning empty DataFrames.\n"
     ]
    },
    {
     "name": "stderr",
     "output_type": "stream",
     "text": [
      "257it [00:05, 37.55it/s]"
     ]
    },
    {
     "name": "stdout",
     "output_type": "stream",
     "text": [
      "Error creating CFG. Returning empty DataFrames.\n",
      "Error creating CFG. Returning empty DataFrames.\n",
      "Error creating CFG. Returning empty DataFrames.\n",
      "Error creating CFG. Returning empty DataFrames.\n",
      "Error creating CFG. Returning empty DataFrames.\n",
      "Error creating CFG. Returning empty DataFrames.\n",
      "Error creating CFG. Returning empty DataFrames.\n",
      "Error creating CFG. Returning empty DataFrames.\n",
      "Error creating CFG. Returning empty DataFrames.\n"
     ]
    },
    {
     "name": "stderr",
     "output_type": "stream",
     "text": [
      "267it [00:06, 41.19it/s]"
     ]
    },
    {
     "name": "stdout",
     "output_type": "stream",
     "text": [
      "Error creating CFG. Returning empty DataFrames.\n",
      "Error creating CFG. Returning empty DataFrames.\n",
      "Error creating CFG. Returning empty DataFrames.\n",
      "Error creating CFG. Returning empty DataFrames.\n",
      "Error creating CFG. Returning empty DataFrames.\n",
      "Error creating CFG. Returning empty DataFrames.\n",
      "Error creating CFG. Returning empty DataFrames.\n",
      "Error creating CFG. Returning empty DataFrames.\n",
      "Error creating CFG. Returning empty DataFrames.\n",
      "Error creating CFG. Returning empty DataFrames.\n"
     ]
    },
    {
     "name": "stderr",
     "output_type": "stream",
     "text": [
      "277it [00:06, 41.85it/s]"
     ]
    },
    {
     "name": "stdout",
     "output_type": "stream",
     "text": [
      "Error creating CFG. Returning empty DataFrames.\n",
      "Error creating CFG. Returning empty DataFrames.\n",
      "Error creating CFG. Returning empty DataFrames.\n",
      "Error creating CFG. Returning empty DataFrames.\n",
      "Error creating CFG. Returning empty DataFrames.\n",
      "Error creating CFG. Returning empty DataFrames.\n",
      "Error creating CFG. Returning empty DataFrames.\n",
      "Error creating CFG. Returning empty DataFrames.\n",
      "Error creating CFG. Returning empty DataFrames.\n"
     ]
    },
    {
     "name": "stderr",
     "output_type": "stream",
     "text": [
      "282it [00:06, 41.52it/s]"
     ]
    },
    {
     "name": "stdout",
     "output_type": "stream",
     "text": [
      "Error creating CFG. Returning empty DataFrames.\n",
      "Error creating CFG. Returning empty DataFrames.\n",
      "Error creating CFG. Returning empty DataFrames.\n",
      "Error creating CFG. Returning empty DataFrames.\n",
      "Error creating CFG. Returning empty DataFrames.\n",
      "Error creating CFG. Returning empty DataFrames.\n"
     ]
    },
    {
     "name": "stderr",
     "output_type": "stream",
     "text": [
      "291it [00:06, 31.76it/s]"
     ]
    },
    {
     "name": "stdout",
     "output_type": "stream",
     "text": [
      "Error creating CFG. Returning empty DataFrames.\n",
      "Error creating CFG. Returning empty DataFrames.\n",
      "Error creating CFG. Returning empty DataFrames.\n",
      "Error creating CFG. Returning empty DataFrames.\n",
      "Error creating CFG. Returning empty DataFrames.\n",
      "Error creating CFG. Returning empty DataFrames.\n",
      "Error creating CFG. Returning empty DataFrames.\n"
     ]
    },
    {
     "name": "stderr",
     "output_type": "stream",
     "text": [
      "299it [00:07, 32.28it/s]"
     ]
    },
    {
     "name": "stdout",
     "output_type": "stream",
     "text": [
      "Error creating CFG. Returning empty DataFrames.\n",
      "Error creating CFG. Returning empty DataFrames.\n",
      "Error creating CFG. Returning empty DataFrames.\n",
      "Error creating CFG. Returning empty DataFrames.\n",
      "Error creating CFG. Returning empty DataFrames.\n",
      "Error creating CFG. Returning empty DataFrames.\n",
      "Error creating CFG. Returning empty DataFrames.\n"
     ]
    },
    {
     "name": "stderr",
     "output_type": "stream",
     "text": [
      "303it [00:07, 34.09it/s]"
     ]
    },
    {
     "name": "stdout",
     "output_type": "stream",
     "text": [
      "Error creating CFG. Returning empty DataFrames.\n",
      "Error creating CFG. Returning empty DataFrames.\n",
      "Error creating CFG. Returning empty DataFrames.\n",
      "Error creating CFG. Returning empty DataFrames.\n",
      "Error creating CFG. Returning empty DataFrames.\n"
     ]
    },
    {
     "name": "stderr",
     "output_type": "stream",
     "text": [
      "311it [00:07, 31.60it/s]"
     ]
    },
    {
     "name": "stdout",
     "output_type": "stream",
     "text": [
      "Error creating CFG. Returning empty DataFrames.\n",
      "Error creating CFG. Returning empty DataFrames.\n",
      "Error creating CFG. Returning empty DataFrames.\n",
      "Error creating CFG. Returning empty DataFrames.\n",
      "Error creating CFG. Returning empty DataFrames.\n",
      "Error creating CFG. Returning empty DataFrames.\n",
      "Error creating CFG. Returning empty DataFrames.\n"
     ]
    },
    {
     "name": "stderr",
     "output_type": "stream",
     "text": [
      "315it [00:07, 32.32it/s]"
     ]
    },
    {
     "name": "stdout",
     "output_type": "stream",
     "text": [
      "Error creating CFG. Returning empty DataFrames.\n",
      "Error creating CFG. Returning empty DataFrames.\n",
      "Error creating CFG. Returning empty DataFrames.\n",
      "Error creating CFG. Returning empty DataFrames.\n",
      "Error creating CFG. Returning empty DataFrames.\n",
      "Error creating CFG. Returning empty DataFrames.\n",
      "Error creating CFG. Returning empty DataFrames.\n"
     ]
    },
    {
     "name": "stderr",
     "output_type": "stream",
     "text": [
      "323it [00:07, 33.12it/s]"
     ]
    },
    {
     "name": "stdout",
     "output_type": "stream",
     "text": [
      "Error creating CFG. Returning empty DataFrames.\n",
      "Error creating CFG. Returning empty DataFrames.\n",
      "Error creating CFG. Returning empty DataFrames.\n",
      "Error creating CFG. Returning empty DataFrames.\n",
      "Error creating CFG. Returning empty DataFrames.\n",
      "Error creating CFG. Returning empty DataFrames.\n",
      "Error creating CFG. Returning empty DataFrames.\n",
      "Error creating CFG. Returning empty DataFrames.\n"
     ]
    },
    {
     "name": "stderr",
     "output_type": "stream",
     "text": [
      "332it [00:08, 35.36it/s]"
     ]
    },
    {
     "name": "stdout",
     "output_type": "stream",
     "text": [
      "Error creating CFG. Returning empty DataFrames.\n",
      "Error creating CFG. Returning empty DataFrames.\n",
      "Error creating CFG. Returning empty DataFrames.\n",
      "Error creating CFG. Returning empty DataFrames.\n",
      "Error creating CFG. Returning empty DataFrames.\n",
      "Error creating CFG. Returning empty DataFrames.\n",
      "Error creating CFG. Returning empty DataFrames.\n",
      "Error creating CFG. Returning empty DataFrames.\n",
      "Error creating CFG. Returning empty DataFrames.\n"
     ]
    },
    {
     "name": "stderr",
     "output_type": "stream",
     "text": [
      "342it [00:08, 39.78it/s]"
     ]
    },
    {
     "name": "stdout",
     "output_type": "stream",
     "text": [
      "Error creating CFG. Returning empty DataFrames.\n",
      "Error creating CFG. Returning empty DataFrames.\n",
      "Error creating CFG. Returning empty DataFrames.\n",
      "Error creating CFG. Returning empty DataFrames.\n",
      "Error creating CFG. Returning empty DataFrames.\n",
      "Error creating CFG. Returning empty DataFrames.\n",
      "Error creating CFG. Returning empty DataFrames.\n",
      "Error creating CFG. Returning empty DataFrames.\n",
      "Error creating CFG. Returning empty DataFrames.\n",
      "Error creating CFG. Returning empty DataFrames.\n"
     ]
    },
    {
     "name": "stderr",
     "output_type": "stream",
     "text": [
      "351it [00:08, 35.77it/s]"
     ]
    },
    {
     "name": "stdout",
     "output_type": "stream",
     "text": [
      "Error creating CFG. Returning empty DataFrames.\n",
      "Error creating CFG. Returning empty DataFrames.\n",
      "Error creating CFG. Returning empty DataFrames.\n",
      "Error creating CFG. Returning empty DataFrames.\n",
      "Error creating CFG. Returning empty DataFrames.\n",
      "Error creating CFG. Returning empty DataFrames.\n",
      "Error creating CFG. Returning empty DataFrames.\n",
      "Error creating CFG. Returning empty DataFrames.\n"
     ]
    },
    {
     "name": "stderr",
     "output_type": "stream",
     "text": [
      "356it [00:08, 38.39it/s]"
     ]
    },
    {
     "name": "stdout",
     "output_type": "stream",
     "text": [
      "Error creating CFG. Returning empty DataFrames.\n",
      "Error creating CFG. Returning empty DataFrames.\n",
      "Error creating CFG. Returning empty DataFrames.\n",
      "Error creating CFG. Returning empty DataFrames.\n",
      "Error creating CFG. Returning empty DataFrames.\n"
     ]
    },
    {
     "name": "stderr",
     "output_type": "stream",
     "text": [
      "365it [00:08, 33.83it/s]"
     ]
    },
    {
     "name": "stdout",
     "output_type": "stream",
     "text": [
      "Error creating CFG. Returning empty DataFrames.\n",
      "Error creating CFG. Returning empty DataFrames.\n",
      "Error creating CFG. Returning empty DataFrames.\n",
      "Error creating CFG. Returning empty DataFrames.\n",
      "Error creating CFG. Returning empty DataFrames.\n",
      "Error creating CFG. Returning empty DataFrames.\n",
      "Error creating CFG. Returning empty DataFrames.\n",
      "Error creating CFG. Returning empty DataFrames.\n"
     ]
    },
    {
     "name": "stderr",
     "output_type": "stream",
     "text": [
      "375it [00:09, 38.51it/s]"
     ]
    },
    {
     "name": "stdout",
     "output_type": "stream",
     "text": [
      "Error creating CFG. Returning empty DataFrames.\n",
      "WTF is this thing, build it in?? <class 'ast.BinOp'>\n",
      "Error creating CFG. Returning empty DataFrames.\n",
      "Error creating CFG. Returning empty DataFrames.\n",
      "Error creating CFG. Returning empty DataFrames.\n",
      "Error creating CFG. Returning empty DataFrames.\n",
      "Error creating CFG. Returning empty DataFrames.\n",
      "Error creating CFG. Returning empty DataFrames.\n",
      "Error creating CFG. Returning empty DataFrames.\n",
      "Error creating CFG. Returning empty DataFrames.\n",
      "Error creating CFG. Returning empty DataFrames.\n"
     ]
    },
    {
     "name": "stderr",
     "output_type": "stream",
     "text": [
      "385it [00:09, 41.94it/s]"
     ]
    },
    {
     "name": "stdout",
     "output_type": "stream",
     "text": [
      "Error creating CFG. Returning empty DataFrames.\n",
      "Error creating CFG. Returning empty DataFrames.\n",
      "Error creating CFG. Returning empty DataFrames.\n",
      "Error creating CFG. Returning empty DataFrames.\n",
      "Error creating CFG. Returning empty DataFrames.\n",
      "Error creating CFG. Returning empty DataFrames.\n",
      "Error creating CFG. Returning empty DataFrames.\n",
      "Error creating CFG. Returning empty DataFrames.\n",
      "Error creating CFG. Returning empty DataFrames.\n",
      "Error creating CFG. Returning empty DataFrames.\n"
     ]
    },
    {
     "name": "stderr",
     "output_type": "stream",
     "text": [
      "395it [00:09, 40.41it/s]"
     ]
    },
    {
     "name": "stdout",
     "output_type": "stream",
     "text": [
      "Error creating CFG. Returning empty DataFrames.\n",
      "Error creating CFG. Returning empty DataFrames.\n",
      "WTF is this thing, build it in?? <class 'ast.Compare'>\n",
      "Error creating CFG. Returning empty DataFrames.\n",
      "Error creating CFG. Returning empty DataFrames.\n",
      "Error creating CFG. Returning empty DataFrames.\n",
      "Error creating CFG. Returning empty DataFrames.\n",
      "Error creating CFG. Returning empty DataFrames.\n",
      "Error creating CFG. Returning empty DataFrames.\n"
     ]
    },
    {
     "name": "stderr",
     "output_type": "stream",
     "text": [
      "400it [00:09, 41.63it/s]"
     ]
    },
    {
     "name": "stdout",
     "output_type": "stream",
     "text": [
      "Error creating CFG. Returning empty DataFrames.\n",
      "Error creating CFG. Returning empty DataFrames.\n",
      "Error creating CFG. Returning empty DataFrames.\n",
      "Error creating CFG. Returning empty DataFrames.\n",
      "Error creating CFG. Returning empty DataFrames.\n",
      "Error creating CFG. Returning empty DataFrames.\n",
      "Error creating CFG. Returning empty DataFrames.\n",
      "Error creating CFG. Returning empty DataFrames.\n",
      "Error creating CFG. Returning empty DataFrames.\n"
     ]
    },
    {
     "name": "stderr",
     "output_type": "stream",
     "text": [
      "410it [00:10, 43.21it/s]"
     ]
    },
    {
     "name": "stdout",
     "output_type": "stream",
     "text": [
      "Error creating CFG. Returning empty DataFrames.\n",
      "Error creating CFG. Returning empty DataFrames.\n",
      "Error creating CFG. Returning empty DataFrames.\n",
      "Error creating CFG. Returning empty DataFrames.\n",
      "Error creating CFG. Returning empty DataFrames.\n",
      "Error creating CFG. Returning empty DataFrames.\n",
      "Error creating CFG. Returning empty DataFrames.\n",
      "Error creating CFG. Returning empty DataFrames.\n",
      "Error creating CFG. Returning empty DataFrames.\n",
      "Error creating CFG. Returning empty DataFrames.\n",
      "Error creating CFG. Returning empty DataFrames.\n",
      "Error creating CFG. Returning empty DataFrames.\n"
     ]
    },
    {
     "name": "stderr",
     "output_type": "stream",
     "text": [
      "421it [00:10, 44.99it/s]"
     ]
    },
    {
     "name": "stdout",
     "output_type": "stream",
     "text": [
      "Error creating CFG. Returning empty DataFrames.\n",
      "Error creating CFG. Returning empty DataFrames.\n",
      "Error creating CFG. Returning empty DataFrames.\n",
      "Error creating CFG. Returning empty DataFrames.\n",
      "Error creating CFG. Returning empty DataFrames.\n",
      "Error creating CFG. Returning empty DataFrames.\n",
      "Error creating CFG. Returning empty DataFrames.\n",
      "Error creating CFG. Returning empty DataFrames.\n",
      "Error creating CFG. Returning empty DataFrames.\n",
      "Error creating CFG. Returning empty DataFrames.\n"
     ]
    },
    {
     "name": "stderr",
     "output_type": "stream",
     "text": [
      "431it [00:10, 45.34it/s]"
     ]
    },
    {
     "name": "stdout",
     "output_type": "stream",
     "text": [
      "Error creating CFG. Returning empty DataFrames.\n",
      "Error creating CFG. Returning empty DataFrames.\n",
      "Error creating CFG. Returning empty DataFrames.\n",
      "Error creating CFG. Returning empty DataFrames.\n",
      "Error creating CFG. Returning empty DataFrames.\n",
      "Error creating CFG. Returning empty DataFrames.\n",
      "Error creating CFG. Returning empty DataFrames.\n",
      "Error creating CFG. Returning empty DataFrames.\n",
      "Error creating CFG. Returning empty DataFrames.\n",
      "Error creating CFG. Returning empty DataFrames.\n"
     ]
    },
    {
     "name": "stderr",
     "output_type": "stream",
     "text": [
      "442it [00:10, 44.52it/s]"
     ]
    },
    {
     "name": "stdout",
     "output_type": "stream",
     "text": [
      "Error creating CFG. Returning empty DataFrames.\n",
      "Error creating CFG. Returning empty DataFrames.\n",
      "Error creating CFG. Returning empty DataFrames.\n",
      "WTF is this thing, build it in?? <class 'ast.Compare'>\n",
      "Error creating CFG. Returning empty DataFrames.\n",
      "Error creating CFG. Returning empty DataFrames.\n",
      "Error creating CFG. Returning empty DataFrames.\n",
      "Error creating CFG. Returning empty DataFrames.\n",
      "Error creating CFG. Returning empty DataFrames.\n",
      "Error creating CFG. Returning empty DataFrames.\n"
     ]
    },
    {
     "name": "stderr",
     "output_type": "stream",
     "text": [
      "447it [00:10, 42.47it/s]"
     ]
    },
    {
     "name": "stdout",
     "output_type": "stream",
     "text": [
      "Error creating CFG. Returning empty DataFrames.\n",
      "Error creating CFG. Returning empty DataFrames.\n",
      "Error creating CFG. Returning empty DataFrames.\n",
      "Error creating CFG. Returning empty DataFrames.\n",
      "Error creating CFG. Returning empty DataFrames.\n",
      "Error creating CFG. Returning empty DataFrames.\n"
     ]
    },
    {
     "name": "stderr",
     "output_type": "stream",
     "text": [
      "457it [00:11, 37.77it/s]"
     ]
    },
    {
     "name": "stdout",
     "output_type": "stream",
     "text": [
      "Error creating CFG. Returning empty DataFrames.\n",
      "Error creating CFG. Returning empty DataFrames.\n",
      "Error creating CFG. Returning empty DataFrames.\n",
      "Error creating CFG. Returning empty DataFrames.\n",
      "Error creating CFG. Returning empty DataFrames.\n",
      "Error creating CFG. Returning empty DataFrames.\n",
      "Error creating CFG. Returning empty DataFrames.\n",
      "Error creating CFG. Returning empty DataFrames.\n",
      "Error creating CFG. Returning empty DataFrames.\n",
      "Error creating CFG. Returning empty DataFrames.\n"
     ]
    },
    {
     "name": "stderr",
     "output_type": "stream",
     "text": [
      "463it [00:11, 41.37it/s]"
     ]
    },
    {
     "name": "stdout",
     "output_type": "stream",
     "text": [
      "Error creating CFG. Returning empty DataFrames.\n",
      "Error creating CFG. Returning empty DataFrames.\n",
      "Error creating CFG. Returning empty DataFrames.\n",
      "Error creating CFG. Returning empty DataFrames.\n",
      "Error creating CFG. Returning empty DataFrames.\n",
      "Error creating CFG. Returning empty DataFrames.\n",
      "Error creating CFG. Returning empty DataFrames.\n"
     ]
    },
    {
     "name": "stderr",
     "output_type": "stream",
     "text": [
      "472it [00:11, 36.41it/s]"
     ]
    },
    {
     "name": "stdout",
     "output_type": "stream",
     "text": [
      "Error creating CFG. Returning empty DataFrames.\n",
      "Error creating CFG. Returning empty DataFrames.\n",
      "Error creating CFG. Returning empty DataFrames.\n",
      "Error creating CFG. Returning empty DataFrames.\n",
      "Error creating CFG. Returning empty DataFrames.\n",
      "Error creating CFG. Returning empty DataFrames.\n",
      "Error creating CFG. Returning empty DataFrames.\n",
      "Error creating CFG. Returning empty DataFrames.\n",
      "Error creating CFG. Returning empty DataFrames.\n"
     ]
    },
    {
     "name": "stderr",
     "output_type": "stream",
     "text": [
      "481it [00:11, 34.58it/s]"
     ]
    },
    {
     "name": "stdout",
     "output_type": "stream",
     "text": [
      "Error creating CFG. Returning empty DataFrames.\n",
      "Error creating CFG. Returning empty DataFrames.\n",
      "Error creating CFG. Returning empty DataFrames.\n",
      "Error creating CFG. Returning empty DataFrames.\n",
      "Error creating CFG. Returning empty DataFrames.\n",
      "Error creating CFG. Returning empty DataFrames.\n"
     ]
    },
    {
     "name": "stderr",
     "output_type": "stream",
     "text": [
      "486it [00:11, 34.98it/s]"
     ]
    },
    {
     "name": "stdout",
     "output_type": "stream",
     "text": [
      "Error creating CFG. Returning empty DataFrames.\n",
      "Error creating CFG. Returning empty DataFrames.\n",
      "Error creating CFG. Returning empty DataFrames.\n",
      "Error creating CFG. Returning empty DataFrames.\n",
      "Error creating CFG. Returning empty DataFrames.\n",
      "Error creating CFG. Returning empty DataFrames.\n",
      "Error creating CFG. Returning empty DataFrames.\n",
      "Error creating CFG. Returning empty DataFrames.\n"
     ]
    },
    {
     "name": "stderr",
     "output_type": "stream",
     "text": [
      "495it [00:12, 36.17it/s]"
     ]
    },
    {
     "name": "stdout",
     "output_type": "stream",
     "text": [
      "Error creating CFG. Returning empty DataFrames.\n",
      "Error creating CFG. Returning empty DataFrames.\n",
      "Error creating CFG. Returning empty DataFrames.\n",
      "Error creating CFG. Returning empty DataFrames.\n",
      "Error creating CFG. Returning empty DataFrames.\n",
      "Error creating CFG. Returning empty DataFrames.\n",
      "Error creating CFG. Returning empty DataFrames.\n",
      "Error creating CFG. Returning empty DataFrames.\n"
     ]
    },
    {
     "name": "stderr",
     "output_type": "stream",
     "text": [
      "504it [00:12, 37.54it/s]"
     ]
    },
    {
     "name": "stdout",
     "output_type": "stream",
     "text": [
      "Error creating CFG. Returning empty DataFrames.\n",
      "Error creating CFG. Returning empty DataFrames.\n",
      "Error creating CFG. Returning empty DataFrames.\n",
      "Error creating CFG. Returning empty DataFrames.\n",
      "Error creating CFG. Returning empty DataFrames.\n",
      "Error creating CFG. Returning empty DataFrames.\n",
      "Error creating CFG. Returning empty DataFrames.\n",
      "Error creating CFG. Returning empty DataFrames.\n",
      "Error creating CFG. Returning empty DataFrames.\n"
     ]
    },
    {
     "name": "stderr",
     "output_type": "stream",
     "text": [
      "514it [00:12, 41.84it/s]"
     ]
    },
    {
     "name": "stdout",
     "output_type": "stream",
     "text": [
      "Error creating CFG. Returning empty DataFrames.\n",
      "Error creating CFG. Returning empty DataFrames.\n",
      "Error creating CFG. Returning empty DataFrames.\n",
      "Error creating CFG. Returning empty DataFrames.\n",
      "Error creating CFG. Returning empty DataFrames.\n",
      "WTF is this thing, build it in?? <class 'ast.Compare'>\n",
      "Error creating CFG. Returning empty DataFrames.\n",
      "Error creating CFG. Returning empty DataFrames.\n",
      "Error creating CFG. Returning empty DataFrames.\n",
      "Error creating CFG. Returning empty DataFrames.\n"
     ]
    },
    {
     "name": "stderr",
     "output_type": "stream",
     "text": [
      "519it [00:12, 40.81it/s]"
     ]
    },
    {
     "name": "stdout",
     "output_type": "stream",
     "text": [
      "Error creating CFG. Returning empty DataFrames.\n",
      "Error creating CFG. Returning empty DataFrames.\n",
      "Error creating CFG. Returning empty DataFrames.\n",
      "Error creating CFG. Returning empty DataFrames.\n",
      "Error creating CFG. Returning empty DataFrames.\n",
      "Error creating CFG. Returning empty DataFrames.\n",
      "Error creating CFG. Returning empty DataFrames.\n"
     ]
    },
    {
     "name": "stderr",
     "output_type": "stream",
     "text": [
      "534it [00:13, 41.08it/s]"
     ]
    },
    {
     "name": "stdout",
     "output_type": "stream",
     "text": [
      "Error creating CFG. Returning empty DataFrames.\n",
      "Error creating CFG. Returning empty DataFrames.\n",
      "Error creating CFG. Returning empty DataFrames.\n",
      "Error creating CFG. Returning empty DataFrames.\n",
      "Error creating CFG. Returning empty DataFrames.\n",
      "Error creating CFG. Returning empty DataFrames.\n",
      "Error creating CFG. Returning empty DataFrames.\n",
      "Error creating CFG. Returning empty DataFrames.\n",
      "Error creating CFG. Returning empty DataFrames.\n",
      "Error creating CFG. Returning empty DataFrames.\n"
     ]
    },
    {
     "name": "stderr",
     "output_type": "stream",
     "text": [
      "539it [00:13, 41.08it/s]"
     ]
    },
    {
     "name": "stdout",
     "output_type": "stream",
     "text": [
      "Error creating CFG. Returning empty DataFrames.\n",
      "Error creating CFG. Returning empty DataFrames.\n",
      "Error creating CFG. Returning empty DataFrames.\n",
      "Error creating CFG. Returning empty DataFrames.\n",
      "Error creating CFG. Returning empty DataFrames.\n",
      "Error creating CFG. Returning empty DataFrames.\n",
      "Error creating CFG. Returning empty DataFrames.\n",
      "Error creating CFG. Returning empty DataFrames.\n",
      "Error creating CFG. Returning empty DataFrames.\n",
      "Error creating CFG. Returning empty DataFrames.\n",
      "Error creating CFG. Returning empty DataFrames.\n"
     ]
    },
    {
     "name": "stderr",
     "output_type": "stream",
     "text": [
      "550it [00:13, 38.70it/s]"
     ]
    },
    {
     "name": "stdout",
     "output_type": "stream",
     "text": [
      "Error creating CFG. Returning empty DataFrames.\n",
      "Error creating CFG. Returning empty DataFrames.\n",
      "WTF is this thing, build it in?? <class 'ast.Compare'>\n",
      "Error creating CFG. Returning empty DataFrames.\n",
      "Error creating CFG. Returning empty DataFrames.\n",
      "Error creating CFG. Returning empty DataFrames.\n",
      "Error creating CFG. Returning empty DataFrames.\n",
      "Error creating CFG. Returning empty DataFrames.\n",
      "Error creating CFG. Returning empty DataFrames.\n",
      "Error creating CFG. Returning empty DataFrames.\n",
      "Error creating CFG. Returning empty DataFrames.\n"
     ]
    },
    {
     "name": "stderr",
     "output_type": "stream",
     "text": [
      "561it [00:13, 41.86it/s]"
     ]
    },
    {
     "name": "stdout",
     "output_type": "stream",
     "text": [
      "Error creating CFG. Returning empty DataFrames.\n",
      "Error creating CFG. Returning empty DataFrames.\n",
      "Error creating CFG. Returning empty DataFrames.\n",
      "Error creating CFG. Returning empty DataFrames.\n",
      "Error creating CFG. Returning empty DataFrames.\n",
      "Error creating CFG. Returning empty DataFrames.\n",
      "Error creating CFG. Returning empty DataFrames.\n",
      "Error creating CFG. Returning empty DataFrames.\n",
      "Error creating CFG. Returning empty DataFrames.\n",
      "Error creating CFG. Returning empty DataFrames.\n",
      "Error creating CFG. Returning empty DataFrames.\n",
      "Error creating CFG. Returning empty DataFrames.\n"
     ]
    },
    {
     "name": "stderr",
     "output_type": "stream",
     "text": [
      "573it [00:13, 46.89it/s]"
     ]
    },
    {
     "name": "stdout",
     "output_type": "stream",
     "text": [
      "Error creating CFG. Returning empty DataFrames.\n",
      "Error creating CFG. Returning empty DataFrames.\n",
      "Error creating CFG. Returning empty DataFrames.\n",
      "Error creating CFG. Returning empty DataFrames.\n",
      "Error creating CFG. Returning empty DataFrames.\n",
      "Error creating CFG. Returning empty DataFrames.\n",
      "Error creating CFG. Returning empty DataFrames.\n",
      "WTF is this thing, build it in?? <class 'ast.Compare'>\n",
      "Error creating CFG. Returning empty DataFrames.\n",
      "WTF is this thing, build it in?? <class 'ast.Compare'>\n",
      "Error creating CFG. Returning empty DataFrames.\n",
      "Error creating CFG. Returning empty DataFrames.\n",
      "Error creating CFG. Returning empty DataFrames.\n",
      "Error creating CFG. Returning empty DataFrames.\n"
     ]
    },
    {
     "name": "stderr",
     "output_type": "stream",
     "text": [
      "587it [00:14, 49.61it/s]"
     ]
    },
    {
     "name": "stdout",
     "output_type": "stream",
     "text": [
      "Error creating CFG. Returning empty DataFrames.\n",
      "Error creating CFG. Returning empty DataFrames.\n",
      "Error creating CFG. Returning empty DataFrames.\n",
      "Error creating CFG. Returning empty DataFrames.\n",
      "Error creating CFG. Returning empty DataFrames.\n",
      "Error creating CFG. Returning empty DataFrames.\n",
      "Error creating CFG. Returning empty DataFrames.\n",
      "Error creating CFG. Returning empty DataFrames.\n",
      "Error creating CFG. Returning empty DataFrames.\n",
      "Error creating CFG. Returning empty DataFrames.\n"
     ]
    },
    {
     "name": "stderr",
     "output_type": "stream",
     "text": [
      "593it [00:14, 43.28it/s]"
     ]
    },
    {
     "name": "stdout",
     "output_type": "stream",
     "text": [
      "Error creating CFG. Returning empty DataFrames.\n",
      "Error creating CFG. Returning empty DataFrames.\n",
      "Error creating CFG. Returning empty DataFrames.\n",
      "Error creating CFG. Returning empty DataFrames.\n",
      "Error creating CFG. Returning empty DataFrames.\n",
      "Error creating CFG. Returning empty DataFrames.\n",
      "Error creating CFG. Returning empty DataFrames.\n"
     ]
    },
    {
     "name": "stderr",
     "output_type": "stream",
     "text": [
      "603it [00:14, 40.27it/s]"
     ]
    },
    {
     "name": "stdout",
     "output_type": "stream",
     "text": [
      "Error creating CFG. Returning empty DataFrames.\n",
      "Error creating CFG. Returning empty DataFrames.\n",
      "Error creating CFG. Returning empty DataFrames.\n",
      "Error creating CFG. Returning empty DataFrames.\n",
      "Error creating CFG. Returning empty DataFrames.\n",
      "Error creating CFG. Returning empty DataFrames.\n",
      "Error creating CFG. Returning empty DataFrames.\n",
      "Error creating CFG. Returning empty DataFrames.\n"
     ]
    },
    {
     "name": "stderr",
     "output_type": "stream",
     "text": [
      "608it [00:14, 37.84it/s]"
     ]
    },
    {
     "name": "stdout",
     "output_type": "stream",
     "text": [
      "Error creating CFG. Returning empty DataFrames.\n",
      "Error creating CFG. Returning empty DataFrames.\n",
      "Error creating CFG. Returning empty DataFrames.\n",
      "Error creating CFG. Returning empty DataFrames.\n",
      "Error creating CFG. Returning empty DataFrames.\n",
      "Error creating CFG. Returning empty DataFrames.\n",
      "Error creating CFG. Returning empty DataFrames.\n"
     ]
    },
    {
     "name": "stderr",
     "output_type": "stream",
     "text": [
      "616it [00:15, 36.98it/s]"
     ]
    },
    {
     "name": "stdout",
     "output_type": "stream",
     "text": [
      "Error creating CFG. Returning empty DataFrames.\n",
      "Error creating CFG. Returning empty DataFrames.\n",
      "WTF is this thing, build it in?? <class 'ast.Compare'>\n",
      "Error creating CFG. Returning empty DataFrames.\n",
      "Error creating CFG. Returning empty DataFrames.\n",
      "Error creating CFG. Returning empty DataFrames.\n",
      "Error creating CFG. Returning empty DataFrames.\n",
      "Error creating CFG. Returning empty DataFrames.\n",
      "Error creating CFG. Returning empty DataFrames.\n"
     ]
    },
    {
     "name": "stderr",
     "output_type": "stream",
     "text": [
      "624it [00:15, 33.25it/s]"
     ]
    },
    {
     "name": "stdout",
     "output_type": "stream",
     "text": [
      "Error creating CFG. Returning empty DataFrames.\n",
      "Error creating CFG. Returning empty DataFrames.\n",
      "Error creating CFG. Returning empty DataFrames.\n",
      "Error creating CFG. Returning empty DataFrames.\n",
      "Error creating CFG. Returning empty DataFrames.\n",
      "Error creating CFG. Returning empty DataFrames.\n"
     ]
    },
    {
     "name": "stderr",
     "output_type": "stream",
     "text": [
      "628it [00:15, 31.38it/s]"
     ]
    },
    {
     "name": "stdout",
     "output_type": "stream",
     "text": [
      "Error creating CFG. Returning empty DataFrames.\n",
      "Error creating CFG. Returning empty DataFrames.\n",
      "Error creating CFG. Returning empty DataFrames.\n",
      "Error creating CFG. Returning empty DataFrames.\n",
      "Error creating CFG. Returning empty DataFrames.\n",
      "Error creating CFG. Returning empty DataFrames.\n",
      "Error creating CFG. Returning empty DataFrames.\n"
     ]
    },
    {
     "name": "stderr",
     "output_type": "stream",
     "text": [
      "636it [00:15, 30.44it/s]"
     ]
    },
    {
     "name": "stdout",
     "output_type": "stream",
     "text": [
      "Error creating CFG. Returning empty DataFrames.\n",
      "WTF is this thing, build it in?? <class 'ast.Compare'>\n",
      "Error creating CFG. Returning empty DataFrames.\n",
      "Error creating CFG. Returning empty DataFrames.\n",
      "Error creating CFG. Returning empty DataFrames.\n",
      "Error creating CFG. Returning empty DataFrames.\n",
      "Error creating CFG. Returning empty DataFrames.\n",
      "Error creating CFG. Returning empty DataFrames.\n",
      "Error creating CFG. Returning empty DataFrames.\n"
     ]
    },
    {
     "name": "stderr",
     "output_type": "stream",
     "text": [
      "640it [00:15, 31.58it/s]"
     ]
    },
    {
     "name": "stdout",
     "output_type": "stream",
     "text": [
      "Error creating CFG. Returning empty DataFrames.\n",
      "Error creating CFG. Returning empty DataFrames.\n",
      "Error creating CFG. Returning empty DataFrames.\n"
     ]
    },
    {
     "name": "stderr",
     "output_type": "stream",
     "text": [
      "648it [00:16, 27.77it/s]"
     ]
    },
    {
     "name": "stdout",
     "output_type": "stream",
     "text": [
      "Error creating CFG. Returning empty DataFrames.\n",
      "Error creating CFG. Returning empty DataFrames.\n",
      "Error creating CFG. Returning empty DataFrames.\n",
      "Error creating CFG. Returning empty DataFrames.\n",
      "Error creating CFG. Returning empty DataFrames.\n",
      "Error creating CFG. Returning empty DataFrames.\n",
      "Error creating CFG. Returning empty DataFrames.\n",
      "Error creating CFG. Returning empty DataFrames.\n"
     ]
    },
    {
     "name": "stderr",
     "output_type": "stream",
     "text": [
      "656it [00:16, 31.68it/s]"
     ]
    },
    {
     "name": "stdout",
     "output_type": "stream",
     "text": [
      "Error creating CFG. Returning empty DataFrames.\n",
      "Error creating CFG. Returning empty DataFrames.\n",
      "Error creating CFG. Returning empty DataFrames.\n",
      "Error creating CFG. Returning empty DataFrames.\n",
      "Error creating CFG. Returning empty DataFrames.\n",
      "Error creating CFG. Returning empty DataFrames.\n",
      "Error creating CFG. Returning empty DataFrames.\n",
      "Error creating CFG. Returning empty DataFrames.\n",
      "Error creating CFG. Returning empty DataFrames.\n"
     ]
    },
    {
     "name": "stderr",
     "output_type": "stream",
     "text": [
      "666it [00:16, 35.70it/s]"
     ]
    },
    {
     "name": "stdout",
     "output_type": "stream",
     "text": [
      "Error creating CFG. Returning empty DataFrames.\n",
      "Error creating CFG. Returning empty DataFrames.\n",
      "Error creating CFG. Returning empty DataFrames.\n",
      "Error creating CFG. Returning empty DataFrames.\n",
      "Error creating CFG. Returning empty DataFrames.\n",
      "Error creating CFG. Returning empty DataFrames.\n",
      "Error creating CFG. Returning empty DataFrames.\n",
      "Error creating CFG. Returning empty DataFrames.\n",
      "Error creating CFG. Returning empty DataFrames.\n"
     ]
    },
    {
     "name": "stderr",
     "output_type": "stream",
     "text": [
      "675it [00:16, 35.77it/s]"
     ]
    },
    {
     "name": "stdout",
     "output_type": "stream",
     "text": [
      "Error creating CFG. Returning empty DataFrames.\n",
      "Error creating CFG. Returning empty DataFrames.\n",
      "Error creating CFG. Returning empty DataFrames.\n",
      "Error creating CFG. Returning empty DataFrames.\n",
      "Error creating CFG. Returning empty DataFrames.\n",
      "Error creating CFG. Returning empty DataFrames.\n",
      "Error creating CFG. Returning empty DataFrames.\n"
     ]
    },
    {
     "name": "stderr",
     "output_type": "stream",
     "text": [
      "679it [00:17, 35.36it/s]"
     ]
    },
    {
     "name": "stdout",
     "output_type": "stream",
     "text": [
      "Error creating CFG. Returning empty DataFrames.\n",
      "Error creating CFG. Returning empty DataFrames.\n",
      "Error creating CFG. Returning empty DataFrames.\n",
      "Error creating CFG. Returning empty DataFrames.\n",
      "Error creating CFG. Returning empty DataFrames.\n",
      "Error creating CFG. Returning empty DataFrames.\n"
     ]
    },
    {
     "name": "stderr",
     "output_type": "stream",
     "text": [
      "687it [00:17, 32.50it/s]"
     ]
    },
    {
     "name": "stdout",
     "output_type": "stream",
     "text": [
      "Error creating CFG. Returning empty DataFrames.\n",
      "Error creating CFG. Returning empty DataFrames.\n",
      "Error creating CFG. Returning empty DataFrames.\n",
      "Error creating CFG. Returning empty DataFrames.\n",
      "Error creating CFG. Returning empty DataFrames.\n",
      "Error creating CFG. Returning empty DataFrames.\n",
      "Error creating CFG. Returning empty DataFrames.\n",
      "Error creating CFG. Returning empty DataFrames.\n"
     ]
    },
    {
     "name": "stderr",
     "output_type": "stream",
     "text": [
      "695it [00:17, 33.96it/s]"
     ]
    },
    {
     "name": "stdout",
     "output_type": "stream",
     "text": [
      "Error creating CFG. Returning empty DataFrames.\n",
      "Error creating CFG. Returning empty DataFrames.\n",
      "Error creating CFG. Returning empty DataFrames.\n",
      "Error creating CFG. Returning empty DataFrames.\n",
      "Error creating CFG. Returning empty DataFrames.\n",
      "Error creating CFG. Returning empty DataFrames.\n",
      "Error creating CFG. Returning empty DataFrames.\n",
      "Error creating CFG. Returning empty DataFrames.\n"
     ]
    },
    {
     "name": "stderr",
     "output_type": "stream",
     "text": [
      "699it [00:17, 35.29it/s]"
     ]
    },
    {
     "name": "stdout",
     "output_type": "stream",
     "text": [
      "Error creating CFG. Returning empty DataFrames.\n",
      "Error creating CFG. Returning empty DataFrames.\n",
      "Error creating CFG. Returning empty DataFrames.\n"
     ]
    },
    {
     "name": "stderr",
     "output_type": "stream",
     "text": [
      "706it [00:18, 25.64it/s]"
     ]
    },
    {
     "name": "stdout",
     "output_type": "stream",
     "text": [
      "Error creating CFG. Returning empty DataFrames.\n",
      "Error creating CFG. Returning empty DataFrames.\n",
      "Error creating CFG. Returning empty DataFrames.\n",
      "Error creating CFG. Returning empty DataFrames.\n",
      "Error creating CFG. Returning empty DataFrames.\n",
      "Error creating CFG. Returning empty DataFrames.\n",
      "Error creating CFG. Returning empty DataFrames.\n"
     ]
    },
    {
     "name": "stderr",
     "output_type": "stream",
     "text": [
      "710it [00:18, 26.97it/s]"
     ]
    },
    {
     "name": "stdout",
     "output_type": "stream",
     "text": [
      "Error creating CFG. Returning empty DataFrames.\n",
      "Error creating CFG. Returning empty DataFrames.\n",
      "WTF is this thing, build it in?? <class 'ast.BinOp'>\n",
      "Error creating CFG. Returning empty DataFrames.\n",
      "Error creating CFG. Returning empty DataFrames.\n",
      "Error creating CFG. Returning empty DataFrames.\n",
      "Error creating CFG. Returning empty DataFrames.\n"
     ]
    },
    {
     "name": "stderr",
     "output_type": "stream",
     "text": [
      "718it [00:18, 28.03it/s]"
     ]
    },
    {
     "name": "stdout",
     "output_type": "stream",
     "text": [
      "Error creating CFG. Returning empty DataFrames.\n",
      "Error creating CFG. Returning empty DataFrames.\n",
      "Error creating CFG. Returning empty DataFrames.\n",
      "Error creating CFG. Returning empty DataFrames.\n",
      "Error creating CFG. Returning empty DataFrames.\n",
      "Error creating CFG. Returning empty DataFrames.\n",
      "Error creating CFG. Returning empty DataFrames.\n"
     ]
    },
    {
     "name": "stderr",
     "output_type": "stream",
     "text": [
      "727it [00:18, 31.28it/s]"
     ]
    },
    {
     "name": "stdout",
     "output_type": "stream",
     "text": [
      "Error creating CFG. Returning empty DataFrames.\n",
      "Error creating CFG. Returning empty DataFrames.\n",
      "Error creating CFG. Returning empty DataFrames.\n",
      "Error creating CFG. Returning empty DataFrames.\n",
      "Error creating CFG. Returning empty DataFrames.\n",
      "WTF is this thing, build it in?? <class 'ast.Compare'>\n",
      "Error creating CFG. Returning empty DataFrames.\n"
     ]
    },
    {
     "name": "stderr",
     "output_type": "stream",
     "text": [
      "731it [00:18, 31.79it/s]"
     ]
    },
    {
     "name": "stdout",
     "output_type": "stream",
     "text": [
      "Error creating CFG. Returning empty DataFrames.\n",
      "Error creating CFG. Returning empty DataFrames.\n",
      "Error creating CFG. Returning empty DataFrames.\n",
      "Error creating CFG. Returning empty DataFrames.\n",
      "Error creating CFG. Returning empty DataFrames.\n",
      "Error creating CFG. Returning empty DataFrames.\n"
     ]
    },
    {
     "name": "stderr",
     "output_type": "stream",
     "text": [
      "735it [00:18, 30.13it/s]"
     ]
    },
    {
     "name": "stdout",
     "output_type": "stream",
     "text": [
      "Error creating CFG. Returning empty DataFrames.\n",
      "Error creating CFG. Returning empty DataFrames.\n",
      "Error creating CFG. Returning empty DataFrames.\n",
      "Error creating CFG. Returning empty DataFrames.\n",
      "Error creating CFG. Returning empty DataFrames.\n",
      "Error creating CFG. Returning empty DataFrames.\n"
     ]
    },
    {
     "name": "stderr",
     "output_type": "stream",
     "text": [
      "749it [00:19, 39.21it/s]"
     ]
    },
    {
     "name": "stdout",
     "output_type": "stream",
     "text": [
      "Error creating CFG. Returning empty DataFrames.\n",
      "Error creating CFG. Returning empty DataFrames.\n",
      "WTF is this thing, build it in?? <class 'ast.BinOp'>\n",
      "Error creating CFG. Returning empty DataFrames.\n",
      "Error creating CFG. Returning empty DataFrames.\n",
      "Error creating CFG. Returning empty DataFrames.\n",
      "Error creating CFG. Returning empty DataFrames.\n",
      "Error creating CFG. Returning empty DataFrames.\n",
      "Error creating CFG. Returning empty DataFrames.\n",
      "Error creating CFG. Returning empty DataFrames.\n",
      "Error creating CFG. Returning empty DataFrames.\n"
     ]
    },
    {
     "name": "stderr",
     "output_type": "stream",
     "text": [
      "752it [00:19, 38.83it/s]\n"
     ]
    },
    {
     "name": "stdout",
     "output_type": "stream",
     "text": [
      "Error creating CFG. Returning empty DataFrames.\n",
      "Error creating CFG. Returning empty DataFrames.\n",
      "Error creating CFG. Returning empty DataFrames.\n",
      "Subgraphs created.\n",
      "Filtering graph nodes...\n",
      "Graph nodes filtered. Creating hierarchical edges...\n",
      "Hierarchical graph building successful.\n",
      "CG nodes: 752 | CG edges: 249\n",
      "Subgraph nodes: 0 | Subgraph edges: 0\n",
      "FV nodes: 582 | Version edges (változás): 13\n",
      "Version->Function edges: 582\n"
     ]
    },
    {
     "data": {
      "text/html": [
       "<div>\n",
       "<style scoped>\n",
       "    .dataframe tbody tr th:only-of-type {\n",
       "        vertical-align: middle;\n",
       "    }\n",
       "\n",
       "    .dataframe tbody tr th {\n",
       "        vertical-align: top;\n",
       "    }\n",
       "\n",
       "    .dataframe thead th {\n",
       "        text-align: right;\n",
       "    }\n",
       "</style>\n",
       "<table border=\"1\" class=\"dataframe\">\n",
       "  <thead>\n",
       "    <tr style=\"text-align: right;\">\n",
       "      <th></th>\n",
       "      <th>combinedName</th>\n",
       "      <th>function_code</th>\n",
       "      <th>docstring</th>\n",
       "      <th>function_location</th>\n",
       "      <th>file_id</th>\n",
       "      <th>func_id</th>\n",
       "    </tr>\n",
       "  </thead>\n",
       "  <tbody>\n",
       "    <tr>\n",
       "      <th>0</th>\n",
       "      <td>_generate_indices</td>\n",
       "      <td>def _generate_indices(random_state, bootstrap,...</td>\n",
       "      <td>Draw randomly sampled indices.</td>\n",
       "      <td>c:\\Szakdolgozat\\code-knowledge-graph\\repos\\sci...</td>\n",
       "      <td>69628587-9239-11f0-81a7-8880c1f41edd</td>\n",
       "      <td>0</td>\n",
       "    </tr>\n",
       "    <tr>\n",
       "      <th>1</th>\n",
       "      <td>_generate_bagging_indices</td>\n",
       "      <td>def _generate_bagging_indices(random_state, bo...</td>\n",
       "      <td>Randomly draw feature and sample indices.</td>\n",
       "      <td>c:\\Szakdolgozat\\code-knowledge-graph\\repos\\sci...</td>\n",
       "      <td>69628587-9239-11f0-81a7-8880c1f41edd</td>\n",
       "      <td>1</td>\n",
       "    </tr>\n",
       "    <tr>\n",
       "      <th>2</th>\n",
       "      <td>_consumes_sample_weight</td>\n",
       "      <td>def _consumes_sample_weight(estimator):\\n    i...</td>\n",
       "      <td>None</td>\n",
       "      <td>c:\\Szakdolgozat\\code-knowledge-graph\\repos\\sci...</td>\n",
       "      <td>69628587-9239-11f0-81a7-8880c1f41edd</td>\n",
       "      <td>2</td>\n",
       "    </tr>\n",
       "    <tr>\n",
       "      <th>3</th>\n",
       "      <td>_parallel_build_estimators</td>\n",
       "      <td>def _parallel_build_estimators(n_estimators, e...</td>\n",
       "      <td>Private function used to build a batch of esti...</td>\n",
       "      <td>c:\\Szakdolgozat\\code-knowledge-graph\\repos\\sci...</td>\n",
       "      <td>69628587-9239-11f0-81a7-8880c1f41edd</td>\n",
       "      <td>3</td>\n",
       "    </tr>\n",
       "    <tr>\n",
       "      <th>4</th>\n",
       "      <td>_parallel_predict_proba</td>\n",
       "      <td>def _parallel_predict_proba(estimators, estima...</td>\n",
       "      <td>Private function used to compute (proba-)predi...</td>\n",
       "      <td>c:\\Szakdolgozat\\code-knowledge-graph\\repos\\sci...</td>\n",
       "      <td>69628587-9239-11f0-81a7-8880c1f41edd</td>\n",
       "      <td>4</td>\n",
       "    </tr>\n",
       "  </tbody>\n",
       "</table>\n",
       "</div>"
      ],
      "text/plain": [
       "                 combinedName  \\\n",
       "0           _generate_indices   \n",
       "1   _generate_bagging_indices   \n",
       "2     _consumes_sample_weight   \n",
       "3  _parallel_build_estimators   \n",
       "4     _parallel_predict_proba   \n",
       "\n",
       "                                       function_code  \\\n",
       "0  def _generate_indices(random_state, bootstrap,...   \n",
       "1  def _generate_bagging_indices(random_state, bo...   \n",
       "2  def _consumes_sample_weight(estimator):\\n    i...   \n",
       "3  def _parallel_build_estimators(n_estimators, e...   \n",
       "4  def _parallel_predict_proba(estimators, estima...   \n",
       "\n",
       "                                           docstring  \\\n",
       "0                     Draw randomly sampled indices.   \n",
       "1          Randomly draw feature and sample indices.   \n",
       "2                                               None   \n",
       "3  Private function used to build a batch of esti...   \n",
       "4  Private function used to compute (proba-)predi...   \n",
       "\n",
       "                                   function_location  \\\n",
       "0  c:\\Szakdolgozat\\code-knowledge-graph\\repos\\sci...   \n",
       "1  c:\\Szakdolgozat\\code-knowledge-graph\\repos\\sci...   \n",
       "2  c:\\Szakdolgozat\\code-knowledge-graph\\repos\\sci...   \n",
       "3  c:\\Szakdolgozat\\code-knowledge-graph\\repos\\sci...   \n",
       "4  c:\\Szakdolgozat\\code-knowledge-graph\\repos\\sci...   \n",
       "\n",
       "                                file_id  func_id  \n",
       "0  69628587-9239-11f0-81a7-8880c1f41edd        0  \n",
       "1  69628587-9239-11f0-81a7-8880c1f41edd        1  \n",
       "2  69628587-9239-11f0-81a7-8880c1f41edd        2  \n",
       "3  69628587-9239-11f0-81a7-8880c1f41edd        3  \n",
       "4  69628587-9239-11f0-81a7-8880c1f41edd        4  "
      ]
     },
     "metadata": {},
     "output_type": "display_data"
    },
    {
     "data": {
      "text/html": [
       "<div>\n",
       "<style scoped>\n",
       "    .dataframe tbody tr th:only-of-type {\n",
       "        vertical-align: middle;\n",
       "    }\n",
       "\n",
       "    .dataframe tbody tr th {\n",
       "        vertical-align: top;\n",
       "    }\n",
       "\n",
       "    .dataframe thead th {\n",
       "        text-align: right;\n",
       "    }\n",
       "</style>\n",
       "<table border=\"1\" class=\"dataframe\">\n",
       "  <thead>\n",
       "    <tr style=\"text-align: right;\">\n",
       "      <th></th>\n",
       "      <th>ID</th>\n",
       "      <th>function_id</th>\n",
       "      <th>symbol_id</th>\n",
       "      <th>commit_sha</th>\n",
       "      <th>authored_datetime</th>\n",
       "      <th>file_path</th>\n",
       "      <th>qualified_name</th>\n",
       "      <th>body_hash</th>\n",
       "      <th>start_line</th>\n",
       "      <th>end_line</th>\n",
       "      <th>code</th>\n",
       "    </tr>\n",
       "  </thead>\n",
       "  <tbody>\n",
       "    <tr>\n",
       "      <th>0</th>\n",
       "      <td>1</td>\n",
       "      <td>0</td>\n",
       "      <td>sklearn/ensemble/_bagging.py::_generate_indices</td>\n",
       "      <td>031d2f83b7c9d1027d1477abb2bf34652621d603</td>\n",
       "      <td>2025-06-16T14:13:11+02:00</td>\n",
       "      <td>sklearn/ensemble/_bagging.py</td>\n",
       "      <td>_generate_indices</td>\n",
       "      <td>7065b3bfb7be3c255c29833d49de1f82dad21b912b7f23...</td>\n",
       "      <td>54</td>\n",
       "      <td>64</td>\n",
       "      <td>def _generate_indices(random_state, bootstrap,...</td>\n",
       "    </tr>\n",
       "    <tr>\n",
       "      <th>1</th>\n",
       "      <td>2</td>\n",
       "      <td>1</td>\n",
       "      <td>sklearn/ensemble/_bagging.py::_generate_baggin...</td>\n",
       "      <td>031d2f83b7c9d1027d1477abb2bf34652621d603</td>\n",
       "      <td>2025-06-16T14:13:11+02:00</td>\n",
       "      <td>sklearn/ensemble/_bagging.py</td>\n",
       "      <td>_generate_bagging_indices</td>\n",
       "      <td>d025744d1242de7f1e7eee0ce91f7d3ecc15e50e466df8...</td>\n",
       "      <td>67</td>\n",
       "      <td>98</td>\n",
       "      <td>def _generate_bagging_indices(\\n    random_sta...</td>\n",
       "    </tr>\n",
       "    <tr>\n",
       "      <th>2</th>\n",
       "      <td>3</td>\n",
       "      <td>2</td>\n",
       "      <td>sklearn/ensemble/_bagging.py::_consumes_sample...</td>\n",
       "      <td>031d2f83b7c9d1027d1477abb2bf34652621d603</td>\n",
       "      <td>2025-06-16T14:13:11+02:00</td>\n",
       "      <td>sklearn/ensemble/_bagging.py</td>\n",
       "      <td>_consumes_sample_weight</td>\n",
       "      <td>59138ceee7de4a106dab80f8fac5ee86ad809763bea9f7...</td>\n",
       "      <td>101</td>\n",
       "      <td>107</td>\n",
       "      <td>def _consumes_sample_weight(estimator):\\n    i...</td>\n",
       "    </tr>\n",
       "    <tr>\n",
       "      <th>3</th>\n",
       "      <td>4</td>\n",
       "      <td>3</td>\n",
       "      <td>sklearn/ensemble/_bagging.py::_parallel_build_...</td>\n",
       "      <td>031d2f83b7c9d1027d1477abb2bf34652621d603</td>\n",
       "      <td>2025-06-16T14:13:11+02:00</td>\n",
       "      <td>sklearn/ensemble/_bagging.py</td>\n",
       "      <td>_parallel_build_estimators</td>\n",
       "      <td>9d770628874e2c7158754e7ef72cc78a1ff5f0bed3022d...</td>\n",
       "      <td>110</td>\n",
       "      <td>188</td>\n",
       "      <td>def _parallel_build_estimators(\\n    n_estimat...</td>\n",
       "    </tr>\n",
       "    <tr>\n",
       "      <th>4</th>\n",
       "      <td>5</td>\n",
       "      <td>4</td>\n",
       "      <td>sklearn/ensemble/_bagging.py::_parallel_predic...</td>\n",
       "      <td>031d2f83b7c9d1027d1477abb2bf34652621d603</td>\n",
       "      <td>2025-06-16T14:13:11+02:00</td>\n",
       "      <td>sklearn/ensemble/_bagging.py</td>\n",
       "      <td>_parallel_predict_proba</td>\n",
       "      <td>f32b843b1ef8017f584a32209d585d601b1fbf7cfd328b...</td>\n",
       "      <td>191</td>\n",
       "      <td>226</td>\n",
       "      <td>def _parallel_predict_proba(\\n    estimators,\\...</td>\n",
       "    </tr>\n",
       "  </tbody>\n",
       "</table>\n",
       "</div>"
      ],
      "text/plain": [
       "   ID  function_id                                          symbol_id  \\\n",
       "0   1            0    sklearn/ensemble/_bagging.py::_generate_indices   \n",
       "1   2            1  sklearn/ensemble/_bagging.py::_generate_baggin...   \n",
       "2   3            2  sklearn/ensemble/_bagging.py::_consumes_sample...   \n",
       "3   4            3  sklearn/ensemble/_bagging.py::_parallel_build_...   \n",
       "4   5            4  sklearn/ensemble/_bagging.py::_parallel_predic...   \n",
       "\n",
       "                                 commit_sha          authored_datetime  \\\n",
       "0  031d2f83b7c9d1027d1477abb2bf34652621d603  2025-06-16T14:13:11+02:00   \n",
       "1  031d2f83b7c9d1027d1477abb2bf34652621d603  2025-06-16T14:13:11+02:00   \n",
       "2  031d2f83b7c9d1027d1477abb2bf34652621d603  2025-06-16T14:13:11+02:00   \n",
       "3  031d2f83b7c9d1027d1477abb2bf34652621d603  2025-06-16T14:13:11+02:00   \n",
       "4  031d2f83b7c9d1027d1477abb2bf34652621d603  2025-06-16T14:13:11+02:00   \n",
       "\n",
       "                      file_path              qualified_name  \\\n",
       "0  sklearn/ensemble/_bagging.py           _generate_indices   \n",
       "1  sklearn/ensemble/_bagging.py   _generate_bagging_indices   \n",
       "2  sklearn/ensemble/_bagging.py     _consumes_sample_weight   \n",
       "3  sklearn/ensemble/_bagging.py  _parallel_build_estimators   \n",
       "4  sklearn/ensemble/_bagging.py     _parallel_predict_proba   \n",
       "\n",
       "                                           body_hash  start_line  end_line  \\\n",
       "0  7065b3bfb7be3c255c29833d49de1f82dad21b912b7f23...          54        64   \n",
       "1  d025744d1242de7f1e7eee0ce91f7d3ecc15e50e466df8...          67        98   \n",
       "2  59138ceee7de4a106dab80f8fac5ee86ad809763bea9f7...         101       107   \n",
       "3  9d770628874e2c7158754e7ef72cc78a1ff5f0bed3022d...         110       188   \n",
       "4  f32b843b1ef8017f584a32209d585d601b1fbf7cfd328b...         191       226   \n",
       "\n",
       "                                                code  \n",
       "0  def _generate_indices(random_state, bootstrap,...  \n",
       "1  def _generate_bagging_indices(\\n    random_sta...  \n",
       "2  def _consumes_sample_weight(estimator):\\n    i...  \n",
       "3  def _parallel_build_estimators(\\n    n_estimat...  \n",
       "4  def _parallel_predict_proba(\\n    estimators,\\...  "
      ]
     },
     "metadata": {},
     "output_type": "display_data"
    },
    {
     "data": {
      "text/html": [
       "<div>\n",
       "<style scoped>\n",
       "    .dataframe tbody tr th:only-of-type {\n",
       "        vertical-align: middle;\n",
       "    }\n",
       "\n",
       "    .dataframe tbody tr th {\n",
       "        vertical-align: top;\n",
       "    }\n",
       "\n",
       "    .dataframe thead th {\n",
       "        text-align: right;\n",
       "    }\n",
       "</style>\n",
       "<table border=\"1\" class=\"dataframe\">\n",
       "  <thead>\n",
       "    <tr style=\"text-align: right;\">\n",
       "      <th></th>\n",
       "      <th>source</th>\n",
       "      <th>target</th>\n",
       "      <th>commit_sha</th>\n",
       "      <th>authored_datetime</th>\n",
       "      <th>author_name</th>\n",
       "      <th>author_email</th>\n",
       "      <th>message</th>\n",
       "      <th>file_path</th>\n",
       "      <th>qualified_name</th>\n",
       "    </tr>\n",
       "  </thead>\n",
       "  <tbody>\n",
       "    <tr>\n",
       "      <th>0</th>\n",
       "      <td>17</td>\n",
       "      <td>18</td>\n",
       "      <td>1c5c8f03659d303e4df8fd08813c9fb35a0c0e35</td>\n",
       "      <td>2025-09-05T11:55:25+02:00</td>\n",
       "      <td>Adrin Jalali</td>\n",
       "      <td>adrin.jalali@gmail.com</td>\n",
       "      <td>MNT refactoring in routing _MetadataRequester ...</td>\n",
       "      <td>sklearn/ensemble/_bagging.py</td>\n",
       "      <td>BaseBagging.get_metadata_routing</td>\n",
       "    </tr>\n",
       "    <tr>\n",
       "      <th>1</th>\n",
       "      <td>98</td>\n",
       "      <td>99</td>\n",
       "      <td>0ca4ac2a26f2067f614db8fe024212342ebf71ba</td>\n",
       "      <td>2025-07-23T19:03:08+06:00</td>\n",
       "      <td>S. M. Mohiuddin Khan Shiam</td>\n",
       "      <td>147746955+mohiuddin-khan-shiam@users.noreply.g...</td>\n",
       "      <td>MNT Use float64 epsilon when clipping initial ...</td>\n",
       "      <td>sklearn/ensemble/_gb.py</td>\n",
       "      <td>compute_update</td>\n",
       "    </tr>\n",
       "    <tr>\n",
       "      <th>2</th>\n",
       "      <td>99</td>\n",
       "      <td>100</td>\n",
       "      <td>0ca4ac2a26f2067f614db8fe024212342ebf71ba</td>\n",
       "      <td>2025-07-23T19:03:08+06:00</td>\n",
       "      <td>S. M. Mohiuddin Khan Shiam</td>\n",
       "      <td>147746955+mohiuddin-khan-shiam@users.noreply.g...</td>\n",
       "      <td>MNT Use float64 epsilon when clipping initial ...</td>\n",
       "      <td>sklearn/ensemble/_gb.py</td>\n",
       "      <td>compute_update</td>\n",
       "    </tr>\n",
       "    <tr>\n",
       "      <th>3</th>\n",
       "      <td>100</td>\n",
       "      <td>101</td>\n",
       "      <td>0ca4ac2a26f2067f614db8fe024212342ebf71ba</td>\n",
       "      <td>2025-07-23T19:03:08+06:00</td>\n",
       "      <td>S. M. Mohiuddin Khan Shiam</td>\n",
       "      <td>147746955+mohiuddin-khan-shiam@users.noreply.g...</td>\n",
       "      <td>MNT Use float64 epsilon when clipping initial ...</td>\n",
       "      <td>sklearn/ensemble/_gb.py</td>\n",
       "      <td>compute_update</td>\n",
       "    </tr>\n",
       "    <tr>\n",
       "      <th>4</th>\n",
       "      <td>101</td>\n",
       "      <td>102</td>\n",
       "      <td>1fe659545c70d9f805c1c4097dd2fce9a6285a12</td>\n",
       "      <td>2025-07-29T15:42:22+02:00</td>\n",
       "      <td>Loïc Estève</td>\n",
       "      <td>loic.esteve@ymail.com</td>\n",
       "      <td>MNT Switch to absolute imports enforced by `ru...</td>\n",
       "      <td>sklearn/ensemble/_gb.py</td>\n",
       "      <td>compute_update</td>\n",
       "    </tr>\n",
       "  </tbody>\n",
       "</table>\n",
       "</div>"
      ],
      "text/plain": [
       "   source  target                                commit_sha  \\\n",
       "0      17      18  1c5c8f03659d303e4df8fd08813c9fb35a0c0e35   \n",
       "1      98      99  0ca4ac2a26f2067f614db8fe024212342ebf71ba   \n",
       "2      99     100  0ca4ac2a26f2067f614db8fe024212342ebf71ba   \n",
       "3     100     101  0ca4ac2a26f2067f614db8fe024212342ebf71ba   \n",
       "4     101     102  1fe659545c70d9f805c1c4097dd2fce9a6285a12   \n",
       "\n",
       "           authored_datetime                 author_name  \\\n",
       "0  2025-09-05T11:55:25+02:00                Adrin Jalali   \n",
       "1  2025-07-23T19:03:08+06:00  S. M. Mohiuddin Khan Shiam   \n",
       "2  2025-07-23T19:03:08+06:00  S. M. Mohiuddin Khan Shiam   \n",
       "3  2025-07-23T19:03:08+06:00  S. M. Mohiuddin Khan Shiam   \n",
       "4  2025-07-29T15:42:22+02:00                 Loïc Estève   \n",
       "\n",
       "                                        author_email  \\\n",
       "0                             adrin.jalali@gmail.com   \n",
       "1  147746955+mohiuddin-khan-shiam@users.noreply.g...   \n",
       "2  147746955+mohiuddin-khan-shiam@users.noreply.g...   \n",
       "3  147746955+mohiuddin-khan-shiam@users.noreply.g...   \n",
       "4                              loic.esteve@ymail.com   \n",
       "\n",
       "                                             message  \\\n",
       "0  MNT refactoring in routing _MetadataRequester ...   \n",
       "1  MNT Use float64 epsilon when clipping initial ...   \n",
       "2  MNT Use float64 epsilon when clipping initial ...   \n",
       "3  MNT Use float64 epsilon when clipping initial ...   \n",
       "4  MNT Switch to absolute imports enforced by `ru...   \n",
       "\n",
       "                      file_path                    qualified_name  \n",
       "0  sklearn/ensemble/_bagging.py  BaseBagging.get_metadata_routing  \n",
       "1       sklearn/ensemble/_gb.py                    compute_update  \n",
       "2       sklearn/ensemble/_gb.py                    compute_update  \n",
       "3       sklearn/ensemble/_gb.py                    compute_update  \n",
       "4       sklearn/ensemble/_gb.py                    compute_update  "
      ]
     },
     "metadata": {},
     "output_type": "display_data"
    }
   ],
   "source": [
    "# -- 1) Hierarchical Graph (CG + Subgraphok + FV az új sémában) --\n",
    "hg = HierarchicalGraphBuilder()\n",
    "\n",
    "cg_nodes, cg_edges, sub_nodes, sub_edges, hier_sub2main, hier_main2sub, imports, function_version_nodes, version_edges, fv_func_edges = hg.create_hierarchical_graph(\n",
    "    path=str(ANALYSIS_PATH),\n",
    "    return_type=\"pandas\",\n",
    "    repo_functions_only=True,\n",
    "    graph_type=\"CFG\",\n",
    "    create_embedding=False,\n",
    "    remove_isolated=False,\n",
    "    remove_subgraph_missing=False,\n",
    "    repo_root_override=str(REPO_ROOT)\n",
    ")\n",
    "\n",
    "print(\"CG nodes:\", len(cg_nodes), \"| CG edges:\", len(cg_edges))\n",
    "print(\"Subgraph nodes:\", len(sub_nodes), \"| Subgraph edges:\", len(sub_edges))\n",
    "print(\"FV nodes:\", len(function_version_nodes), \"| Version edges (változás):\", len(version_edges))\n",
    "print(\"Version->Function edges:\", len(fv_func_edges))\n",
    "\n",
    "display(cg_nodes.head(5))\n",
    "display(function_version_nodes.head(5))\n",
    "display(version_edges.head(5))\n"
   ]
  },
  {
   "cell_type": "code",
   "execution_count": 5,
   "id": "e978ea21",
   "metadata": {},
   "outputs": [
    {
     "name": "stdout",
     "output_type": "stream",
     "text": [
      "Sanity check OK ✓\n"
     ]
    }
   ],
   "source": [
    "# -- 2) Gyors sanity check az új sémára --\n",
    "# FV node-ok minimális oszlopai\n",
    "required_fv_cols = {\"ID\",\"symbol_id\",\"commit_sha\",\"qualified_name\",\"body_hash\",\"file_path\",\"authored_datetime\",\"code\"}\n",
    "missing_fv = required_fv_cols - set(function_version_nodes.columns)\n",
    "assert not missing_fv, f\"Hiányzó oszlop(ok) a function_version_nodes-ban: {missing_fv}\"\n",
    "\n",
    "# Version edges minimális oszlopai (commit meta az éleken)\n",
    "required_ve_cols = {\"source\",\"target\",\"commit_sha\",\"authored_datetime\",\"author_name\",\"author_email\",\"message\",\"file_path\",\"qualified_name\"}\n",
    "missing_ve = required_ve_cols - set(version_edges.columns)\n",
    "assert not missing_ve, f\"Hiányzó oszlop(ok) a version_edges-ben: {missing_ve}\"\n",
    "\n",
    "# Version -> Function kapcsolatok\n",
    "assert set(fv_func_edges.columns) >= {\"source\",\"target\"}, \"Hiányoznak az éloszlopok a version->function táblában.\"\n",
    "\n",
    "print(\"Sanity check OK ✓\")\n"
   ]
  },
  {
   "cell_type": "code",
   "execution_count": null,
   "id": "94b6181e",
   "metadata": {},
   "outputs": [],
   "source": [
    "display(cg_nodes.head(5))\n",
    "display(function_version_nodes.head(5))\n",
    "display(version_edges.head(5))"
   ]
  }
 ],
 "metadata": {
  "kernelspec": {
   "display_name": "venv (3.11.9)",
   "language": "python",
   "name": "python3"
  },
  "language_info": {
   "codemirror_mode": {
    "name": "ipython",
    "version": 3
   },
   "file_extension": ".py",
   "mimetype": "text/x-python",
   "name": "python",
   "nbconvert_exporter": "python",
   "pygments_lexer": "ipython3",
   "version": "3.11.9"
  }
 },
 "nbformat": 4,
 "nbformat_minor": 5
}
